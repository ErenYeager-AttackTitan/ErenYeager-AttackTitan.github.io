{
 "cells": [
  {
   "cell_type": "code",
   "execution_count": null,
   "metadata": {},
   "outputs": [],
   "source": [
    "# load Data/movie.metadata.tsv\n",
    "import pandas as pd\n",
    "import re\n",
    "import numpy as np\n",
    "import matplotlib.pyplot as plt"
   ]
  },
  {
   "cell_type": "code",
   "execution_count": null,
   "metadata": {},
   "outputs": [],
   "source": [
    "DATA_PATH = 'Data/'\n",
    "def load_movie_df():\n",
    "    '''Load the movie metadata from the CoreNLP files'''\n",
    "    def strip_encoding(x): return np.nan if x == '{}' else [w.replace(\n",
    "        ' Language', '').replace(' language', '') for w in re.findall(r'\"(.*?)\"', x)[1::2]]\n",
    "\n",
    "    movie_path = DATA_PATH + 'movie.metadata.tsv'\n",
    "    movie_cols = ['Wikipedia ID', 'Freebase ID', 'Name', 'Release date',\n",
    "                  'Box office revenue', 'Runtime', 'Languages', 'Countries', 'Genres']\n",
    "    movie_df = pd.read_csv(movie_path, sep='\\t', header=None,\n",
    "                           names=movie_cols, index_col=False, dtype={'Freebase ID': str})\n",
    "    movie_df['Languages'] = movie_df['Languages'].apply(strip_encoding)\n",
    "    movie_df['Countries'] = movie_df['Countries'].apply(strip_encoding)\n",
    "    movie_df['Genres'] = movie_df['Genres'].apply(strip_encoding)\n",
    "    return movie_df"
   ]
  },
  {
   "cell_type": "code",
   "execution_count": null,
   "metadata": {},
   "outputs": [],
   "source": [
    "movie_df = load_movie_df()"
   ]
  },
  {
   "cell_type": "code",
   "execution_count": null,
   "metadata": {},
   "outputs": [],
   "source": [
    "# Get relaase date by decade\n",
    "movie_df = movie_df[~movie_df['Release date'].isna()]\n",
    "movie_df['Release date year'] = movie_df['Release date'].apply(\n",
    "    lambda x: int(str(x)[:4]))\n",
    "movie_df['Release date decade'] = movie_df['Release date year'].apply(\n",
    "    lambda x: int(x/10)*10)\n",
    "movie_df['Release date decade'].value_counts()\n"
   ]
  },
  {
   "cell_type": "code",
   "execution_count": null,
   "metadata": {},
   "outputs": [],
   "source": [
    "#romance_genres = ['Romantic comedy', 'Romance Film', 'Romantic drama', 'Romantic fantasy', 'Romantic thriller']\n",
    "#romance_genres = ['Drama', 'Comedy', 'Romance Film', 'Black-and-white', 'Action', 'Thriller', 'Short Film', 'World cinema', 'Crime Fiction', 'Indie']\n",
    "# Take the top 20 genres and look at their evolution through time\n",
    "romance_genres = ['Drama',\n",
    "                  'Comedy',\n",
    "                  'Romance Film',\n",
    "                  'Black-and-white',\n",
    "                  'Action',\n",
    "                  'Thriller',\n",
    "                  'Short Film',\n",
    "                  'World cinema',\n",
    "                  'Crime Fiction',\n",
    "                  'Indie',\n",
    "                  'Documentary',\n",
    "                  'Horror',\n",
    "                  'Silent film',\n",
    "                  'Adventure',\n",
    "                  'Family Film',\n",
    "                  'Action/Adventure',\n",
    "                  'Comedy film',\n",
    "                  'Musical',\n",
    "                  'Animation',\n",
    "                  'Romantic drama']\n",
    "\n",
    "\n",
    "def is_romantic(i): return lambda x: any(\n",
    "    y in romance_genres[i] for y in x) if type(x) == list else False\n",
    "\n",
    "\n",
    "romance_movies = movie_df[movie_df['Genres'].apply(is_romantic(slice(0, 5)))]\n",
    "romance_movies = romance_movies[~romance_movies['Release date'].isna()]\n",
    "\n",
    "# For romance movies, plotly the proportion of romantic genres per decade with a slider\n",
    "# Create a dictionary with the number of movies per decade per genre\n",
    "genre_counts = {}\n",
    "for year in range(1880, 2021, 10):\n",
    "    genre_counts[year] = {}\n",
    "    for genre in romance_genres:\n",
    "        genre_counts[year][genre] = romance_movies[romance_movies['Release date'].apply(\n",
    "            lambda x: year <= int(str(x)[:4]) < (year+10)) & romance_movies['Genres'].apply(lambda x: (genre in x))]\n",
    "\n",
    "genre_counts_prop = {}\n",
    "for year in range(1880, 2020, 10):\n",
    "    genre_counts_prop[year] = {}\n",
    "    for genre in genre_counts[year].keys():\n",
    "        genre_counts_prop[year][genre] = len(genre_counts[year][genre])\n",
    "\n",
    "\n",
    "# Create a dataframe with the proportion of movies per year per genre\n",
    "genre_counts_prop_df = pd.DataFrame(genre_counts_prop)\n",
    "genre_counts_prop_df = genre_counts_prop_df.reset_index()\n",
    "genre_counts_prop_df = genre_counts_prop_df.rename(columns={'index': 'Genre'})\n",
    "genre_counts_prop_df = genre_counts_prop_df.melt(\n",
    "    id_vars=['Genre'], var_name='Decade', value_name='Number of movies')\n",
    "genre_counts_prop_df['Proportion of movies'] = genre_counts_prop_df.apply(\n",
    "    lambda x: x['Number of movies'] / movie_df['Release date decade'].value_counts()[x['Decade']], axis=1)\n",
    "genre_counts_prop_df['Proportion of movies in percentage'] = genre_counts_prop_df['Proportion of movies'].apply(\n",
    "    lambda x: round(x*100, 2))\n",
    "genre_counts_prop_df['Number of movies'] = genre_counts_prop_df['Number of movies'].apply(\n",
    "    lambda x: \"Nbr movies: \" + str(x))\n"
   ]
  },
  {
   "cell_type": "code",
   "execution_count": null,
   "metadata": {},
   "outputs": [],
   "source": [
    "import plotly.express as px\n",
    "\n",
    "fig = px.bar(genre_counts_prop_df, x=\"Genre\", y=\"Proportion of movies in percentage\", animation_frame=\"Decade\",\n",
    "             animation_group=\"Genre\", color=\"Genre\", hover_name=\"Number of movies\", range_y=[0, 80])\n",
    "\n",
    "fig[\"layout\"].pop(\"updatemenus\")  # optional, drop animation buttons\n",
    "# move the animation button a bit up\n",
    "fig.update_layout(updatemenus=[dict(type=\"buttons\", x=-0.1, y=1, xanchor=\"left\", yanchor=\"bottom\")])\n",
    "fig.update_layout(showlegend=False)\n",
    "# Add horizontal raster lines\n",
    "\n",
    "\n",
    "\n",
    "fig.update_layout(\n",
    "    title=\"Distribution of movies genres across time\",\n",
    "    yaxis_title=\"Proportion of movies\",\n",
    "    xaxis_title=\"\"\n",
    ")\n",
    "# control the speed of the animation\n",
    "fig.update_layout(\n",
    "    updatemenus=[\n",
    "        dict(\n",
    "            type=\"buttons\",\n",
    "           \n",
    "            buttons=[\n",
    "                dict(\n",
    "                    args=[None, {\"frame\": {\"duration\": 500, \"redraw\": False},\n",
    "                                 \"fromcurrent\": True, \"transition\": {\"duration\": 400, \"easing\": \"quadratic-in-out\"}}],\n",
    "                    label=\"Play\",\n",
    "                    method=\"animate\"\n",
    "                    # white \n",
    "                ),\n",
    "                dict(\n",
    "                    args=[[None], {\"frame\": {\"duration\": 0, \"redraw\": False},\n",
    "                                   \"mode\": \"immediate\",\n",
    "                                   \"transition\": {\"duration\": 0}}],\n",
    "                    label=\"Pause\",\n",
    "                    method=\"animate\"\n",
    "                )\n",
    "            ]\n",
    "        )\n",
    "    ]\n",
    ")\n",
    "fig.update_layout(\n",
    "    title={\n",
    "        'text': \"Distribution of movies genres across time\",\n",
    "        'y': 0.98,\n",
    "        'x': 0.5,\n",
    "        'xanchor': 'center',\n",
    "        'yanchor': 'top'})\n",
    "\n",
    "\n",
    "# remove x axis title\n",
    "fig.update_xaxes(title_text='')\n",
    "fig.write_html(\"Plots/genre_distrib.html\")\n",
    "fig.show()\n"
   ]
  },
  {
   "attachments": {},
   "cell_type": "markdown",
   "metadata": {},
   "source": [
    "## Wordclouds"
   ]
  },
  {
   "cell_type": "code",
   "execution_count": null,
   "metadata": {},
   "outputs": [],
   "source": [
    "final_df = pd.read_csv('Data/final_df.csv', sep='\\t')\n",
    "import wordcloud"
   ]
  },
  {
   "cell_type": "code",
   "execution_count": null,
   "metadata": {},
   "outputs": [],
   "source": [
    "final_df = final_df[~final_df['filtered_descriptions'].isna()]\n",
    "# from column descriptions, remove brackets, apostrophes and then split by comma to get a list. Execute on column descriptions\n",
    "final_df['filtered_descriptions'] = final_df['filtered_descriptions'].apply(lambda x: x.replace('[', '').replace(']', '').replace(\"'\", '').split(', '))\n",
    "# Remove duplicates of Freebase character ID of final_df\n",
    "final_df = final_df.drop_duplicates(subset=['Freebase character ID'])\n",
    "# Get a dictionary with as key the label number and as value a pandas dataframe of characters with that label, and only the descriptions\n",
    "\n",
    "\n",
    "# Create a dictionary with as key the label number and as value a pandas dataframe of characters with that label, and only the descriptions\n",
    "label_dict = {}\n",
    "for label in final_df['labels'].unique():\n",
    "    # Get a list of all the descriptions of the characters with that label\n",
    "    label_dict[label] = final_df[final_df['labels']\n",
    "                                 == label]['filtered_descriptions'].tolist()\n",
    "label_dict = {k: [item for sublist in v for item in sublist]\n",
    "              for k, v in label_dict.items()}\n"
   ]
  },
  {
   "cell_type": "code",
   "execution_count": null,
   "metadata": {},
   "outputs": [],
   "source": [
    "# Get top 10 most frequent words for each label\n",
    "top_10_words = {}\n",
    "for label in label_dict_titles_attributes.keys():\n",
    "    top_10_words[label] = pd.Series(\n",
    "        ' '.join(label_dict[label]).split()).value_counts()[:10]\n",
    "\n",
    "# Get a list of all the words that are in the top 10 words of any label\n",
    "top_10_words_list = []\n",
    "for label in top_10_words.keys():\n",
    "    top_10_words_list.extend(top_10_words[label].index)\n",
    "\n",
    "# If a word is in the top 10 words for more than 7 labels, remove it from each list\n",
    "for word in top_10_words_list:\n",
    "    if sum([word in top_10_words[label].index for label in top_10_words.keys()]) > 3:\n",
    "        print(word)\n",
    "        for label in top_10_words.keys():\n",
    "            # Drop the word from the list of words in label_dict\n",
    "            label_dict_titles_attributes[label] = [x for x in label_dict_titles_attributes[label] if x != word]"
   ]
  },
  {
   "cell_type": "code",
   "execution_count": null,
   "metadata": {},
   "outputs": [],
   "source": [
    "# Create the same dictionary, but now with titles instead of descriptions\n",
    "# drop na\n",
    "final_df = final_df[~final_df['title'].isna()]\n",
    "# From column title, remove apostrophes and then split by comma to get a list. Execute on column title\n",
    "final_df['title'] = final_df['title'].apply(lambda x: x.replace('[', '').replace(']', '').replace(\"'\", '').split(', '))\n",
    "label_dict_titles = {}\n",
    "for label in final_df['labels'].unique():\n",
    "    # Get a list of all the descriptions of the characters with that label\n",
    "    label_dict_titles[label] = final_df[final_df['labels']\n",
    "                                        == label]['title'].tolist()\n",
    "label_dict_titles = {k: [item for sublist in v for item in sublist]\n",
    "                        for k, v in label_dict_titles.items()}\n"
   ]
  },
  {
   "cell_type": "code",
   "execution_count": null,
   "metadata": {},
   "outputs": [],
   "source": [
    "# Create the same dictionary, but now for attributes\n",
    "# drop na\n",
    "final_df = final_df[~final_df['attributes'].isna()]\n",
    "# From column title, remove apostrophes and then split by comma to get a list. Execute on column title\n",
    "final_df['attributes'] = final_df['attributes'].apply(\n",
    "    lambda x: x.replace('[', '').replace(']', '').replace(\"'\", '').split(', '))\n",
    "label_dict_attributes = {}\n",
    "for label in final_df['labels'].unique():\n",
    "    # Get a list of all the descriptions of the characters with that label\n",
    "    label_dict_attributes[label] = final_df[final_df['labels']\n",
    "                                        == label]['attributes'].tolist()\n",
    "label_dict_attributes = {k: [item for sublist in v for item in sublist]\n",
    "                        for k, v in label_dict_attributes.items()}\n"
   ]
  },
  {
   "cell_type": "code",
   "execution_count": null,
   "metadata": {},
   "outputs": [],
   "source": [
    "# For each key, combine the two values of label_dict_titles and label_dict_attributes. Each value is a list, thus append the two lists\n",
    "label_dict_titles_attributes = {}\n",
    "for key in label_dict_titles.keys():\n",
    "    label_dict_titles_attributes[key] = label_dict_titles[key] + label_dict_attributes[key]"
   ]
  },
  {
   "cell_type": "code",
   "execution_count": null,
   "metadata": {},
   "outputs": [],
   "source": [
    "wordclouds = {}\n",
    "# For each key in the dictionary, create a wordcloud. Save the wordcloud in a dictionary with the key as key\n",
    "for key in label_dict.keys():\n",
    "    wordclouds[key] = wordcloud.WordCloud(width=800, height=400, background_color=\"white\").generate(\n",
    "        ' '.join(label_dict[key]))\n",
    "        "
   ]
  },
  {
   "cell_type": "code",
   "execution_count": null,
   "metadata": {},
   "outputs": [],
   "source": [
    "wordclouds = {}\n",
    "# For each key in the dictionary, create a wordcloud. Save the wordcloud in a dictionary with the key as key\n",
    "for key in label_dict.keys():\n",
    "    wordclouds[key] = wordcloud.WordCloud(width=800, height=400, background_color=\"white\").generate(\n",
    "        ' '.join(label_dict_titles_attributes[key]))\n"
   ]
  },
  {
   "cell_type": "code",
   "execution_count": null,
   "metadata": {},
   "outputs": [],
   "source": [
    "# for all the wordclouds, plot them and save them\n",
    "for i in wordclouds.keys():\n",
    "    # plot the WordCloud image\n",
    "    plt.figure(figsize=(8, 8), facecolor=None)\n",
    "    plt.imshow(wordclouds[i])\n",
    "    plt.axis(\"off\")\n",
    "    plt.tight_layout(pad=0)\n",
    "    # Save as jpg to folder Plots/wordclouds/wordcloud_label_{}.jpg\n",
    "    plt.savefig('Plots/Wordcloud/wordcloud_label_{}.jpg'.format(i))\n"
   ]
  },
  {
   "cell_type": "code",
   "execution_count": null,
   "metadata": {},
   "outputs": [],
   "source": [
    "# print 20 "
   ]
  }
 ],
 "metadata": {
  "kernelspec": {
   "display_name": "base",
   "language": "python",
   "name": "python3"
  },
  "language_info": {
   "codemirror_mode": {
    "name": "ipython",
    "version": 3
   },
   "file_extension": ".py",
   "mimetype": "text/x-python",
   "name": "python",
   "nbconvert_exporter": "python",
   "pygments_lexer": "ipython3",
   "version": "3.9.12"
  },
  "orig_nbformat": 4,
  "vscode": {
   "interpreter": {
    "hash": "cda0ac541ab6c535dcb4ffe1de6394d0d0ba460ea4bcec2c3250fd08f595b9ac"
   }
  }
 },
 "nbformat": 4,
 "nbformat_minor": 2
}

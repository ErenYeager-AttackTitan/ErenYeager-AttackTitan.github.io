{
 "cells": [
  {
   "cell_type": "code",
   "execution_count": 1,
   "metadata": {},
   "outputs": [],
   "source": [
    "# load Data/movie.metadata.tsv\n",
    "import pandas as pd\n",
    "import re\n",
    "import numpy as np\n",
    "import matplotlib.pyplot as plt"
   ]
  },
  {
   "cell_type": "code",
   "execution_count": 2,
   "metadata": {},
   "outputs": [],
   "source": [
    "DATA_PATH = 'Data/'\n",
    "def load_movie_df():\n",
    "    '''Load the movie metadata from the CoreNLP files'''\n",
    "    def strip_encoding(x): return np.nan if x == '{}' else [w.replace(\n",
    "        ' Language', '').replace(' language', '') for w in re.findall(r'\"(.*?)\"', x)[1::2]]\n",
    "\n",
    "    movie_path = DATA_PATH + 'movie.metadata.tsv'\n",
    "    movie_cols = ['Wikipedia ID', 'Freebase ID', 'Name', 'Release date',\n",
    "                  'Box office revenue', 'Runtime', 'Languages', 'Countries', 'Genres']\n",
    "    movie_df = pd.read_csv(movie_path, sep='\\t', header=None,\n",
    "                           names=movie_cols, index_col=False, dtype={'Freebase ID': str})\n",
    "    movie_df['Languages'] = movie_df['Languages'].apply(strip_encoding)\n",
    "    movie_df['Countries'] = movie_df['Countries'].apply(strip_encoding)\n",
    "    movie_df['Genres'] = movie_df['Genres'].apply(strip_encoding)\n",
    "    return movie_df"
   ]
  },
  {
   "cell_type": "code",
   "execution_count": 3,
   "metadata": {},
   "outputs": [],
   "source": [
    "movie_df = load_movie_df()"
   ]
  },
  {
   "cell_type": "code",
   "execution_count": 4,
   "metadata": {},
   "outputs": [
    {
     "data": {
      "text/plain": [
       "2000    19268\n",
       "1990     9469\n",
       "1980     7397\n",
       "1970     6716\n",
       "1960     5875\n",
       "1950     5723\n",
       "2010     5228\n",
       "1930     4800\n",
       "1940     4466\n",
       "1920     2883\n",
       "1910     2669\n",
       "1900      193\n",
       "1890      149\n",
       "1880        2\n",
       "1010        1\n",
       "Name: Release date decade, dtype: int64"
      ]
     },
     "execution_count": 4,
     "metadata": {},
     "output_type": "execute_result"
    }
   ],
   "source": [
    "# Get relaase date by decade\n",
    "movie_df = movie_df[~movie_df['Release date'].isna()]\n",
    "movie_df['Release date year'] = movie_df['Release date'].apply(\n",
    "    lambda x: int(str(x)[:4]))\n",
    "movie_df['Release date decade'] = movie_df['Release date year'].apply(\n",
    "    lambda x: int(x/10)*10)\n",
    "movie_df['Release date decade'].value_counts()\n"
   ]
  },
  {
   "cell_type": "code",
   "execution_count": 5,
   "metadata": {},
   "outputs": [],
   "source": [
    "#romance_genres = ['Romantic comedy', 'Romance Film', 'Romantic drama', 'Romantic fantasy', 'Romantic thriller']\n",
    "#romance_genres = ['Drama', 'Comedy', 'Romance Film', 'Black-and-white', 'Action', 'Thriller', 'Short Film', 'World cinema', 'Crime Fiction', 'Indie']\n",
    "# Take the top 20 genres and look at their evolution through time\n",
    "romance_genres = ['Drama',\n",
    "                  'Comedy',\n",
    "                  'Romance Film',\n",
    "                  'Black-and-white',\n",
    "                  'Action',\n",
    "                  'Thriller',\n",
    "                  'Short Film',\n",
    "                  'World cinema',\n",
    "                  'Crime Fiction',\n",
    "                  'Indie',\n",
    "                  'Documentary',\n",
    "                  'Horror',\n",
    "                  'Silent film',\n",
    "                  'Adventure',\n",
    "                  'Family Film',\n",
    "                  'Action/Adventure',\n",
    "                  'Comedy film',\n",
    "                  'Musical',\n",
    "                  'Animation',\n",
    "                  'Romantic drama']\n",
    "\n",
    "\n",
    "def is_romantic(i): return lambda x: any(\n",
    "    y in romance_genres[i] for y in x) if type(x) == list else False\n",
    "\n",
    "\n",
    "romance_movies = movie_df[movie_df['Genres'].apply(is_romantic(slice(0, 5)))]\n",
    "romance_movies = romance_movies[~romance_movies['Release date'].isna()]\n",
    "\n",
    "# For romance movies, plotly the proportion of romantic genres per decade with a slider\n",
    "# Create a dictionary with the number of movies per decade per genre\n",
    "genre_counts = {}\n",
    "for year in range(1880, 2021, 10):\n",
    "    genre_counts[year] = {}\n",
    "    for genre in romance_genres:\n",
    "        genre_counts[year][genre] = romance_movies[romance_movies['Release date'].apply(\n",
    "            lambda x: year <= int(str(x)[:4]) < (year+10)) & romance_movies['Genres'].apply(lambda x: (genre in x))]\n",
    "\n",
    "genre_counts_prop = {}\n",
    "for year in range(1880, 2020, 10):\n",
    "    genre_counts_prop[year] = {}\n",
    "    for genre in genre_counts[year].keys():\n",
    "        genre_counts_prop[year][genre] = len(genre_counts[year][genre])\n",
    "\n",
    "\n",
    "# Create a dataframe with the proportion of movies per year per genre\n",
    "genre_counts_prop_df = pd.DataFrame(genre_counts_prop)\n",
    "genre_counts_prop_df = genre_counts_prop_df.reset_index()\n",
    "genre_counts_prop_df = genre_counts_prop_df.rename(columns={'index': 'Genre'})\n",
    "genre_counts_prop_df = genre_counts_prop_df.melt(\n",
    "    id_vars=['Genre'], var_name='Decade', value_name='Number of movies')\n",
    "genre_counts_prop_df['Proportion of movies'] = genre_counts_prop_df.apply(\n",
    "    lambda x: x['Number of movies'] / movie_df['Release date decade'].value_counts()[x['Decade']], axis=1)\n",
    "genre_counts_prop_df['Proportion of movies in percentage'] = genre_counts_prop_df['Proportion of movies'].apply(\n",
    "    lambda x: round(x*100, 2))\n",
    "genre_counts_prop_df['Number of movies'] = genre_counts_prop_df['Number of movies'].apply(\n",
    "    lambda x: \"Nbr movies: \" + str(x))\n"
   ]
  },
  {
   "cell_type": "code",
   "execution_count": 34,
   "metadata": {},
   "outputs": [
    {
     "data": {
      "application/vnd.plotly.v1+json": {
       "config": {
        "plotlyServerURL": "https://plot.ly"
       },
       "data": [
        {
         "alignmentgroup": "True",
         "hovertemplate": "<b>%{hovertext}</b><br><br>Genre=%{x}<br>Decade=1880<br>Proportion of movies in percentage=%{y}<extra></extra>",
         "hovertext": [
          "Nbr movies: 0"
         ],
         "ids": [
          "Drama"
         ],
         "legendgroup": "Drama",
         "marker": {
          "color": "#636efa",
          "pattern": {
           "shape": ""
          }
         },
         "name": "Drama",
         "offsetgroup": "Drama",
         "orientation": "v",
         "showlegend": true,
         "textposition": "auto",
         "type": "bar",
         "x": [
          "Drama"
         ],
         "xaxis": "x",
         "y": [
          0
         ],
         "yaxis": "y"
        },
        {
         "alignmentgroup": "True",
         "hovertemplate": "<b>%{hovertext}</b><br><br>Genre=%{x}<br>Decade=1880<br>Proportion of movies in percentage=%{y}<extra></extra>",
         "hovertext": [
          "Nbr movies: 0"
         ],
         "ids": [
          "Comedy"
         ],
         "legendgroup": "Comedy",
         "marker": {
          "color": "#EF553B",
          "pattern": {
           "shape": ""
          }
         },
         "name": "Comedy",
         "offsetgroup": "Comedy",
         "orientation": "v",
         "showlegend": true,
         "textposition": "auto",
         "type": "bar",
         "x": [
          "Comedy"
         ],
         "xaxis": "x",
         "y": [
          0
         ],
         "yaxis": "y"
        },
        {
         "alignmentgroup": "True",
         "hovertemplate": "<b>%{hovertext}</b><br><br>Genre=%{x}<br>Decade=1880<br>Proportion of movies in percentage=%{y}<extra></extra>",
         "hovertext": [
          "Nbr movies: 0"
         ],
         "ids": [
          "Romance Film"
         ],
         "legendgroup": "Romance Film",
         "marker": {
          "color": "#00cc96",
          "pattern": {
           "shape": ""
          }
         },
         "name": "Romance Film",
         "offsetgroup": "Romance Film",
         "orientation": "v",
         "showlegend": true,
         "textposition": "auto",
         "type": "bar",
         "x": [
          "Romance Film"
         ],
         "xaxis": "x",
         "y": [
          0
         ],
         "yaxis": "y"
        },
        {
         "alignmentgroup": "True",
         "hovertemplate": "<b>%{hovertext}</b><br><br>Genre=%{x}<br>Decade=1880<br>Proportion of movies in percentage=%{y}<extra></extra>",
         "hovertext": [
          "Nbr movies: 2"
         ],
         "ids": [
          "Black-and-white"
         ],
         "legendgroup": "Black-and-white",
         "marker": {
          "color": "#ab63fa",
          "pattern": {
           "shape": ""
          }
         },
         "name": "Black-and-white",
         "offsetgroup": "Black-and-white",
         "orientation": "v",
         "showlegend": true,
         "textposition": "auto",
         "type": "bar",
         "x": [
          "Black-and-white"
         ],
         "xaxis": "x",
         "y": [
          100
         ],
         "yaxis": "y"
        },
        {
         "alignmentgroup": "True",
         "hovertemplate": "<b>%{hovertext}</b><br><br>Genre=%{x}<br>Decade=1880<br>Proportion of movies in percentage=%{y}<extra></extra>",
         "hovertext": [
          "Nbr movies: 0"
         ],
         "ids": [
          "Action"
         ],
         "legendgroup": "Action",
         "marker": {
          "color": "#FFA15A",
          "pattern": {
           "shape": ""
          }
         },
         "name": "Action",
         "offsetgroup": "Action",
         "orientation": "v",
         "showlegend": true,
         "textposition": "auto",
         "type": "bar",
         "x": [
          "Action"
         ],
         "xaxis": "x",
         "y": [
          0
         ],
         "yaxis": "y"
        },
        {
         "alignmentgroup": "True",
         "hovertemplate": "<b>%{hovertext}</b><br><br>Genre=%{x}<br>Decade=1880<br>Proportion of movies in percentage=%{y}<extra></extra>",
         "hovertext": [
          "Nbr movies: 0"
         ],
         "ids": [
          "Thriller"
         ],
         "legendgroup": "Thriller",
         "marker": {
          "color": "#19d3f3",
          "pattern": {
           "shape": ""
          }
         },
         "name": "Thriller",
         "offsetgroup": "Thriller",
         "orientation": "v",
         "showlegend": true,
         "textposition": "auto",
         "type": "bar",
         "x": [
          "Thriller"
         ],
         "xaxis": "x",
         "y": [
          0
         ],
         "yaxis": "y"
        },
        {
         "alignmentgroup": "True",
         "hovertemplate": "<b>%{hovertext}</b><br><br>Genre=%{x}<br>Decade=1880<br>Proportion of movies in percentage=%{y}<extra></extra>",
         "hovertext": [
          "Nbr movies: 2"
         ],
         "ids": [
          "Short Film"
         ],
         "legendgroup": "Short Film",
         "marker": {
          "color": "#FF6692",
          "pattern": {
           "shape": ""
          }
         },
         "name": "Short Film",
         "offsetgroup": "Short Film",
         "orientation": "v",
         "showlegend": true,
         "textposition": "auto",
         "type": "bar",
         "x": [
          "Short Film"
         ],
         "xaxis": "x",
         "y": [
          100
         ],
         "yaxis": "y"
        },
        {
         "alignmentgroup": "True",
         "hovertemplate": "<b>%{hovertext}</b><br><br>Genre=%{x}<br>Decade=1880<br>Proportion of movies in percentage=%{y}<extra></extra>",
         "hovertext": [
          "Nbr movies: 0"
         ],
         "ids": [
          "World cinema"
         ],
         "legendgroup": "World cinema",
         "marker": {
          "color": "#B6E880",
          "pattern": {
           "shape": ""
          }
         },
         "name": "World cinema",
         "offsetgroup": "World cinema",
         "orientation": "v",
         "showlegend": true,
         "textposition": "auto",
         "type": "bar",
         "x": [
          "World cinema"
         ],
         "xaxis": "x",
         "y": [
          0
         ],
         "yaxis": "y"
        },
        {
         "alignmentgroup": "True",
         "hovertemplate": "<b>%{hovertext}</b><br><br>Genre=%{x}<br>Decade=1880<br>Proportion of movies in percentage=%{y}<extra></extra>",
         "hovertext": [
          "Nbr movies: 0"
         ],
         "ids": [
          "Crime Fiction"
         ],
         "legendgroup": "Crime Fiction",
         "marker": {
          "color": "#FF97FF",
          "pattern": {
           "shape": ""
          }
         },
         "name": "Crime Fiction",
         "offsetgroup": "Crime Fiction",
         "orientation": "v",
         "showlegend": true,
         "textposition": "auto",
         "type": "bar",
         "x": [
          "Crime Fiction"
         ],
         "xaxis": "x",
         "y": [
          0
         ],
         "yaxis": "y"
        },
        {
         "alignmentgroup": "True",
         "hovertemplate": "<b>%{hovertext}</b><br><br>Genre=%{x}<br>Decade=1880<br>Proportion of movies in percentage=%{y}<extra></extra>",
         "hovertext": [
          "Nbr movies: 2"
         ],
         "ids": [
          "Indie"
         ],
         "legendgroup": "Indie",
         "marker": {
          "color": "#FECB52",
          "pattern": {
           "shape": ""
          }
         },
         "name": "Indie",
         "offsetgroup": "Indie",
         "orientation": "v",
         "showlegend": true,
         "textposition": "auto",
         "type": "bar",
         "x": [
          "Indie"
         ],
         "xaxis": "x",
         "y": [
          100
         ],
         "yaxis": "y"
        },
        {
         "alignmentgroup": "True",
         "hovertemplate": "<b>%{hovertext}</b><br><br>Genre=%{x}<br>Decade=1880<br>Proportion of movies in percentage=%{y}<extra></extra>",
         "hovertext": [
          "Nbr movies: 0"
         ],
         "ids": [
          "Documentary"
         ],
         "legendgroup": "Documentary",
         "marker": {
          "color": "#636efa",
          "pattern": {
           "shape": ""
          }
         },
         "name": "Documentary",
         "offsetgroup": "Documentary",
         "orientation": "v",
         "showlegend": true,
         "textposition": "auto",
         "type": "bar",
         "x": [
          "Documentary"
         ],
         "xaxis": "x",
         "y": [
          0
         ],
         "yaxis": "y"
        },
        {
         "alignmentgroup": "True",
         "hovertemplate": "<b>%{hovertext}</b><br><br>Genre=%{x}<br>Decade=1880<br>Proportion of movies in percentage=%{y}<extra></extra>",
         "hovertext": [
          "Nbr movies: 0"
         ],
         "ids": [
          "Horror"
         ],
         "legendgroup": "Horror",
         "marker": {
          "color": "#EF553B",
          "pattern": {
           "shape": ""
          }
         },
         "name": "Horror",
         "offsetgroup": "Horror",
         "orientation": "v",
         "showlegend": true,
         "textposition": "auto",
         "type": "bar",
         "x": [
          "Horror"
         ],
         "xaxis": "x",
         "y": [
          0
         ],
         "yaxis": "y"
        },
        {
         "alignmentgroup": "True",
         "hovertemplate": "<b>%{hovertext}</b><br><br>Genre=%{x}<br>Decade=1880<br>Proportion of movies in percentage=%{y}<extra></extra>",
         "hovertext": [
          "Nbr movies: 2"
         ],
         "ids": [
          "Silent film"
         ],
         "legendgroup": "Silent film",
         "marker": {
          "color": "#00cc96",
          "pattern": {
           "shape": ""
          }
         },
         "name": "Silent film",
         "offsetgroup": "Silent film",
         "orientation": "v",
         "showlegend": true,
         "textposition": "auto",
         "type": "bar",
         "x": [
          "Silent film"
         ],
         "xaxis": "x",
         "y": [
          100
         ],
         "yaxis": "y"
        },
        {
         "alignmentgroup": "True",
         "hovertemplate": "<b>%{hovertext}</b><br><br>Genre=%{x}<br>Decade=1880<br>Proportion of movies in percentage=%{y}<extra></extra>",
         "hovertext": [
          "Nbr movies: 0"
         ],
         "ids": [
          "Adventure"
         ],
         "legendgroup": "Adventure",
         "marker": {
          "color": "#ab63fa",
          "pattern": {
           "shape": ""
          }
         },
         "name": "Adventure",
         "offsetgroup": "Adventure",
         "orientation": "v",
         "showlegend": true,
         "textposition": "auto",
         "type": "bar",
         "x": [
          "Adventure"
         ],
         "xaxis": "x",
         "y": [
          0
         ],
         "yaxis": "y"
        },
        {
         "alignmentgroup": "True",
         "hovertemplate": "<b>%{hovertext}</b><br><br>Genre=%{x}<br>Decade=1880<br>Proportion of movies in percentage=%{y}<extra></extra>",
         "hovertext": [
          "Nbr movies: 0"
         ],
         "ids": [
          "Family Film"
         ],
         "legendgroup": "Family Film",
         "marker": {
          "color": "#FFA15A",
          "pattern": {
           "shape": ""
          }
         },
         "name": "Family Film",
         "offsetgroup": "Family Film",
         "orientation": "v",
         "showlegend": true,
         "textposition": "auto",
         "type": "bar",
         "x": [
          "Family Film"
         ],
         "xaxis": "x",
         "y": [
          0
         ],
         "yaxis": "y"
        },
        {
         "alignmentgroup": "True",
         "hovertemplate": "<b>%{hovertext}</b><br><br>Genre=%{x}<br>Decade=1880<br>Proportion of movies in percentage=%{y}<extra></extra>",
         "hovertext": [
          "Nbr movies: 0"
         ],
         "ids": [
          "Action/Adventure"
         ],
         "legendgroup": "Action/Adventure",
         "marker": {
          "color": "#19d3f3",
          "pattern": {
           "shape": ""
          }
         },
         "name": "Action/Adventure",
         "offsetgroup": "Action/Adventure",
         "orientation": "v",
         "showlegend": true,
         "textposition": "auto",
         "type": "bar",
         "x": [
          "Action/Adventure"
         ],
         "xaxis": "x",
         "y": [
          0
         ],
         "yaxis": "y"
        },
        {
         "alignmentgroup": "True",
         "hovertemplate": "<b>%{hovertext}</b><br><br>Genre=%{x}<br>Decade=1880<br>Proportion of movies in percentage=%{y}<extra></extra>",
         "hovertext": [
          "Nbr movies: 0"
         ],
         "ids": [
          "Comedy film"
         ],
         "legendgroup": "Comedy film",
         "marker": {
          "color": "#FF6692",
          "pattern": {
           "shape": ""
          }
         },
         "name": "Comedy film",
         "offsetgroup": "Comedy film",
         "orientation": "v",
         "showlegend": true,
         "textposition": "auto",
         "type": "bar",
         "x": [
          "Comedy film"
         ],
         "xaxis": "x",
         "y": [
          0
         ],
         "yaxis": "y"
        },
        {
         "alignmentgroup": "True",
         "hovertemplate": "<b>%{hovertext}</b><br><br>Genre=%{x}<br>Decade=1880<br>Proportion of movies in percentage=%{y}<extra></extra>",
         "hovertext": [
          "Nbr movies: 0"
         ],
         "ids": [
          "Musical"
         ],
         "legendgroup": "Musical",
         "marker": {
          "color": "#B6E880",
          "pattern": {
           "shape": ""
          }
         },
         "name": "Musical",
         "offsetgroup": "Musical",
         "orientation": "v",
         "showlegend": true,
         "textposition": "auto",
         "type": "bar",
         "x": [
          "Musical"
         ],
         "xaxis": "x",
         "y": [
          0
         ],
         "yaxis": "y"
        },
        {
         "alignmentgroup": "True",
         "hovertemplate": "<b>%{hovertext}</b><br><br>Genre=%{x}<br>Decade=1880<br>Proportion of movies in percentage=%{y}<extra></extra>",
         "hovertext": [
          "Nbr movies: 0"
         ],
         "ids": [
          "Animation"
         ],
         "legendgroup": "Animation",
         "marker": {
          "color": "#FF97FF",
          "pattern": {
           "shape": ""
          }
         },
         "name": "Animation",
         "offsetgroup": "Animation",
         "orientation": "v",
         "showlegend": true,
         "textposition": "auto",
         "type": "bar",
         "x": [
          "Animation"
         ],
         "xaxis": "x",
         "y": [
          0
         ],
         "yaxis": "y"
        },
        {
         "alignmentgroup": "True",
         "hovertemplate": "<b>%{hovertext}</b><br><br>Genre=%{x}<br>Decade=1880<br>Proportion of movies in percentage=%{y}<extra></extra>",
         "hovertext": [
          "Nbr movies: 0"
         ],
         "ids": [
          "Romantic drama"
         ],
         "legendgroup": "Romantic drama",
         "marker": {
          "color": "#FECB52",
          "pattern": {
           "shape": ""
          }
         },
         "name": "Romantic drama",
         "offsetgroup": "Romantic drama",
         "orientation": "v",
         "showlegend": true,
         "textposition": "auto",
         "type": "bar",
         "x": [
          "Romantic drama"
         ],
         "xaxis": "x",
         "y": [
          0
         ],
         "yaxis": "y"
        }
       ],
       "frames": [
        {
         "data": [
          {
           "alignmentgroup": "True",
           "hovertemplate": "<b>%{hovertext}</b><br><br>Genre=%{x}<br>Decade=1880<br>Proportion of movies in percentage=%{y}<extra></extra>",
           "hovertext": [
            "Nbr movies: 0"
           ],
           "ids": [
            "Drama"
           ],
           "legendgroup": "Drama",
           "marker": {
            "color": "#636efa",
            "pattern": {
             "shape": ""
            }
           },
           "name": "Drama",
           "offsetgroup": "Drama",
           "orientation": "v",
           "showlegend": true,
           "textposition": "auto",
           "type": "bar",
           "x": [
            "Drama"
           ],
           "xaxis": "x",
           "y": [
            0
           ],
           "yaxis": "y"
          },
          {
           "alignmentgroup": "True",
           "hovertemplate": "<b>%{hovertext}</b><br><br>Genre=%{x}<br>Decade=1880<br>Proportion of movies in percentage=%{y}<extra></extra>",
           "hovertext": [
            "Nbr movies: 0"
           ],
           "ids": [
            "Comedy"
           ],
           "legendgroup": "Comedy",
           "marker": {
            "color": "#EF553B",
            "pattern": {
             "shape": ""
            }
           },
           "name": "Comedy",
           "offsetgroup": "Comedy",
           "orientation": "v",
           "showlegend": true,
           "textposition": "auto",
           "type": "bar",
           "x": [
            "Comedy"
           ],
           "xaxis": "x",
           "y": [
            0
           ],
           "yaxis": "y"
          },
          {
           "alignmentgroup": "True",
           "hovertemplate": "<b>%{hovertext}</b><br><br>Genre=%{x}<br>Decade=1880<br>Proportion of movies in percentage=%{y}<extra></extra>",
           "hovertext": [
            "Nbr movies: 0"
           ],
           "ids": [
            "Romance Film"
           ],
           "legendgroup": "Romance Film",
           "marker": {
            "color": "#00cc96",
            "pattern": {
             "shape": ""
            }
           },
           "name": "Romance Film",
           "offsetgroup": "Romance Film",
           "orientation": "v",
           "showlegend": true,
           "textposition": "auto",
           "type": "bar",
           "x": [
            "Romance Film"
           ],
           "xaxis": "x",
           "y": [
            0
           ],
           "yaxis": "y"
          },
          {
           "alignmentgroup": "True",
           "hovertemplate": "<b>%{hovertext}</b><br><br>Genre=%{x}<br>Decade=1880<br>Proportion of movies in percentage=%{y}<extra></extra>",
           "hovertext": [
            "Nbr movies: 2"
           ],
           "ids": [
            "Black-and-white"
           ],
           "legendgroup": "Black-and-white",
           "marker": {
            "color": "#ab63fa",
            "pattern": {
             "shape": ""
            }
           },
           "name": "Black-and-white",
           "offsetgroup": "Black-and-white",
           "orientation": "v",
           "showlegend": true,
           "textposition": "auto",
           "type": "bar",
           "x": [
            "Black-and-white"
           ],
           "xaxis": "x",
           "y": [
            100
           ],
           "yaxis": "y"
          },
          {
           "alignmentgroup": "True",
           "hovertemplate": "<b>%{hovertext}</b><br><br>Genre=%{x}<br>Decade=1880<br>Proportion of movies in percentage=%{y}<extra></extra>",
           "hovertext": [
            "Nbr movies: 0"
           ],
           "ids": [
            "Action"
           ],
           "legendgroup": "Action",
           "marker": {
            "color": "#FFA15A",
            "pattern": {
             "shape": ""
            }
           },
           "name": "Action",
           "offsetgroup": "Action",
           "orientation": "v",
           "showlegend": true,
           "textposition": "auto",
           "type": "bar",
           "x": [
            "Action"
           ],
           "xaxis": "x",
           "y": [
            0
           ],
           "yaxis": "y"
          },
          {
           "alignmentgroup": "True",
           "hovertemplate": "<b>%{hovertext}</b><br><br>Genre=%{x}<br>Decade=1880<br>Proportion of movies in percentage=%{y}<extra></extra>",
           "hovertext": [
            "Nbr movies: 0"
           ],
           "ids": [
            "Thriller"
           ],
           "legendgroup": "Thriller",
           "marker": {
            "color": "#19d3f3",
            "pattern": {
             "shape": ""
            }
           },
           "name": "Thriller",
           "offsetgroup": "Thriller",
           "orientation": "v",
           "showlegend": true,
           "textposition": "auto",
           "type": "bar",
           "x": [
            "Thriller"
           ],
           "xaxis": "x",
           "y": [
            0
           ],
           "yaxis": "y"
          },
          {
           "alignmentgroup": "True",
           "hovertemplate": "<b>%{hovertext}</b><br><br>Genre=%{x}<br>Decade=1880<br>Proportion of movies in percentage=%{y}<extra></extra>",
           "hovertext": [
            "Nbr movies: 2"
           ],
           "ids": [
            "Short Film"
           ],
           "legendgroup": "Short Film",
           "marker": {
            "color": "#FF6692",
            "pattern": {
             "shape": ""
            }
           },
           "name": "Short Film",
           "offsetgroup": "Short Film",
           "orientation": "v",
           "showlegend": true,
           "textposition": "auto",
           "type": "bar",
           "x": [
            "Short Film"
           ],
           "xaxis": "x",
           "y": [
            100
           ],
           "yaxis": "y"
          },
          {
           "alignmentgroup": "True",
           "hovertemplate": "<b>%{hovertext}</b><br><br>Genre=%{x}<br>Decade=1880<br>Proportion of movies in percentage=%{y}<extra></extra>",
           "hovertext": [
            "Nbr movies: 0"
           ],
           "ids": [
            "World cinema"
           ],
           "legendgroup": "World cinema",
           "marker": {
            "color": "#B6E880",
            "pattern": {
             "shape": ""
            }
           },
           "name": "World cinema",
           "offsetgroup": "World cinema",
           "orientation": "v",
           "showlegend": true,
           "textposition": "auto",
           "type": "bar",
           "x": [
            "World cinema"
           ],
           "xaxis": "x",
           "y": [
            0
           ],
           "yaxis": "y"
          },
          {
           "alignmentgroup": "True",
           "hovertemplate": "<b>%{hovertext}</b><br><br>Genre=%{x}<br>Decade=1880<br>Proportion of movies in percentage=%{y}<extra></extra>",
           "hovertext": [
            "Nbr movies: 0"
           ],
           "ids": [
            "Crime Fiction"
           ],
           "legendgroup": "Crime Fiction",
           "marker": {
            "color": "#FF97FF",
            "pattern": {
             "shape": ""
            }
           },
           "name": "Crime Fiction",
           "offsetgroup": "Crime Fiction",
           "orientation": "v",
           "showlegend": true,
           "textposition": "auto",
           "type": "bar",
           "x": [
            "Crime Fiction"
           ],
           "xaxis": "x",
           "y": [
            0
           ],
           "yaxis": "y"
          },
          {
           "alignmentgroup": "True",
           "hovertemplate": "<b>%{hovertext}</b><br><br>Genre=%{x}<br>Decade=1880<br>Proportion of movies in percentage=%{y}<extra></extra>",
           "hovertext": [
            "Nbr movies: 2"
           ],
           "ids": [
            "Indie"
           ],
           "legendgroup": "Indie",
           "marker": {
            "color": "#FECB52",
            "pattern": {
             "shape": ""
            }
           },
           "name": "Indie",
           "offsetgroup": "Indie",
           "orientation": "v",
           "showlegend": true,
           "textposition": "auto",
           "type": "bar",
           "x": [
            "Indie"
           ],
           "xaxis": "x",
           "y": [
            100
           ],
           "yaxis": "y"
          },
          {
           "alignmentgroup": "True",
           "hovertemplate": "<b>%{hovertext}</b><br><br>Genre=%{x}<br>Decade=1880<br>Proportion of movies in percentage=%{y}<extra></extra>",
           "hovertext": [
            "Nbr movies: 0"
           ],
           "ids": [
            "Documentary"
           ],
           "legendgroup": "Documentary",
           "marker": {
            "color": "#636efa",
            "pattern": {
             "shape": ""
            }
           },
           "name": "Documentary",
           "offsetgroup": "Documentary",
           "orientation": "v",
           "showlegend": true,
           "textposition": "auto",
           "type": "bar",
           "x": [
            "Documentary"
           ],
           "xaxis": "x",
           "y": [
            0
           ],
           "yaxis": "y"
          },
          {
           "alignmentgroup": "True",
           "hovertemplate": "<b>%{hovertext}</b><br><br>Genre=%{x}<br>Decade=1880<br>Proportion of movies in percentage=%{y}<extra></extra>",
           "hovertext": [
            "Nbr movies: 0"
           ],
           "ids": [
            "Horror"
           ],
           "legendgroup": "Horror",
           "marker": {
            "color": "#EF553B",
            "pattern": {
             "shape": ""
            }
           },
           "name": "Horror",
           "offsetgroup": "Horror",
           "orientation": "v",
           "showlegend": true,
           "textposition": "auto",
           "type": "bar",
           "x": [
            "Horror"
           ],
           "xaxis": "x",
           "y": [
            0
           ],
           "yaxis": "y"
          },
          {
           "alignmentgroup": "True",
           "hovertemplate": "<b>%{hovertext}</b><br><br>Genre=%{x}<br>Decade=1880<br>Proportion of movies in percentage=%{y}<extra></extra>",
           "hovertext": [
            "Nbr movies: 2"
           ],
           "ids": [
            "Silent film"
           ],
           "legendgroup": "Silent film",
           "marker": {
            "color": "#00cc96",
            "pattern": {
             "shape": ""
            }
           },
           "name": "Silent film",
           "offsetgroup": "Silent film",
           "orientation": "v",
           "showlegend": true,
           "textposition": "auto",
           "type": "bar",
           "x": [
            "Silent film"
           ],
           "xaxis": "x",
           "y": [
            100
           ],
           "yaxis": "y"
          },
          {
           "alignmentgroup": "True",
           "hovertemplate": "<b>%{hovertext}</b><br><br>Genre=%{x}<br>Decade=1880<br>Proportion of movies in percentage=%{y}<extra></extra>",
           "hovertext": [
            "Nbr movies: 0"
           ],
           "ids": [
            "Adventure"
           ],
           "legendgroup": "Adventure",
           "marker": {
            "color": "#ab63fa",
            "pattern": {
             "shape": ""
            }
           },
           "name": "Adventure",
           "offsetgroup": "Adventure",
           "orientation": "v",
           "showlegend": true,
           "textposition": "auto",
           "type": "bar",
           "x": [
            "Adventure"
           ],
           "xaxis": "x",
           "y": [
            0
           ],
           "yaxis": "y"
          },
          {
           "alignmentgroup": "True",
           "hovertemplate": "<b>%{hovertext}</b><br><br>Genre=%{x}<br>Decade=1880<br>Proportion of movies in percentage=%{y}<extra></extra>",
           "hovertext": [
            "Nbr movies: 0"
           ],
           "ids": [
            "Family Film"
           ],
           "legendgroup": "Family Film",
           "marker": {
            "color": "#FFA15A",
            "pattern": {
             "shape": ""
            }
           },
           "name": "Family Film",
           "offsetgroup": "Family Film",
           "orientation": "v",
           "showlegend": true,
           "textposition": "auto",
           "type": "bar",
           "x": [
            "Family Film"
           ],
           "xaxis": "x",
           "y": [
            0
           ],
           "yaxis": "y"
          },
          {
           "alignmentgroup": "True",
           "hovertemplate": "<b>%{hovertext}</b><br><br>Genre=%{x}<br>Decade=1880<br>Proportion of movies in percentage=%{y}<extra></extra>",
           "hovertext": [
            "Nbr movies: 0"
           ],
           "ids": [
            "Action/Adventure"
           ],
           "legendgroup": "Action/Adventure",
           "marker": {
            "color": "#19d3f3",
            "pattern": {
             "shape": ""
            }
           },
           "name": "Action/Adventure",
           "offsetgroup": "Action/Adventure",
           "orientation": "v",
           "showlegend": true,
           "textposition": "auto",
           "type": "bar",
           "x": [
            "Action/Adventure"
           ],
           "xaxis": "x",
           "y": [
            0
           ],
           "yaxis": "y"
          },
          {
           "alignmentgroup": "True",
           "hovertemplate": "<b>%{hovertext}</b><br><br>Genre=%{x}<br>Decade=1880<br>Proportion of movies in percentage=%{y}<extra></extra>",
           "hovertext": [
            "Nbr movies: 0"
           ],
           "ids": [
            "Comedy film"
           ],
           "legendgroup": "Comedy film",
           "marker": {
            "color": "#FF6692",
            "pattern": {
             "shape": ""
            }
           },
           "name": "Comedy film",
           "offsetgroup": "Comedy film",
           "orientation": "v",
           "showlegend": true,
           "textposition": "auto",
           "type": "bar",
           "x": [
            "Comedy film"
           ],
           "xaxis": "x",
           "y": [
            0
           ],
           "yaxis": "y"
          },
          {
           "alignmentgroup": "True",
           "hovertemplate": "<b>%{hovertext}</b><br><br>Genre=%{x}<br>Decade=1880<br>Proportion of movies in percentage=%{y}<extra></extra>",
           "hovertext": [
            "Nbr movies: 0"
           ],
           "ids": [
            "Musical"
           ],
           "legendgroup": "Musical",
           "marker": {
            "color": "#B6E880",
            "pattern": {
             "shape": ""
            }
           },
           "name": "Musical",
           "offsetgroup": "Musical",
           "orientation": "v",
           "showlegend": true,
           "textposition": "auto",
           "type": "bar",
           "x": [
            "Musical"
           ],
           "xaxis": "x",
           "y": [
            0
           ],
           "yaxis": "y"
          },
          {
           "alignmentgroup": "True",
           "hovertemplate": "<b>%{hovertext}</b><br><br>Genre=%{x}<br>Decade=1880<br>Proportion of movies in percentage=%{y}<extra></extra>",
           "hovertext": [
            "Nbr movies: 0"
           ],
           "ids": [
            "Animation"
           ],
           "legendgroup": "Animation",
           "marker": {
            "color": "#FF97FF",
            "pattern": {
             "shape": ""
            }
           },
           "name": "Animation",
           "offsetgroup": "Animation",
           "orientation": "v",
           "showlegend": true,
           "textposition": "auto",
           "type": "bar",
           "x": [
            "Animation"
           ],
           "xaxis": "x",
           "y": [
            0
           ],
           "yaxis": "y"
          },
          {
           "alignmentgroup": "True",
           "hovertemplate": "<b>%{hovertext}</b><br><br>Genre=%{x}<br>Decade=1880<br>Proportion of movies in percentage=%{y}<extra></extra>",
           "hovertext": [
            "Nbr movies: 0"
           ],
           "ids": [
            "Romantic drama"
           ],
           "legendgroup": "Romantic drama",
           "marker": {
            "color": "#FECB52",
            "pattern": {
             "shape": ""
            }
           },
           "name": "Romantic drama",
           "offsetgroup": "Romantic drama",
           "orientation": "v",
           "showlegend": true,
           "textposition": "auto",
           "type": "bar",
           "x": [
            "Romantic drama"
           ],
           "xaxis": "x",
           "y": [
            0
           ],
           "yaxis": "y"
          }
         ],
         "name": "1880"
        },
        {
         "data": [
          {
           "alignmentgroup": "True",
           "hovertemplate": "<b>%{hovertext}</b><br><br>Genre=%{x}<br>Decade=1890<br>Proportion of movies in percentage=%{y}<extra></extra>",
           "hovertext": [
            "Nbr movies: 6"
           ],
           "ids": [
            "Drama"
           ],
           "legendgroup": "Drama",
           "marker": {
            "color": "#636efa",
            "pattern": {
             "shape": ""
            }
           },
           "name": "Drama",
           "offsetgroup": "Drama",
           "orientation": "v",
           "showlegend": true,
           "textposition": "auto",
           "type": "bar",
           "x": [
            "Drama"
           ],
           "xaxis": "x",
           "y": [
            4.03
           ],
           "yaxis": "y"
          },
          {
           "alignmentgroup": "True",
           "hovertemplate": "<b>%{hovertext}</b><br><br>Genre=%{x}<br>Decade=1890<br>Proportion of movies in percentage=%{y}<extra></extra>",
           "hovertext": [
            "Nbr movies: 8"
           ],
           "ids": [
            "Comedy"
           ],
           "legendgroup": "Comedy",
           "marker": {
            "color": "#EF553B",
            "pattern": {
             "shape": ""
            }
           },
           "name": "Comedy",
           "offsetgroup": "Comedy",
           "orientation": "v",
           "showlegend": true,
           "textposition": "auto",
           "type": "bar",
           "x": [
            "Comedy"
           ],
           "xaxis": "x",
           "y": [
            5.37
           ],
           "yaxis": "y"
          },
          {
           "alignmentgroup": "True",
           "hovertemplate": "<b>%{hovertext}</b><br><br>Genre=%{x}<br>Decade=1890<br>Proportion of movies in percentage=%{y}<extra></extra>",
           "hovertext": [
            "Nbr movies: 1"
           ],
           "ids": [
            "Romance Film"
           ],
           "legendgroup": "Romance Film",
           "marker": {
            "color": "#00cc96",
            "pattern": {
             "shape": ""
            }
           },
           "name": "Romance Film",
           "offsetgroup": "Romance Film",
           "orientation": "v",
           "showlegend": true,
           "textposition": "auto",
           "type": "bar",
           "x": [
            "Romance Film"
           ],
           "xaxis": "x",
           "y": [
            0.67
           ],
           "yaxis": "y"
          },
          {
           "alignmentgroup": "True",
           "hovertemplate": "<b>%{hovertext}</b><br><br>Genre=%{x}<br>Decade=1890<br>Proportion of movies in percentage=%{y}<extra></extra>",
           "hovertext": [
            "Nbr movies: 48"
           ],
           "ids": [
            "Black-and-white"
           ],
           "legendgroup": "Black-and-white",
           "marker": {
            "color": "#ab63fa",
            "pattern": {
             "shape": ""
            }
           },
           "name": "Black-and-white",
           "offsetgroup": "Black-and-white",
           "orientation": "v",
           "showlegend": true,
           "textposition": "auto",
           "type": "bar",
           "x": [
            "Black-and-white"
           ],
           "xaxis": "x",
           "y": [
            32.21
           ],
           "yaxis": "y"
          },
          {
           "alignmentgroup": "True",
           "hovertemplate": "<b>%{hovertext}</b><br><br>Genre=%{x}<br>Decade=1890<br>Proportion of movies in percentage=%{y}<extra></extra>",
           "hovertext": [
            "Nbr movies: 0"
           ],
           "ids": [
            "Action"
           ],
           "legendgroup": "Action",
           "marker": {
            "color": "#FFA15A",
            "pattern": {
             "shape": ""
            }
           },
           "name": "Action",
           "offsetgroup": "Action",
           "orientation": "v",
           "showlegend": true,
           "textposition": "auto",
           "type": "bar",
           "x": [
            "Action"
           ],
           "xaxis": "x",
           "y": [
            0
           ],
           "yaxis": "y"
          },
          {
           "alignmentgroup": "True",
           "hovertemplate": "<b>%{hovertext}</b><br><br>Genre=%{x}<br>Decade=1890<br>Proportion of movies in percentage=%{y}<extra></extra>",
           "hovertext": [
            "Nbr movies: 0"
           ],
           "ids": [
            "Thriller"
           ],
           "legendgroup": "Thriller",
           "marker": {
            "color": "#19d3f3",
            "pattern": {
             "shape": ""
            }
           },
           "name": "Thriller",
           "offsetgroup": "Thriller",
           "orientation": "v",
           "showlegend": true,
           "textposition": "auto",
           "type": "bar",
           "x": [
            "Thriller"
           ],
           "xaxis": "x",
           "y": [
            0
           ],
           "yaxis": "y"
          },
          {
           "alignmentgroup": "True",
           "hovertemplate": "<b>%{hovertext}</b><br><br>Genre=%{x}<br>Decade=1890<br>Proportion of movies in percentage=%{y}<extra></extra>",
           "hovertext": [
            "Nbr movies: 57"
           ],
           "ids": [
            "Short Film"
           ],
           "legendgroup": "Short Film",
           "marker": {
            "color": "#FF6692",
            "pattern": {
             "shape": ""
            }
           },
           "name": "Short Film",
           "offsetgroup": "Short Film",
           "orientation": "v",
           "showlegend": true,
           "textposition": "auto",
           "type": "bar",
           "x": [
            "Short Film"
           ],
           "xaxis": "x",
           "y": [
            38.26
           ],
           "yaxis": "y"
          },
          {
           "alignmentgroup": "True",
           "hovertemplate": "<b>%{hovertext}</b><br><br>Genre=%{x}<br>Decade=1890<br>Proportion of movies in percentage=%{y}<extra></extra>",
           "hovertext": [
            "Nbr movies: 0"
           ],
           "ids": [
            "World cinema"
           ],
           "legendgroup": "World cinema",
           "marker": {
            "color": "#B6E880",
            "pattern": {
             "shape": ""
            }
           },
           "name": "World cinema",
           "offsetgroup": "World cinema",
           "orientation": "v",
           "showlegend": true,
           "textposition": "auto",
           "type": "bar",
           "x": [
            "World cinema"
           ],
           "xaxis": "x",
           "y": [
            0
           ],
           "yaxis": "y"
          },
          {
           "alignmentgroup": "True",
           "hovertemplate": "<b>%{hovertext}</b><br><br>Genre=%{x}<br>Decade=1890<br>Proportion of movies in percentage=%{y}<extra></extra>",
           "hovertext": [
            "Nbr movies: 0"
           ],
           "ids": [
            "Crime Fiction"
           ],
           "legendgroup": "Crime Fiction",
           "marker": {
            "color": "#FF97FF",
            "pattern": {
             "shape": ""
            }
           },
           "name": "Crime Fiction",
           "offsetgroup": "Crime Fiction",
           "orientation": "v",
           "showlegend": true,
           "textposition": "auto",
           "type": "bar",
           "x": [
            "Crime Fiction"
           ],
           "xaxis": "x",
           "y": [
            0
           ],
           "yaxis": "y"
          },
          {
           "alignmentgroup": "True",
           "hovertemplate": "<b>%{hovertext}</b><br><br>Genre=%{x}<br>Decade=1890<br>Proportion of movies in percentage=%{y}<extra></extra>",
           "hovertext": [
            "Nbr movies: 43"
           ],
           "ids": [
            "Indie"
           ],
           "legendgroup": "Indie",
           "marker": {
            "color": "#FECB52",
            "pattern": {
             "shape": ""
            }
           },
           "name": "Indie",
           "offsetgroup": "Indie",
           "orientation": "v",
           "showlegend": true,
           "textposition": "auto",
           "type": "bar",
           "x": [
            "Indie"
           ],
           "xaxis": "x",
           "y": [
            28.86
           ],
           "yaxis": "y"
          },
          {
           "alignmentgroup": "True",
           "hovertemplate": "<b>%{hovertext}</b><br><br>Genre=%{x}<br>Decade=1890<br>Proportion of movies in percentage=%{y}<extra></extra>",
           "hovertext": [
            "Nbr movies: 27"
           ],
           "ids": [
            "Documentary"
           ],
           "legendgroup": "Documentary",
           "marker": {
            "color": "#636efa",
            "pattern": {
             "shape": ""
            }
           },
           "name": "Documentary",
           "offsetgroup": "Documentary",
           "orientation": "v",
           "showlegend": true,
           "textposition": "auto",
           "type": "bar",
           "x": [
            "Documentary"
           ],
           "xaxis": "x",
           "y": [
            18.12
           ],
           "yaxis": "y"
          },
          {
           "alignmentgroup": "True",
           "hovertemplate": "<b>%{hovertext}</b><br><br>Genre=%{x}<br>Decade=1890<br>Proportion of movies in percentage=%{y}<extra></extra>",
           "hovertext": [
            "Nbr movies: 1"
           ],
           "ids": [
            "Horror"
           ],
           "legendgroup": "Horror",
           "marker": {
            "color": "#EF553B",
            "pattern": {
             "shape": ""
            }
           },
           "name": "Horror",
           "offsetgroup": "Horror",
           "orientation": "v",
           "showlegend": true,
           "textposition": "auto",
           "type": "bar",
           "x": [
            "Horror"
           ],
           "xaxis": "x",
           "y": [
            0.67
           ],
           "yaxis": "y"
          },
          {
           "alignmentgroup": "True",
           "hovertemplate": "<b>%{hovertext}</b><br><br>Genre=%{x}<br>Decade=1890<br>Proportion of movies in percentage=%{y}<extra></extra>",
           "hovertext": [
            "Nbr movies: 53"
           ],
           "ids": [
            "Silent film"
           ],
           "legendgroup": "Silent film",
           "marker": {
            "color": "#00cc96",
            "pattern": {
             "shape": ""
            }
           },
           "name": "Silent film",
           "offsetgroup": "Silent film",
           "orientation": "v",
           "showlegend": true,
           "textposition": "auto",
           "type": "bar",
           "x": [
            "Silent film"
           ],
           "xaxis": "x",
           "y": [
            35.57
           ],
           "yaxis": "y"
          },
          {
           "alignmentgroup": "True",
           "hovertemplate": "<b>%{hovertext}</b><br><br>Genre=%{x}<br>Decade=1890<br>Proportion of movies in percentage=%{y}<extra></extra>",
           "hovertext": [
            "Nbr movies: 0"
           ],
           "ids": [
            "Adventure"
           ],
           "legendgroup": "Adventure",
           "marker": {
            "color": "#ab63fa",
            "pattern": {
             "shape": ""
            }
           },
           "name": "Adventure",
           "offsetgroup": "Adventure",
           "orientation": "v",
           "showlegend": true,
           "textposition": "auto",
           "type": "bar",
           "x": [
            "Adventure"
           ],
           "xaxis": "x",
           "y": [
            0
           ],
           "yaxis": "y"
          },
          {
           "alignmentgroup": "True",
           "hovertemplate": "<b>%{hovertext}</b><br><br>Genre=%{x}<br>Decade=1890<br>Proportion of movies in percentage=%{y}<extra></extra>",
           "hovertext": [
            "Nbr movies: 1"
           ],
           "ids": [
            "Family Film"
           ],
           "legendgroup": "Family Film",
           "marker": {
            "color": "#FFA15A",
            "pattern": {
             "shape": ""
            }
           },
           "name": "Family Film",
           "offsetgroup": "Family Film",
           "orientation": "v",
           "showlegend": true,
           "textposition": "auto",
           "type": "bar",
           "x": [
            "Family Film"
           ],
           "xaxis": "x",
           "y": [
            0.67
           ],
           "yaxis": "y"
          },
          {
           "alignmentgroup": "True",
           "hovertemplate": "<b>%{hovertext}</b><br><br>Genre=%{x}<br>Decade=1890<br>Proportion of movies in percentage=%{y}<extra></extra>",
           "hovertext": [
            "Nbr movies: 0"
           ],
           "ids": [
            "Action/Adventure"
           ],
           "legendgroup": "Action/Adventure",
           "marker": {
            "color": "#19d3f3",
            "pattern": {
             "shape": ""
            }
           },
           "name": "Action/Adventure",
           "offsetgroup": "Action/Adventure",
           "orientation": "v",
           "showlegend": true,
           "textposition": "auto",
           "type": "bar",
           "x": [
            "Action/Adventure"
           ],
           "xaxis": "x",
           "y": [
            0
           ],
           "yaxis": "y"
          },
          {
           "alignmentgroup": "True",
           "hovertemplate": "<b>%{hovertext}</b><br><br>Genre=%{x}<br>Decade=1890<br>Proportion of movies in percentage=%{y}<extra></extra>",
           "hovertext": [
            "Nbr movies: 0"
           ],
           "ids": [
            "Comedy film"
           ],
           "legendgroup": "Comedy film",
           "marker": {
            "color": "#FF6692",
            "pattern": {
             "shape": ""
            }
           },
           "name": "Comedy film",
           "offsetgroup": "Comedy film",
           "orientation": "v",
           "showlegend": true,
           "textposition": "auto",
           "type": "bar",
           "x": [
            "Comedy film"
           ],
           "xaxis": "x",
           "y": [
            0
           ],
           "yaxis": "y"
          },
          {
           "alignmentgroup": "True",
           "hovertemplate": "<b>%{hovertext}</b><br><br>Genre=%{x}<br>Decade=1890<br>Proportion of movies in percentage=%{y}<extra></extra>",
           "hovertext": [
            "Nbr movies: 0"
           ],
           "ids": [
            "Musical"
           ],
           "legendgroup": "Musical",
           "marker": {
            "color": "#B6E880",
            "pattern": {
             "shape": ""
            }
           },
           "name": "Musical",
           "offsetgroup": "Musical",
           "orientation": "v",
           "showlegend": true,
           "textposition": "auto",
           "type": "bar",
           "x": [
            "Musical"
           ],
           "xaxis": "x",
           "y": [
            0
           ],
           "yaxis": "y"
          },
          {
           "alignmentgroup": "True",
           "hovertemplate": "<b>%{hovertext}</b><br><br>Genre=%{x}<br>Decade=1890<br>Proportion of movies in percentage=%{y}<extra></extra>",
           "hovertext": [
            "Nbr movies: 1"
           ],
           "ids": [
            "Animation"
           ],
           "legendgroup": "Animation",
           "marker": {
            "color": "#FF97FF",
            "pattern": {
             "shape": ""
            }
           },
           "name": "Animation",
           "offsetgroup": "Animation",
           "orientation": "v",
           "showlegend": true,
           "textposition": "auto",
           "type": "bar",
           "x": [
            "Animation"
           ],
           "xaxis": "x",
           "y": [
            0.67
           ],
           "yaxis": "y"
          },
          {
           "alignmentgroup": "True",
           "hovertemplate": "<b>%{hovertext}</b><br><br>Genre=%{x}<br>Decade=1890<br>Proportion of movies in percentage=%{y}<extra></extra>",
           "hovertext": [
            "Nbr movies: 0"
           ],
           "ids": [
            "Romantic drama"
           ],
           "legendgroup": "Romantic drama",
           "marker": {
            "color": "#FECB52",
            "pattern": {
             "shape": ""
            }
           },
           "name": "Romantic drama",
           "offsetgroup": "Romantic drama",
           "orientation": "v",
           "showlegend": true,
           "textposition": "auto",
           "type": "bar",
           "x": [
            "Romantic drama"
           ],
           "xaxis": "x",
           "y": [
            0
           ],
           "yaxis": "y"
          }
         ],
         "name": "1890"
        },
        {
         "data": [
          {
           "alignmentgroup": "True",
           "hovertemplate": "<b>%{hovertext}</b><br><br>Genre=%{x}<br>Decade=1900<br>Proportion of movies in percentage=%{y}<extra></extra>",
           "hovertext": [
            "Nbr movies: 46"
           ],
           "ids": [
            "Drama"
           ],
           "legendgroup": "Drama",
           "marker": {
            "color": "#636efa",
            "pattern": {
             "shape": ""
            }
           },
           "name": "Drama",
           "offsetgroup": "Drama",
           "orientation": "v",
           "showlegend": true,
           "textposition": "auto",
           "type": "bar",
           "x": [
            "Drama"
           ],
           "xaxis": "x",
           "y": [
            23.83
           ],
           "yaxis": "y"
          },
          {
           "alignmentgroup": "True",
           "hovertemplate": "<b>%{hovertext}</b><br><br>Genre=%{x}<br>Decade=1900<br>Proportion of movies in percentage=%{y}<extra></extra>",
           "hovertext": [
            "Nbr movies: 15"
           ],
           "ids": [
            "Comedy"
           ],
           "legendgroup": "Comedy",
           "marker": {
            "color": "#EF553B",
            "pattern": {
             "shape": ""
            }
           },
           "name": "Comedy",
           "offsetgroup": "Comedy",
           "orientation": "v",
           "showlegend": true,
           "textposition": "auto",
           "type": "bar",
           "x": [
            "Comedy"
           ],
           "xaxis": "x",
           "y": [
            7.77
           ],
           "yaxis": "y"
          },
          {
           "alignmentgroup": "True",
           "hovertemplate": "<b>%{hovertext}</b><br><br>Genre=%{x}<br>Decade=1900<br>Proportion of movies in percentage=%{y}<extra></extra>",
           "hovertext": [
            "Nbr movies: 5"
           ],
           "ids": [
            "Romance Film"
           ],
           "legendgroup": "Romance Film",
           "marker": {
            "color": "#00cc96",
            "pattern": {
             "shape": ""
            }
           },
           "name": "Romance Film",
           "offsetgroup": "Romance Film",
           "orientation": "v",
           "showlegend": true,
           "textposition": "auto",
           "type": "bar",
           "x": [
            "Romance Film"
           ],
           "xaxis": "x",
           "y": [
            2.59
           ],
           "yaxis": "y"
          },
          {
           "alignmentgroup": "True",
           "hovertemplate": "<b>%{hovertext}</b><br><br>Genre=%{x}<br>Decade=1900<br>Proportion of movies in percentage=%{y}<extra></extra>",
           "hovertext": [
            "Nbr movies: 81"
           ],
           "ids": [
            "Black-and-white"
           ],
           "legendgroup": "Black-and-white",
           "marker": {
            "color": "#ab63fa",
            "pattern": {
             "shape": ""
            }
           },
           "name": "Black-and-white",
           "offsetgroup": "Black-and-white",
           "orientation": "v",
           "showlegend": true,
           "textposition": "auto",
           "type": "bar",
           "x": [
            "Black-and-white"
           ],
           "xaxis": "x",
           "y": [
            41.97
           ],
           "yaxis": "y"
          },
          {
           "alignmentgroup": "True",
           "hovertemplate": "<b>%{hovertext}</b><br><br>Genre=%{x}<br>Decade=1900<br>Proportion of movies in percentage=%{y}<extra></extra>",
           "hovertext": [
            "Nbr movies: 4"
           ],
           "ids": [
            "Action"
           ],
           "legendgroup": "Action",
           "marker": {
            "color": "#FFA15A",
            "pattern": {
             "shape": ""
            }
           },
           "name": "Action",
           "offsetgroup": "Action",
           "orientation": "v",
           "showlegend": true,
           "textposition": "auto",
           "type": "bar",
           "x": [
            "Action"
           ],
           "xaxis": "x",
           "y": [
            2.07
           ],
           "yaxis": "y"
          },
          {
           "alignmentgroup": "True",
           "hovertemplate": "<b>%{hovertext}</b><br><br>Genre=%{x}<br>Decade=1900<br>Proportion of movies in percentage=%{y}<extra></extra>",
           "hovertext": [
            "Nbr movies: 0"
           ],
           "ids": [
            "Thriller"
           ],
           "legendgroup": "Thriller",
           "marker": {
            "color": "#19d3f3",
            "pattern": {
             "shape": ""
            }
           },
           "name": "Thriller",
           "offsetgroup": "Thriller",
           "orientation": "v",
           "showlegend": true,
           "textposition": "auto",
           "type": "bar",
           "x": [
            "Thriller"
           ],
           "xaxis": "x",
           "y": [
            0
           ],
           "yaxis": "y"
          },
          {
           "alignmentgroup": "True",
           "hovertemplate": "<b>%{hovertext}</b><br><br>Genre=%{x}<br>Decade=1900<br>Proportion of movies in percentage=%{y}<extra></extra>",
           "hovertext": [
            "Nbr movies: 88"
           ],
           "ids": [
            "Short Film"
           ],
           "legendgroup": "Short Film",
           "marker": {
            "color": "#FF6692",
            "pattern": {
             "shape": ""
            }
           },
           "name": "Short Film",
           "offsetgroup": "Short Film",
           "orientation": "v",
           "showlegend": true,
           "textposition": "auto",
           "type": "bar",
           "x": [
            "Short Film"
           ],
           "xaxis": "x",
           "y": [
            45.6
           ],
           "yaxis": "y"
          },
          {
           "alignmentgroup": "True",
           "hovertemplate": "<b>%{hovertext}</b><br><br>Genre=%{x}<br>Decade=1900<br>Proportion of movies in percentage=%{y}<extra></extra>",
           "hovertext": [
            "Nbr movies: 0"
           ],
           "ids": [
            "World cinema"
           ],
           "legendgroup": "World cinema",
           "marker": {
            "color": "#B6E880",
            "pattern": {
             "shape": ""
            }
           },
           "name": "World cinema",
           "offsetgroup": "World cinema",
           "orientation": "v",
           "showlegend": true,
           "textposition": "auto",
           "type": "bar",
           "x": [
            "World cinema"
           ],
           "xaxis": "x",
           "y": [
            0
           ],
           "yaxis": "y"
          },
          {
           "alignmentgroup": "True",
           "hovertemplate": "<b>%{hovertext}</b><br><br>Genre=%{x}<br>Decade=1900<br>Proportion of movies in percentage=%{y}<extra></extra>",
           "hovertext": [
            "Nbr movies: 4"
           ],
           "ids": [
            "Crime Fiction"
           ],
           "legendgroup": "Crime Fiction",
           "marker": {
            "color": "#FF97FF",
            "pattern": {
             "shape": ""
            }
           },
           "name": "Crime Fiction",
           "offsetgroup": "Crime Fiction",
           "orientation": "v",
           "showlegend": true,
           "textposition": "auto",
           "type": "bar",
           "x": [
            "Crime Fiction"
           ],
           "xaxis": "x",
           "y": [
            2.07
           ],
           "yaxis": "y"
          },
          {
           "alignmentgroup": "True",
           "hovertemplate": "<b>%{hovertext}</b><br><br>Genre=%{x}<br>Decade=1900<br>Proportion of movies in percentage=%{y}<extra></extra>",
           "hovertext": [
            "Nbr movies: 70"
           ],
           "ids": [
            "Indie"
           ],
           "legendgroup": "Indie",
           "marker": {
            "color": "#FECB52",
            "pattern": {
             "shape": ""
            }
           },
           "name": "Indie",
           "offsetgroup": "Indie",
           "orientation": "v",
           "showlegend": true,
           "textposition": "auto",
           "type": "bar",
           "x": [
            "Indie"
           ],
           "xaxis": "x",
           "y": [
            36.27
           ],
           "yaxis": "y"
          },
          {
           "alignmentgroup": "True",
           "hovertemplate": "<b>%{hovertext}</b><br><br>Genre=%{x}<br>Decade=1900<br>Proportion of movies in percentage=%{y}<extra></extra>",
           "hovertext": [
            "Nbr movies: 2"
           ],
           "ids": [
            "Documentary"
           ],
           "legendgroup": "Documentary",
           "marker": {
            "color": "#636efa",
            "pattern": {
             "shape": ""
            }
           },
           "name": "Documentary",
           "offsetgroup": "Documentary",
           "orientation": "v",
           "showlegend": true,
           "textposition": "auto",
           "type": "bar",
           "x": [
            "Documentary"
           ],
           "xaxis": "x",
           "y": [
            1.04
           ],
           "yaxis": "y"
          },
          {
           "alignmentgroup": "True",
           "hovertemplate": "<b>%{hovertext}</b><br><br>Genre=%{x}<br>Decade=1900<br>Proportion of movies in percentage=%{y}<extra></extra>",
           "hovertext": [
            "Nbr movies: 4"
           ],
           "ids": [
            "Horror"
           ],
           "legendgroup": "Horror",
           "marker": {
            "color": "#EF553B",
            "pattern": {
             "shape": ""
            }
           },
           "name": "Horror",
           "offsetgroup": "Horror",
           "orientation": "v",
           "showlegend": true,
           "textposition": "auto",
           "type": "bar",
           "x": [
            "Horror"
           ],
           "xaxis": "x",
           "y": [
            2.07
           ],
           "yaxis": "y"
          },
          {
           "alignmentgroup": "True",
           "hovertemplate": "<b>%{hovertext}</b><br><br>Genre=%{x}<br>Decade=1900<br>Proportion of movies in percentage=%{y}<extra></extra>",
           "hovertext": [
            "Nbr movies: 94"
           ],
           "ids": [
            "Silent film"
           ],
           "legendgroup": "Silent film",
           "marker": {
            "color": "#00cc96",
            "pattern": {
             "shape": ""
            }
           },
           "name": "Silent film",
           "offsetgroup": "Silent film",
           "orientation": "v",
           "showlegend": true,
           "textposition": "auto",
           "type": "bar",
           "x": [
            "Silent film"
           ],
           "xaxis": "x",
           "y": [
            48.7
           ],
           "yaxis": "y"
          },
          {
           "alignmentgroup": "True",
           "hovertemplate": "<b>%{hovertext}</b><br><br>Genre=%{x}<br>Decade=1900<br>Proportion of movies in percentage=%{y}<extra></extra>",
           "hovertext": [
            "Nbr movies: 5"
           ],
           "ids": [
            "Adventure"
           ],
           "legendgroup": "Adventure",
           "marker": {
            "color": "#ab63fa",
            "pattern": {
             "shape": ""
            }
           },
           "name": "Adventure",
           "offsetgroup": "Adventure",
           "orientation": "v",
           "showlegend": true,
           "textposition": "auto",
           "type": "bar",
           "x": [
            "Adventure"
           ],
           "xaxis": "x",
           "y": [
            2.59
           ],
           "yaxis": "y"
          },
          {
           "alignmentgroup": "True",
           "hovertemplate": "<b>%{hovertext}</b><br><br>Genre=%{x}<br>Decade=1900<br>Proportion of movies in percentage=%{y}<extra></extra>",
           "hovertext": [
            "Nbr movies: 0"
           ],
           "ids": [
            "Family Film"
           ],
           "legendgroup": "Family Film",
           "marker": {
            "color": "#FFA15A",
            "pattern": {
             "shape": ""
            }
           },
           "name": "Family Film",
           "offsetgroup": "Family Film",
           "orientation": "v",
           "showlegend": true,
           "textposition": "auto",
           "type": "bar",
           "x": [
            "Family Film"
           ],
           "xaxis": "x",
           "y": [
            0
           ],
           "yaxis": "y"
          },
          {
           "alignmentgroup": "True",
           "hovertemplate": "<b>%{hovertext}</b><br><br>Genre=%{x}<br>Decade=1900<br>Proportion of movies in percentage=%{y}<extra></extra>",
           "hovertext": [
            "Nbr movies: 0"
           ],
           "ids": [
            "Action/Adventure"
           ],
           "legendgroup": "Action/Adventure",
           "marker": {
            "color": "#19d3f3",
            "pattern": {
             "shape": ""
            }
           },
           "name": "Action/Adventure",
           "offsetgroup": "Action/Adventure",
           "orientation": "v",
           "showlegend": true,
           "textposition": "auto",
           "type": "bar",
           "x": [
            "Action/Adventure"
           ],
           "xaxis": "x",
           "y": [
            0
           ],
           "yaxis": "y"
          },
          {
           "alignmentgroup": "True",
           "hovertemplate": "<b>%{hovertext}</b><br><br>Genre=%{x}<br>Decade=1900<br>Proportion of movies in percentage=%{y}<extra></extra>",
           "hovertext": [
            "Nbr movies: 1"
           ],
           "ids": [
            "Comedy film"
           ],
           "legendgroup": "Comedy film",
           "marker": {
            "color": "#FF6692",
            "pattern": {
             "shape": ""
            }
           },
           "name": "Comedy film",
           "offsetgroup": "Comedy film",
           "orientation": "v",
           "showlegend": true,
           "textposition": "auto",
           "type": "bar",
           "x": [
            "Comedy film"
           ],
           "xaxis": "x",
           "y": [
            0.52
           ],
           "yaxis": "y"
          },
          {
           "alignmentgroup": "True",
           "hovertemplate": "<b>%{hovertext}</b><br><br>Genre=%{x}<br>Decade=1900<br>Proportion of movies in percentage=%{y}<extra></extra>",
           "hovertext": [
            "Nbr movies: 1"
           ],
           "ids": [
            "Musical"
           ],
           "legendgroup": "Musical",
           "marker": {
            "color": "#B6E880",
            "pattern": {
             "shape": ""
            }
           },
           "name": "Musical",
           "offsetgroup": "Musical",
           "orientation": "v",
           "showlegend": true,
           "textposition": "auto",
           "type": "bar",
           "x": [
            "Musical"
           ],
           "xaxis": "x",
           "y": [
            0.52
           ],
           "yaxis": "y"
          },
          {
           "alignmentgroup": "True",
           "hovertemplate": "<b>%{hovertext}</b><br><br>Genre=%{x}<br>Decade=1900<br>Proportion of movies in percentage=%{y}<extra></extra>",
           "hovertext": [
            "Nbr movies: 3"
           ],
           "ids": [
            "Animation"
           ],
           "legendgroup": "Animation",
           "marker": {
            "color": "#FF97FF",
            "pattern": {
             "shape": ""
            }
           },
           "name": "Animation",
           "offsetgroup": "Animation",
           "orientation": "v",
           "showlegend": true,
           "textposition": "auto",
           "type": "bar",
           "x": [
            "Animation"
           ],
           "xaxis": "x",
           "y": [
            1.55
           ],
           "yaxis": "y"
          },
          {
           "alignmentgroup": "True",
           "hovertemplate": "<b>%{hovertext}</b><br><br>Genre=%{x}<br>Decade=1900<br>Proportion of movies in percentage=%{y}<extra></extra>",
           "hovertext": [
            "Nbr movies: 0"
           ],
           "ids": [
            "Romantic drama"
           ],
           "legendgroup": "Romantic drama",
           "marker": {
            "color": "#FECB52",
            "pattern": {
             "shape": ""
            }
           },
           "name": "Romantic drama",
           "offsetgroup": "Romantic drama",
           "orientation": "v",
           "showlegend": true,
           "textposition": "auto",
           "type": "bar",
           "x": [
            "Romantic drama"
           ],
           "xaxis": "x",
           "y": [
            0
           ],
           "yaxis": "y"
          }
         ],
         "name": "1900"
        },
        {
         "data": [
          {
           "alignmentgroup": "True",
           "hovertemplate": "<b>%{hovertext}</b><br><br>Genre=%{x}<br>Decade=1910<br>Proportion of movies in percentage=%{y}<extra></extra>",
           "hovertext": [
            "Nbr movies: 1035"
           ],
           "ids": [
            "Drama"
           ],
           "legendgroup": "Drama",
           "marker": {
            "color": "#636efa",
            "pattern": {
             "shape": ""
            }
           },
           "name": "Drama",
           "offsetgroup": "Drama",
           "orientation": "v",
           "showlegend": true,
           "textposition": "auto",
           "type": "bar",
           "x": [
            "Drama"
           ],
           "xaxis": "x",
           "y": [
            38.78
           ],
           "yaxis": "y"
          },
          {
           "alignmentgroup": "True",
           "hovertemplate": "<b>%{hovertext}</b><br><br>Genre=%{x}<br>Decade=1910<br>Proportion of movies in percentage=%{y}<extra></extra>",
           "hovertext": [
            "Nbr movies: 693"
           ],
           "ids": [
            "Comedy"
           ],
           "legendgroup": "Comedy",
           "marker": {
            "color": "#EF553B",
            "pattern": {
             "shape": ""
            }
           },
           "name": "Comedy",
           "offsetgroup": "Comedy",
           "orientation": "v",
           "showlegend": true,
           "textposition": "auto",
           "type": "bar",
           "x": [
            "Comedy"
           ],
           "xaxis": "x",
           "y": [
            25.96
           ],
           "yaxis": "y"
          },
          {
           "alignmentgroup": "True",
           "hovertemplate": "<b>%{hovertext}</b><br><br>Genre=%{x}<br>Decade=1910<br>Proportion of movies in percentage=%{y}<extra></extra>",
           "hovertext": [
            "Nbr movies: 133"
           ],
           "ids": [
            "Romance Film"
           ],
           "legendgroup": "Romance Film",
           "marker": {
            "color": "#00cc96",
            "pattern": {
             "shape": ""
            }
           },
           "name": "Romance Film",
           "offsetgroup": "Romance Film",
           "orientation": "v",
           "showlegend": true,
           "textposition": "auto",
           "type": "bar",
           "x": [
            "Romance Film"
           ],
           "xaxis": "x",
           "y": [
            4.98
           ],
           "yaxis": "y"
          },
          {
           "alignmentgroup": "True",
           "hovertemplate": "<b>%{hovertext}</b><br><br>Genre=%{x}<br>Decade=1910<br>Proportion of movies in percentage=%{y}<extra></extra>",
           "hovertext": [
            "Nbr movies: 1698"
           ],
           "ids": [
            "Black-and-white"
           ],
           "legendgroup": "Black-and-white",
           "marker": {
            "color": "#ab63fa",
            "pattern": {
             "shape": ""
            }
           },
           "name": "Black-and-white",
           "offsetgroup": "Black-and-white",
           "orientation": "v",
           "showlegend": true,
           "textposition": "auto",
           "type": "bar",
           "x": [
            "Black-and-white"
           ],
           "xaxis": "x",
           "y": [
            63.62
           ],
           "yaxis": "y"
          },
          {
           "alignmentgroup": "True",
           "hovertemplate": "<b>%{hovertext}</b><br><br>Genre=%{x}<br>Decade=1910<br>Proportion of movies in percentage=%{y}<extra></extra>",
           "hovertext": [
            "Nbr movies: 27"
           ],
           "ids": [
            "Action"
           ],
           "legendgroup": "Action",
           "marker": {
            "color": "#FFA15A",
            "pattern": {
             "shape": ""
            }
           },
           "name": "Action",
           "offsetgroup": "Action",
           "orientation": "v",
           "showlegend": true,
           "textposition": "auto",
           "type": "bar",
           "x": [
            "Action"
           ],
           "xaxis": "x",
           "y": [
            1.01
           ],
           "yaxis": "y"
          },
          {
           "alignmentgroup": "True",
           "hovertemplate": "<b>%{hovertext}</b><br><br>Genre=%{x}<br>Decade=1910<br>Proportion of movies in percentage=%{y}<extra></extra>",
           "hovertext": [
            "Nbr movies: 18"
           ],
           "ids": [
            "Thriller"
           ],
           "legendgroup": "Thriller",
           "marker": {
            "color": "#19d3f3",
            "pattern": {
             "shape": ""
            }
           },
           "name": "Thriller",
           "offsetgroup": "Thriller",
           "orientation": "v",
           "showlegend": true,
           "textposition": "auto",
           "type": "bar",
           "x": [
            "Thriller"
           ],
           "xaxis": "x",
           "y": [
            0.67
           ],
           "yaxis": "y"
          },
          {
           "alignmentgroup": "True",
           "hovertemplate": "<b>%{hovertext}</b><br><br>Genre=%{x}<br>Decade=1910<br>Proportion of movies in percentage=%{y}<extra></extra>",
           "hovertext": [
            "Nbr movies: 1360"
           ],
           "ids": [
            "Short Film"
           ],
           "legendgroup": "Short Film",
           "marker": {
            "color": "#FF6692",
            "pattern": {
             "shape": ""
            }
           },
           "name": "Short Film",
           "offsetgroup": "Short Film",
           "orientation": "v",
           "showlegend": true,
           "textposition": "auto",
           "type": "bar",
           "x": [
            "Short Film"
           ],
           "xaxis": "x",
           "y": [
            50.96
           ],
           "yaxis": "y"
          },
          {
           "alignmentgroup": "True",
           "hovertemplate": "<b>%{hovertext}</b><br><br>Genre=%{x}<br>Decade=1910<br>Proportion of movies in percentage=%{y}<extra></extra>",
           "hovertext": [
            "Nbr movies: 6"
           ],
           "ids": [
            "World cinema"
           ],
           "legendgroup": "World cinema",
           "marker": {
            "color": "#B6E880",
            "pattern": {
             "shape": ""
            }
           },
           "name": "World cinema",
           "offsetgroup": "World cinema",
           "orientation": "v",
           "showlegend": true,
           "textposition": "auto",
           "type": "bar",
           "x": [
            "World cinema"
           ],
           "xaxis": "x",
           "y": [
            0.22
           ],
           "yaxis": "y"
          },
          {
           "alignmentgroup": "True",
           "hovertemplate": "<b>%{hovertext}</b><br><br>Genre=%{x}<br>Decade=1910<br>Proportion of movies in percentage=%{y}<extra></extra>",
           "hovertext": [
            "Nbr movies: 48"
           ],
           "ids": [
            "Crime Fiction"
           ],
           "legendgroup": "Crime Fiction",
           "marker": {
            "color": "#FF97FF",
            "pattern": {
             "shape": ""
            }
           },
           "name": "Crime Fiction",
           "offsetgroup": "Crime Fiction",
           "orientation": "v",
           "showlegend": true,
           "textposition": "auto",
           "type": "bar",
           "x": [
            "Crime Fiction"
           ],
           "xaxis": "x",
           "y": [
            1.8
           ],
           "yaxis": "y"
          },
          {
           "alignmentgroup": "True",
           "hovertemplate": "<b>%{hovertext}</b><br><br>Genre=%{x}<br>Decade=1910<br>Proportion of movies in percentage=%{y}<extra></extra>",
           "hovertext": [
            "Nbr movies: 1281"
           ],
           "ids": [
            "Indie"
           ],
           "legendgroup": "Indie",
           "marker": {
            "color": "#FECB52",
            "pattern": {
             "shape": ""
            }
           },
           "name": "Indie",
           "offsetgroup": "Indie",
           "orientation": "v",
           "showlegend": true,
           "textposition": "auto",
           "type": "bar",
           "x": [
            "Indie"
           ],
           "xaxis": "x",
           "y": [
            48
           ],
           "yaxis": "y"
          },
          {
           "alignmentgroup": "True",
           "hovertemplate": "<b>%{hovertext}</b><br><br>Genre=%{x}<br>Decade=1910<br>Proportion of movies in percentage=%{y}<extra></extra>",
           "hovertext": [
            "Nbr movies: 7"
           ],
           "ids": [
            "Documentary"
           ],
           "legendgroup": "Documentary",
           "marker": {
            "color": "#636efa",
            "pattern": {
             "shape": ""
            }
           },
           "name": "Documentary",
           "offsetgroup": "Documentary",
           "orientation": "v",
           "showlegend": true,
           "textposition": "auto",
           "type": "bar",
           "x": [
            "Documentary"
           ],
           "xaxis": "x",
           "y": [
            0.26
           ],
           "yaxis": "y"
          },
          {
           "alignmentgroup": "True",
           "hovertemplate": "<b>%{hovertext}</b><br><br>Genre=%{x}<br>Decade=1910<br>Proportion of movies in percentage=%{y}<extra></extra>",
           "hovertext": [
            "Nbr movies: 11"
           ],
           "ids": [
            "Horror"
           ],
           "legendgroup": "Horror",
           "marker": {
            "color": "#EF553B",
            "pattern": {
             "shape": ""
            }
           },
           "name": "Horror",
           "offsetgroup": "Horror",
           "orientation": "v",
           "showlegend": true,
           "textposition": "auto",
           "type": "bar",
           "x": [
            "Horror"
           ],
           "xaxis": "x",
           "y": [
            0.41
           ],
           "yaxis": "y"
          },
          {
           "alignmentgroup": "True",
           "hovertemplate": "<b>%{hovertext}</b><br><br>Genre=%{x}<br>Decade=1910<br>Proportion of movies in percentage=%{y}<extra></extra>",
           "hovertext": [
            "Nbr movies: 2021"
           ],
           "ids": [
            "Silent film"
           ],
           "legendgroup": "Silent film",
           "marker": {
            "color": "#00cc96",
            "pattern": {
             "shape": ""
            }
           },
           "name": "Silent film",
           "offsetgroup": "Silent film",
           "orientation": "v",
           "showlegend": true,
           "textposition": "auto",
           "type": "bar",
           "x": [
            "Silent film"
           ],
           "xaxis": "x",
           "y": [
            75.72
           ],
           "yaxis": "y"
          },
          {
           "alignmentgroup": "True",
           "hovertemplate": "<b>%{hovertext}</b><br><br>Genre=%{x}<br>Decade=1910<br>Proportion of movies in percentage=%{y}<extra></extra>",
           "hovertext": [
            "Nbr movies: 56"
           ],
           "ids": [
            "Adventure"
           ],
           "legendgroup": "Adventure",
           "marker": {
            "color": "#ab63fa",
            "pattern": {
             "shape": ""
            }
           },
           "name": "Adventure",
           "offsetgroup": "Adventure",
           "orientation": "v",
           "showlegend": true,
           "textposition": "auto",
           "type": "bar",
           "x": [
            "Adventure"
           ],
           "xaxis": "x",
           "y": [
            2.1
           ],
           "yaxis": "y"
          },
          {
           "alignmentgroup": "True",
           "hovertemplate": "<b>%{hovertext}</b><br><br>Genre=%{x}<br>Decade=1910<br>Proportion of movies in percentage=%{y}<extra></extra>",
           "hovertext": [
            "Nbr movies: 1"
           ],
           "ids": [
            "Family Film"
           ],
           "legendgroup": "Family Film",
           "marker": {
            "color": "#FFA15A",
            "pattern": {
             "shape": ""
            }
           },
           "name": "Family Film",
           "offsetgroup": "Family Film",
           "orientation": "v",
           "showlegend": true,
           "textposition": "auto",
           "type": "bar",
           "x": [
            "Family Film"
           ],
           "xaxis": "x",
           "y": [
            0.04
           ],
           "yaxis": "y"
          },
          {
           "alignmentgroup": "True",
           "hovertemplate": "<b>%{hovertext}</b><br><br>Genre=%{x}<br>Decade=1910<br>Proportion of movies in percentage=%{y}<extra></extra>",
           "hovertext": [
            "Nbr movies: 4"
           ],
           "ids": [
            "Action/Adventure"
           ],
           "legendgroup": "Action/Adventure",
           "marker": {
            "color": "#19d3f3",
            "pattern": {
             "shape": ""
            }
           },
           "name": "Action/Adventure",
           "offsetgroup": "Action/Adventure",
           "orientation": "v",
           "showlegend": true,
           "textposition": "auto",
           "type": "bar",
           "x": [
            "Action/Adventure"
           ],
           "xaxis": "x",
           "y": [
            0.15
           ],
           "yaxis": "y"
          },
          {
           "alignmentgroup": "True",
           "hovertemplate": "<b>%{hovertext}</b><br><br>Genre=%{x}<br>Decade=1910<br>Proportion of movies in percentage=%{y}<extra></extra>",
           "hovertext": [
            "Nbr movies: 44"
           ],
           "ids": [
            "Comedy film"
           ],
           "legendgroup": "Comedy film",
           "marker": {
            "color": "#FF6692",
            "pattern": {
             "shape": ""
            }
           },
           "name": "Comedy film",
           "offsetgroup": "Comedy film",
           "orientation": "v",
           "showlegend": true,
           "textposition": "auto",
           "type": "bar",
           "x": [
            "Comedy film"
           ],
           "xaxis": "x",
           "y": [
            1.65
           ],
           "yaxis": "y"
          },
          {
           "alignmentgroup": "True",
           "hovertemplate": "<b>%{hovertext}</b><br><br>Genre=%{x}<br>Decade=1910<br>Proportion of movies in percentage=%{y}<extra></extra>",
           "hovertext": [
            "Nbr movies: 2"
           ],
           "ids": [
            "Musical"
           ],
           "legendgroup": "Musical",
           "marker": {
            "color": "#B6E880",
            "pattern": {
             "shape": ""
            }
           },
           "name": "Musical",
           "offsetgroup": "Musical",
           "orientation": "v",
           "showlegend": true,
           "textposition": "auto",
           "type": "bar",
           "x": [
            "Musical"
           ],
           "xaxis": "x",
           "y": [
            0.07
           ],
           "yaxis": "y"
          },
          {
           "alignmentgroup": "True",
           "hovertemplate": "<b>%{hovertext}</b><br><br>Genre=%{x}<br>Decade=1910<br>Proportion of movies in percentage=%{y}<extra></extra>",
           "hovertext": [
            "Nbr movies: 5"
           ],
           "ids": [
            "Animation"
           ],
           "legendgroup": "Animation",
           "marker": {
            "color": "#FF97FF",
            "pattern": {
             "shape": ""
            }
           },
           "name": "Animation",
           "offsetgroup": "Animation",
           "orientation": "v",
           "showlegend": true,
           "textposition": "auto",
           "type": "bar",
           "x": [
            "Animation"
           ],
           "xaxis": "x",
           "y": [
            0.19
           ],
           "yaxis": "y"
          },
          {
           "alignmentgroup": "True",
           "hovertemplate": "<b>%{hovertext}</b><br><br>Genre=%{x}<br>Decade=1910<br>Proportion of movies in percentage=%{y}<extra></extra>",
           "hovertext": [
            "Nbr movies: 9"
           ],
           "ids": [
            "Romantic drama"
           ],
           "legendgroup": "Romantic drama",
           "marker": {
            "color": "#FECB52",
            "pattern": {
             "shape": ""
            }
           },
           "name": "Romantic drama",
           "offsetgroup": "Romantic drama",
           "orientation": "v",
           "showlegend": true,
           "textposition": "auto",
           "type": "bar",
           "x": [
            "Romantic drama"
           ],
           "xaxis": "x",
           "y": [
            0.34
           ],
           "yaxis": "y"
          }
         ],
         "name": "1910"
        },
        {
         "data": [
          {
           "alignmentgroup": "True",
           "hovertemplate": "<b>%{hovertext}</b><br><br>Genre=%{x}<br>Decade=1920<br>Proportion of movies in percentage=%{y}<extra></extra>",
           "hovertext": [
            "Nbr movies: 1100"
           ],
           "ids": [
            "Drama"
           ],
           "legendgroup": "Drama",
           "marker": {
            "color": "#636efa",
            "pattern": {
             "shape": ""
            }
           },
           "name": "Drama",
           "offsetgroup": "Drama",
           "orientation": "v",
           "showlegend": true,
           "textposition": "auto",
           "type": "bar",
           "x": [
            "Drama"
           ],
           "xaxis": "x",
           "y": [
            38.15
           ],
           "yaxis": "y"
          },
          {
           "alignmentgroup": "True",
           "hovertemplate": "<b>%{hovertext}</b><br><br>Genre=%{x}<br>Decade=1920<br>Proportion of movies in percentage=%{y}<extra></extra>",
           "hovertext": [
            "Nbr movies: 493"
           ],
           "ids": [
            "Comedy"
           ],
           "legendgroup": "Comedy",
           "marker": {
            "color": "#EF553B",
            "pattern": {
             "shape": ""
            }
           },
           "name": "Comedy",
           "offsetgroup": "Comedy",
           "orientation": "v",
           "showlegend": true,
           "textposition": "auto",
           "type": "bar",
           "x": [
            "Comedy"
           ],
           "xaxis": "x",
           "y": [
            17.1
           ],
           "yaxis": "y"
          },
          {
           "alignmentgroup": "True",
           "hovertemplate": "<b>%{hovertext}</b><br><br>Genre=%{x}<br>Decade=1920<br>Proportion of movies in percentage=%{y}<extra></extra>",
           "hovertext": [
            "Nbr movies: 309"
           ],
           "ids": [
            "Romance Film"
           ],
           "legendgroup": "Romance Film",
           "marker": {
            "color": "#00cc96",
            "pattern": {
             "shape": ""
            }
           },
           "name": "Romance Film",
           "offsetgroup": "Romance Film",
           "orientation": "v",
           "showlegend": true,
           "textposition": "auto",
           "type": "bar",
           "x": [
            "Romance Film"
           ],
           "xaxis": "x",
           "y": [
            10.72
           ],
           "yaxis": "y"
          },
          {
           "alignmentgroup": "True",
           "hovertemplate": "<b>%{hovertext}</b><br><br>Genre=%{x}<br>Decade=1920<br>Proportion of movies in percentage=%{y}<extra></extra>",
           "hovertext": [
            "Nbr movies: 1358"
           ],
           "ids": [
            "Black-and-white"
           ],
           "legendgroup": "Black-and-white",
           "marker": {
            "color": "#ab63fa",
            "pattern": {
             "shape": ""
            }
           },
           "name": "Black-and-white",
           "offsetgroup": "Black-and-white",
           "orientation": "v",
           "showlegend": true,
           "textposition": "auto",
           "type": "bar",
           "x": [
            "Black-and-white"
           ],
           "xaxis": "x",
           "y": [
            47.1
           ],
           "yaxis": "y"
          },
          {
           "alignmentgroup": "True",
           "hovertemplate": "<b>%{hovertext}</b><br><br>Genre=%{x}<br>Decade=1920<br>Proportion of movies in percentage=%{y}<extra></extra>",
           "hovertext": [
            "Nbr movies: 106"
           ],
           "ids": [
            "Action"
           ],
           "legendgroup": "Action",
           "marker": {
            "color": "#FFA15A",
            "pattern": {
             "shape": ""
            }
           },
           "name": "Action",
           "offsetgroup": "Action",
           "orientation": "v",
           "showlegend": true,
           "textposition": "auto",
           "type": "bar",
           "x": [
            "Action"
           ],
           "xaxis": "x",
           "y": [
            3.68
           ],
           "yaxis": "y"
          },
          {
           "alignmentgroup": "True",
           "hovertemplate": "<b>%{hovertext}</b><br><br>Genre=%{x}<br>Decade=1920<br>Proportion of movies in percentage=%{y}<extra></extra>",
           "hovertext": [
            "Nbr movies: 28"
           ],
           "ids": [
            "Thriller"
           ],
           "legendgroup": "Thriller",
           "marker": {
            "color": "#19d3f3",
            "pattern": {
             "shape": ""
            }
           },
           "name": "Thriller",
           "offsetgroup": "Thriller",
           "orientation": "v",
           "showlegend": true,
           "textposition": "auto",
           "type": "bar",
           "x": [
            "Thriller"
           ],
           "xaxis": "x",
           "y": [
            0.97
           ],
           "yaxis": "y"
          },
          {
           "alignmentgroup": "True",
           "hovertemplate": "<b>%{hovertext}</b><br><br>Genre=%{x}<br>Decade=1920<br>Proportion of movies in percentage=%{y}<extra></extra>",
           "hovertext": [
            "Nbr movies: 440"
           ],
           "ids": [
            "Short Film"
           ],
           "legendgroup": "Short Film",
           "marker": {
            "color": "#FF6692",
            "pattern": {
             "shape": ""
            }
           },
           "name": "Short Film",
           "offsetgroup": "Short Film",
           "orientation": "v",
           "showlegend": true,
           "textposition": "auto",
           "type": "bar",
           "x": [
            "Short Film"
           ],
           "xaxis": "x",
           "y": [
            15.26
           ],
           "yaxis": "y"
          },
          {
           "alignmentgroup": "True",
           "hovertemplate": "<b>%{hovertext}</b><br><br>Genre=%{x}<br>Decade=1920<br>Proportion of movies in percentage=%{y}<extra></extra>",
           "hovertext": [
            "Nbr movies: 45"
           ],
           "ids": [
            "World cinema"
           ],
           "legendgroup": "World cinema",
           "marker": {
            "color": "#B6E880",
            "pattern": {
             "shape": ""
            }
           },
           "name": "World cinema",
           "offsetgroup": "World cinema",
           "orientation": "v",
           "showlegend": true,
           "textposition": "auto",
           "type": "bar",
           "x": [
            "World cinema"
           ],
           "xaxis": "x",
           "y": [
            1.56
           ],
           "yaxis": "y"
          },
          {
           "alignmentgroup": "True",
           "hovertemplate": "<b>%{hovertext}</b><br><br>Genre=%{x}<br>Decade=1920<br>Proportion of movies in percentage=%{y}<extra></extra>",
           "hovertext": [
            "Nbr movies: 113"
           ],
           "ids": [
            "Crime Fiction"
           ],
           "legendgroup": "Crime Fiction",
           "marker": {
            "color": "#FF97FF",
            "pattern": {
             "shape": ""
            }
           },
           "name": "Crime Fiction",
           "offsetgroup": "Crime Fiction",
           "orientation": "v",
           "showlegend": true,
           "textposition": "auto",
           "type": "bar",
           "x": [
            "Crime Fiction"
           ],
           "xaxis": "x",
           "y": [
            3.92
           ],
           "yaxis": "y"
          },
          {
           "alignmentgroup": "True",
           "hovertemplate": "<b>%{hovertext}</b><br><br>Genre=%{x}<br>Decade=1920<br>Proportion of movies in percentage=%{y}<extra></extra>",
           "hovertext": [
            "Nbr movies: 804"
           ],
           "ids": [
            "Indie"
           ],
           "legendgroup": "Indie",
           "marker": {
            "color": "#FECB52",
            "pattern": {
             "shape": ""
            }
           },
           "name": "Indie",
           "offsetgroup": "Indie",
           "orientation": "v",
           "showlegend": true,
           "textposition": "auto",
           "type": "bar",
           "x": [
            "Indie"
           ],
           "xaxis": "x",
           "y": [
            27.89
           ],
           "yaxis": "y"
          },
          {
           "alignmentgroup": "True",
           "hovertemplate": "<b>%{hovertext}</b><br><br>Genre=%{x}<br>Decade=1920<br>Proportion of movies in percentage=%{y}<extra></extra>",
           "hovertext": [
            "Nbr movies: 8"
           ],
           "ids": [
            "Documentary"
           ],
           "legendgroup": "Documentary",
           "marker": {
            "color": "#636efa",
            "pattern": {
             "shape": ""
            }
           },
           "name": "Documentary",
           "offsetgroup": "Documentary",
           "orientation": "v",
           "showlegend": true,
           "textposition": "auto",
           "type": "bar",
           "x": [
            "Documentary"
           ],
           "xaxis": "x",
           "y": [
            0.28
           ],
           "yaxis": "y"
          },
          {
           "alignmentgroup": "True",
           "hovertemplate": "<b>%{hovertext}</b><br><br>Genre=%{x}<br>Decade=1920<br>Proportion of movies in percentage=%{y}<extra></extra>",
           "hovertext": [
            "Nbr movies: 35"
           ],
           "ids": [
            "Horror"
           ],
           "legendgroup": "Horror",
           "marker": {
            "color": "#EF553B",
            "pattern": {
             "shape": ""
            }
           },
           "name": "Horror",
           "offsetgroup": "Horror",
           "orientation": "v",
           "showlegend": true,
           "textposition": "auto",
           "type": "bar",
           "x": [
            "Horror"
           ],
           "xaxis": "x",
           "y": [
            1.21
           ],
           "yaxis": "y"
          },
          {
           "alignmentgroup": "True",
           "hovertemplate": "<b>%{hovertext}</b><br><br>Genre=%{x}<br>Decade=1920<br>Proportion of movies in percentage=%{y}<extra></extra>",
           "hovertext": [
            "Nbr movies: 1688"
           ],
           "ids": [
            "Silent film"
           ],
           "legendgroup": "Silent film",
           "marker": {
            "color": "#00cc96",
            "pattern": {
             "shape": ""
            }
           },
           "name": "Silent film",
           "offsetgroup": "Silent film",
           "orientation": "v",
           "showlegend": true,
           "textposition": "auto",
           "type": "bar",
           "x": [
            "Silent film"
           ],
           "xaxis": "x",
           "y": [
            58.55
           ],
           "yaxis": "y"
          },
          {
           "alignmentgroup": "True",
           "hovertemplate": "<b>%{hovertext}</b><br><br>Genre=%{x}<br>Decade=1920<br>Proportion of movies in percentage=%{y}<extra></extra>",
           "hovertext": [
            "Nbr movies: 153"
           ],
           "ids": [
            "Adventure"
           ],
           "legendgroup": "Adventure",
           "marker": {
            "color": "#ab63fa",
            "pattern": {
             "shape": ""
            }
           },
           "name": "Adventure",
           "offsetgroup": "Adventure",
           "orientation": "v",
           "showlegend": true,
           "textposition": "auto",
           "type": "bar",
           "x": [
            "Adventure"
           ],
           "xaxis": "x",
           "y": [
            5.31
           ],
           "yaxis": "y"
          },
          {
           "alignmentgroup": "True",
           "hovertemplate": "<b>%{hovertext}</b><br><br>Genre=%{x}<br>Decade=1920<br>Proportion of movies in percentage=%{y}<extra></extra>",
           "hovertext": [
            "Nbr movies: 72"
           ],
           "ids": [
            "Family Film"
           ],
           "legendgroup": "Family Film",
           "marker": {
            "color": "#FFA15A",
            "pattern": {
             "shape": ""
            }
           },
           "name": "Family Film",
           "offsetgroup": "Family Film",
           "orientation": "v",
           "showlegend": true,
           "textposition": "auto",
           "type": "bar",
           "x": [
            "Family Film"
           ],
           "xaxis": "x",
           "y": [
            2.5
           ],
           "yaxis": "y"
          },
          {
           "alignmentgroup": "True",
           "hovertemplate": "<b>%{hovertext}</b><br><br>Genre=%{x}<br>Decade=1920<br>Proportion of movies in percentage=%{y}<extra></extra>",
           "hovertext": [
            "Nbr movies: 22"
           ],
           "ids": [
            "Action/Adventure"
           ],
           "legendgroup": "Action/Adventure",
           "marker": {
            "color": "#19d3f3",
            "pattern": {
             "shape": ""
            }
           },
           "name": "Action/Adventure",
           "offsetgroup": "Action/Adventure",
           "orientation": "v",
           "showlegend": true,
           "textposition": "auto",
           "type": "bar",
           "x": [
            "Action/Adventure"
           ],
           "xaxis": "x",
           "y": [
            0.76
           ],
           "yaxis": "y"
          },
          {
           "alignmentgroup": "True",
           "hovertemplate": "<b>%{hovertext}</b><br><br>Genre=%{x}<br>Decade=1920<br>Proportion of movies in percentage=%{y}<extra></extra>",
           "hovertext": [
            "Nbr movies: 57"
           ],
           "ids": [
            "Comedy film"
           ],
           "legendgroup": "Comedy film",
           "marker": {
            "color": "#FF6692",
            "pattern": {
             "shape": ""
            }
           },
           "name": "Comedy film",
           "offsetgroup": "Comedy film",
           "orientation": "v",
           "showlegend": true,
           "textposition": "auto",
           "type": "bar",
           "x": [
            "Comedy film"
           ],
           "xaxis": "x",
           "y": [
            1.98
           ],
           "yaxis": "y"
          },
          {
           "alignmentgroup": "True",
           "hovertemplate": "<b>%{hovertext}</b><br><br>Genre=%{x}<br>Decade=1920<br>Proportion of movies in percentage=%{y}<extra></extra>",
           "hovertext": [
            "Nbr movies: 40"
           ],
           "ids": [
            "Musical"
           ],
           "legendgroup": "Musical",
           "marker": {
            "color": "#B6E880",
            "pattern": {
             "shape": ""
            }
           },
           "name": "Musical",
           "offsetgroup": "Musical",
           "orientation": "v",
           "showlegend": true,
           "textposition": "auto",
           "type": "bar",
           "x": [
            "Musical"
           ],
           "xaxis": "x",
           "y": [
            1.39
           ],
           "yaxis": "y"
          },
          {
           "alignmentgroup": "True",
           "hovertemplate": "<b>%{hovertext}</b><br><br>Genre=%{x}<br>Decade=1920<br>Proportion of movies in percentage=%{y}<extra></extra>",
           "hovertext": [
            "Nbr movies: 15"
           ],
           "ids": [
            "Animation"
           ],
           "legendgroup": "Animation",
           "marker": {
            "color": "#FF97FF",
            "pattern": {
             "shape": ""
            }
           },
           "name": "Animation",
           "offsetgroup": "Animation",
           "orientation": "v",
           "showlegend": true,
           "textposition": "auto",
           "type": "bar",
           "x": [
            "Animation"
           ],
           "xaxis": "x",
           "y": [
            0.52
           ],
           "yaxis": "y"
          },
          {
           "alignmentgroup": "True",
           "hovertemplate": "<b>%{hovertext}</b><br><br>Genre=%{x}<br>Decade=1920<br>Proportion of movies in percentage=%{y}<extra></extra>",
           "hovertext": [
            "Nbr movies: 58"
           ],
           "ids": [
            "Romantic drama"
           ],
           "legendgroup": "Romantic drama",
           "marker": {
            "color": "#FECB52",
            "pattern": {
             "shape": ""
            }
           },
           "name": "Romantic drama",
           "offsetgroup": "Romantic drama",
           "orientation": "v",
           "showlegend": true,
           "textposition": "auto",
           "type": "bar",
           "x": [
            "Romantic drama"
           ],
           "xaxis": "x",
           "y": [
            2.01
           ],
           "yaxis": "y"
          }
         ],
         "name": "1920"
        },
        {
         "data": [
          {
           "alignmentgroup": "True",
           "hovertemplate": "<b>%{hovertext}</b><br><br>Genre=%{x}<br>Decade=1930<br>Proportion of movies in percentage=%{y}<extra></extra>",
           "hovertext": [
            "Nbr movies: 1789"
           ],
           "ids": [
            "Drama"
           ],
           "legendgroup": "Drama",
           "marker": {
            "color": "#636efa",
            "pattern": {
             "shape": ""
            }
           },
           "name": "Drama",
           "offsetgroup": "Drama",
           "orientation": "v",
           "showlegend": true,
           "textposition": "auto",
           "type": "bar",
           "x": [
            "Drama"
           ],
           "xaxis": "x",
           "y": [
            37.27
           ],
           "yaxis": "y"
          },
          {
           "alignmentgroup": "True",
           "hovertemplate": "<b>%{hovertext}</b><br><br>Genre=%{x}<br>Decade=1930<br>Proportion of movies in percentage=%{y}<extra></extra>",
           "hovertext": [
            "Nbr movies: 1145"
           ],
           "ids": [
            "Comedy"
           ],
           "legendgroup": "Comedy",
           "marker": {
            "color": "#EF553B",
            "pattern": {
             "shape": ""
            }
           },
           "name": "Comedy",
           "offsetgroup": "Comedy",
           "orientation": "v",
           "showlegend": true,
           "textposition": "auto",
           "type": "bar",
           "x": [
            "Comedy"
           ],
           "xaxis": "x",
           "y": [
            23.85
           ],
           "yaxis": "y"
          },
          {
           "alignmentgroup": "True",
           "hovertemplate": "<b>%{hovertext}</b><br><br>Genre=%{x}<br>Decade=1930<br>Proportion of movies in percentage=%{y}<extra></extra>",
           "hovertext": [
            "Nbr movies: 745"
           ],
           "ids": [
            "Romance Film"
           ],
           "legendgroup": "Romance Film",
           "marker": {
            "color": "#00cc96",
            "pattern": {
             "shape": ""
            }
           },
           "name": "Romance Film",
           "offsetgroup": "Romance Film",
           "orientation": "v",
           "showlegend": true,
           "textposition": "auto",
           "type": "bar",
           "x": [
            "Romance Film"
           ],
           "xaxis": "x",
           "y": [
            15.52
           ],
           "yaxis": "y"
          },
          {
           "alignmentgroup": "True",
           "hovertemplate": "<b>%{hovertext}</b><br><br>Genre=%{x}<br>Decade=1930<br>Proportion of movies in percentage=%{y}<extra></extra>",
           "hovertext": [
            "Nbr movies: 1970"
           ],
           "ids": [
            "Black-and-white"
           ],
           "legendgroup": "Black-and-white",
           "marker": {
            "color": "#ab63fa",
            "pattern": {
             "shape": ""
            }
           },
           "name": "Black-and-white",
           "offsetgroup": "Black-and-white",
           "orientation": "v",
           "showlegend": true,
           "textposition": "auto",
           "type": "bar",
           "x": [
            "Black-and-white"
           ],
           "xaxis": "x",
           "y": [
            41.04
           ],
           "yaxis": "y"
          },
          {
           "alignmentgroup": "True",
           "hovertemplate": "<b>%{hovertext}</b><br><br>Genre=%{x}<br>Decade=1930<br>Proportion of movies in percentage=%{y}<extra></extra>",
           "hovertext": [
            "Nbr movies: 383"
           ],
           "ids": [
            "Action"
           ],
           "legendgroup": "Action",
           "marker": {
            "color": "#FFA15A",
            "pattern": {
             "shape": ""
            }
           },
           "name": "Action",
           "offsetgroup": "Action",
           "orientation": "v",
           "showlegend": true,
           "textposition": "auto",
           "type": "bar",
           "x": [
            "Action"
           ],
           "xaxis": "x",
           "y": [
            7.98
           ],
           "yaxis": "y"
          },
          {
           "alignmentgroup": "True",
           "hovertemplate": "<b>%{hovertext}</b><br><br>Genre=%{x}<br>Decade=1930<br>Proportion of movies in percentage=%{y}<extra></extra>",
           "hovertext": [
            "Nbr movies: 170"
           ],
           "ids": [
            "Thriller"
           ],
           "legendgroup": "Thriller",
           "marker": {
            "color": "#19d3f3",
            "pattern": {
             "shape": ""
            }
           },
           "name": "Thriller",
           "offsetgroup": "Thriller",
           "orientation": "v",
           "showlegend": true,
           "textposition": "auto",
           "type": "bar",
           "x": [
            "Thriller"
           ],
           "xaxis": "x",
           "y": [
            3.54
           ],
           "yaxis": "y"
          },
          {
           "alignmentgroup": "True",
           "hovertemplate": "<b>%{hovertext}</b><br><br>Genre=%{x}<br>Decade=1930<br>Proportion of movies in percentage=%{y}<extra></extra>",
           "hovertext": [
            "Nbr movies: 434"
           ],
           "ids": [
            "Short Film"
           ],
           "legendgroup": "Short Film",
           "marker": {
            "color": "#FF6692",
            "pattern": {
             "shape": ""
            }
           },
           "name": "Short Film",
           "offsetgroup": "Short Film",
           "orientation": "v",
           "showlegend": true,
           "textposition": "auto",
           "type": "bar",
           "x": [
            "Short Film"
           ],
           "xaxis": "x",
           "y": [
            9.04
           ],
           "yaxis": "y"
          },
          {
           "alignmentgroup": "True",
           "hovertemplate": "<b>%{hovertext}</b><br><br>Genre=%{x}<br>Decade=1930<br>Proportion of movies in percentage=%{y}<extra></extra>",
           "hovertext": [
            "Nbr movies: 54"
           ],
           "ids": [
            "World cinema"
           ],
           "legendgroup": "World cinema",
           "marker": {
            "color": "#B6E880",
            "pattern": {
             "shape": ""
            }
           },
           "name": "World cinema",
           "offsetgroup": "World cinema",
           "orientation": "v",
           "showlegend": true,
           "textposition": "auto",
           "type": "bar",
           "x": [
            "World cinema"
           ],
           "xaxis": "x",
           "y": [
            1.12
           ],
           "yaxis": "y"
          },
          {
           "alignmentgroup": "True",
           "hovertemplate": "<b>%{hovertext}</b><br><br>Genre=%{x}<br>Decade=1930<br>Proportion of movies in percentage=%{y}<extra></extra>",
           "hovertext": [
            "Nbr movies: 404"
           ],
           "ids": [
            "Crime Fiction"
           ],
           "legendgroup": "Crime Fiction",
           "marker": {
            "color": "#FF97FF",
            "pattern": {
             "shape": ""
            }
           },
           "name": "Crime Fiction",
           "offsetgroup": "Crime Fiction",
           "orientation": "v",
           "showlegend": true,
           "textposition": "auto",
           "type": "bar",
           "x": [
            "Crime Fiction"
           ],
           "xaxis": "x",
           "y": [
            8.42
           ],
           "yaxis": "y"
          },
          {
           "alignmentgroup": "True",
           "hovertemplate": "<b>%{hovertext}</b><br><br>Genre=%{x}<br>Decade=1930<br>Proportion of movies in percentage=%{y}<extra></extra>",
           "hovertext": [
            "Nbr movies: 46"
           ],
           "ids": [
            "Indie"
           ],
           "legendgroup": "Indie",
           "marker": {
            "color": "#FECB52",
            "pattern": {
             "shape": ""
            }
           },
           "name": "Indie",
           "offsetgroup": "Indie",
           "orientation": "v",
           "showlegend": true,
           "textposition": "auto",
           "type": "bar",
           "x": [
            "Indie"
           ],
           "xaxis": "x",
           "y": [
            0.96
           ],
           "yaxis": "y"
          },
          {
           "alignmentgroup": "True",
           "hovertemplate": "<b>%{hovertext}</b><br><br>Genre=%{x}<br>Decade=1930<br>Proportion of movies in percentage=%{y}<extra></extra>",
           "hovertext": [
            "Nbr movies: 26"
           ],
           "ids": [
            "Documentary"
           ],
           "legendgroup": "Documentary",
           "marker": {
            "color": "#636efa",
            "pattern": {
             "shape": ""
            }
           },
           "name": "Documentary",
           "offsetgroup": "Documentary",
           "orientation": "v",
           "showlegend": true,
           "textposition": "auto",
           "type": "bar",
           "x": [
            "Documentary"
           ],
           "xaxis": "x",
           "y": [
            0.54
           ],
           "yaxis": "y"
          },
          {
           "alignmentgroup": "True",
           "hovertemplate": "<b>%{hovertext}</b><br><br>Genre=%{x}<br>Decade=1930<br>Proportion of movies in percentage=%{y}<extra></extra>",
           "hovertext": [
            "Nbr movies: 69"
           ],
           "ids": [
            "Horror"
           ],
           "legendgroup": "Horror",
           "marker": {
            "color": "#EF553B",
            "pattern": {
             "shape": ""
            }
           },
           "name": "Horror",
           "offsetgroup": "Horror",
           "orientation": "v",
           "showlegend": true,
           "textposition": "auto",
           "type": "bar",
           "x": [
            "Horror"
           ],
           "xaxis": "x",
           "y": [
            1.44
           ],
           "yaxis": "y"
          },
          {
           "alignmentgroup": "True",
           "hovertemplate": "<b>%{hovertext}</b><br><br>Genre=%{x}<br>Decade=1930<br>Proportion of movies in percentage=%{y}<extra></extra>",
           "hovertext": [
            "Nbr movies: 57"
           ],
           "ids": [
            "Silent film"
           ],
           "legendgroup": "Silent film",
           "marker": {
            "color": "#00cc96",
            "pattern": {
             "shape": ""
            }
           },
           "name": "Silent film",
           "offsetgroup": "Silent film",
           "orientation": "v",
           "showlegend": true,
           "textposition": "auto",
           "type": "bar",
           "x": [
            "Silent film"
           ],
           "xaxis": "x",
           "y": [
            1.19
           ],
           "yaxis": "y"
          },
          {
           "alignmentgroup": "True",
           "hovertemplate": "<b>%{hovertext}</b><br><br>Genre=%{x}<br>Decade=1930<br>Proportion of movies in percentage=%{y}<extra></extra>",
           "hovertext": [
            "Nbr movies: 310"
           ],
           "ids": [
            "Adventure"
           ],
           "legendgroup": "Adventure",
           "marker": {
            "color": "#ab63fa",
            "pattern": {
             "shape": ""
            }
           },
           "name": "Adventure",
           "offsetgroup": "Adventure",
           "orientation": "v",
           "showlegend": true,
           "textposition": "auto",
           "type": "bar",
           "x": [
            "Adventure"
           ],
           "xaxis": "x",
           "y": [
            6.46
           ],
           "yaxis": "y"
          },
          {
           "alignmentgroup": "True",
           "hovertemplate": "<b>%{hovertext}</b><br><br>Genre=%{x}<br>Decade=1930<br>Proportion of movies in percentage=%{y}<extra></extra>",
           "hovertext": [
            "Nbr movies: 213"
           ],
           "ids": [
            "Family Film"
           ],
           "legendgroup": "Family Film",
           "marker": {
            "color": "#FFA15A",
            "pattern": {
             "shape": ""
            }
           },
           "name": "Family Film",
           "offsetgroup": "Family Film",
           "orientation": "v",
           "showlegend": true,
           "textposition": "auto",
           "type": "bar",
           "x": [
            "Family Film"
           ],
           "xaxis": "x",
           "y": [
            4.44
           ],
           "yaxis": "y"
          },
          {
           "alignmentgroup": "True",
           "hovertemplate": "<b>%{hovertext}</b><br><br>Genre=%{x}<br>Decade=1930<br>Proportion of movies in percentage=%{y}<extra></extra>",
           "hovertext": [
            "Nbr movies: 173"
           ],
           "ids": [
            "Action/Adventure"
           ],
           "legendgroup": "Action/Adventure",
           "marker": {
            "color": "#19d3f3",
            "pattern": {
             "shape": ""
            }
           },
           "name": "Action/Adventure",
           "offsetgroup": "Action/Adventure",
           "orientation": "v",
           "showlegend": true,
           "textposition": "auto",
           "type": "bar",
           "x": [
            "Action/Adventure"
           ],
           "xaxis": "x",
           "y": [
            3.6
           ],
           "yaxis": "y"
          },
          {
           "alignmentgroup": "True",
           "hovertemplate": "<b>%{hovertext}</b><br><br>Genre=%{x}<br>Decade=1930<br>Proportion of movies in percentage=%{y}<extra></extra>",
           "hovertext": [
            "Nbr movies: 153"
           ],
           "ids": [
            "Comedy film"
           ],
           "legendgroup": "Comedy film",
           "marker": {
            "color": "#FF6692",
            "pattern": {
             "shape": ""
            }
           },
           "name": "Comedy film",
           "offsetgroup": "Comedy film",
           "orientation": "v",
           "showlegend": true,
           "textposition": "auto",
           "type": "bar",
           "x": [
            "Comedy film"
           ],
           "xaxis": "x",
           "y": [
            3.19
           ],
           "yaxis": "y"
          },
          {
           "alignmentgroup": "True",
           "hovertemplate": "<b>%{hovertext}</b><br><br>Genre=%{x}<br>Decade=1930<br>Proportion of movies in percentage=%{y}<extra></extra>",
           "hovertext": [
            "Nbr movies: 402"
           ],
           "ids": [
            "Musical"
           ],
           "legendgroup": "Musical",
           "marker": {
            "color": "#B6E880",
            "pattern": {
             "shape": ""
            }
           },
           "name": "Musical",
           "offsetgroup": "Musical",
           "orientation": "v",
           "showlegend": true,
           "textposition": "auto",
           "type": "bar",
           "x": [
            "Musical"
           ],
           "xaxis": "x",
           "y": [
            8.38
           ],
           "yaxis": "y"
          },
          {
           "alignmentgroup": "True",
           "hovertemplate": "<b>%{hovertext}</b><br><br>Genre=%{x}<br>Decade=1930<br>Proportion of movies in percentage=%{y}<extra></extra>",
           "hovertext": [
            "Nbr movies: 114"
           ],
           "ids": [
            "Animation"
           ],
           "legendgroup": "Animation",
           "marker": {
            "color": "#FF97FF",
            "pattern": {
             "shape": ""
            }
           },
           "name": "Animation",
           "offsetgroup": "Animation",
           "orientation": "v",
           "showlegend": true,
           "textposition": "auto",
           "type": "bar",
           "x": [
            "Animation"
           ],
           "xaxis": "x",
           "y": [
            2.38
           ],
           "yaxis": "y"
          },
          {
           "alignmentgroup": "True",
           "hovertemplate": "<b>%{hovertext}</b><br><br>Genre=%{x}<br>Decade=1930<br>Proportion of movies in percentage=%{y}<extra></extra>",
           "hovertext": [
            "Nbr movies: 113"
           ],
           "ids": [
            "Romantic drama"
           ],
           "legendgroup": "Romantic drama",
           "marker": {
            "color": "#FECB52",
            "pattern": {
             "shape": ""
            }
           },
           "name": "Romantic drama",
           "offsetgroup": "Romantic drama",
           "orientation": "v",
           "showlegend": true,
           "textposition": "auto",
           "type": "bar",
           "x": [
            "Romantic drama"
           ],
           "xaxis": "x",
           "y": [
            2.35
           ],
           "yaxis": "y"
          }
         ],
         "name": "1930"
        },
        {
         "data": [
          {
           "alignmentgroup": "True",
           "hovertemplate": "<b>%{hovertext}</b><br><br>Genre=%{x}<br>Decade=1940<br>Proportion of movies in percentage=%{y}<extra></extra>",
           "hovertext": [
            "Nbr movies: 1679"
           ],
           "ids": [
            "Drama"
           ],
           "legendgroup": "Drama",
           "marker": {
            "color": "#636efa",
            "pattern": {
             "shape": ""
            }
           },
           "name": "Drama",
           "offsetgroup": "Drama",
           "orientation": "v",
           "showlegend": true,
           "textposition": "auto",
           "type": "bar",
           "x": [
            "Drama"
           ],
           "xaxis": "x",
           "y": [
            37.6
           ],
           "yaxis": "y"
          },
          {
           "alignmentgroup": "True",
           "hovertemplate": "<b>%{hovertext}</b><br><br>Genre=%{x}<br>Decade=1940<br>Proportion of movies in percentage=%{y}<extra></extra>",
           "hovertext": [
            "Nbr movies: 958"
           ],
           "ids": [
            "Comedy"
           ],
           "legendgroup": "Comedy",
           "marker": {
            "color": "#EF553B",
            "pattern": {
             "shape": ""
            }
           },
           "name": "Comedy",
           "offsetgroup": "Comedy",
           "orientation": "v",
           "showlegend": true,
           "textposition": "auto",
           "type": "bar",
           "x": [
            "Comedy"
           ],
           "xaxis": "x",
           "y": [
            21.45
           ],
           "yaxis": "y"
          },
          {
           "alignmentgroup": "True",
           "hovertemplate": "<b>%{hovertext}</b><br><br>Genre=%{x}<br>Decade=1940<br>Proportion of movies in percentage=%{y}<extra></extra>",
           "hovertext": [
            "Nbr movies: 560"
           ],
           "ids": [
            "Romance Film"
           ],
           "legendgroup": "Romance Film",
           "marker": {
            "color": "#00cc96",
            "pattern": {
             "shape": ""
            }
           },
           "name": "Romance Film",
           "offsetgroup": "Romance Film",
           "orientation": "v",
           "showlegend": true,
           "textposition": "auto",
           "type": "bar",
           "x": [
            "Romance Film"
           ],
           "xaxis": "x",
           "y": [
            12.54
           ],
           "yaxis": "y"
          },
          {
           "alignmentgroup": "True",
           "hovertemplate": "<b>%{hovertext}</b><br><br>Genre=%{x}<br>Decade=1940<br>Proportion of movies in percentage=%{y}<extra></extra>",
           "hovertext": [
            "Nbr movies: 1607"
           ],
           "ids": [
            "Black-and-white"
           ],
           "legendgroup": "Black-and-white",
           "marker": {
            "color": "#ab63fa",
            "pattern": {
             "shape": ""
            }
           },
           "name": "Black-and-white",
           "offsetgroup": "Black-and-white",
           "orientation": "v",
           "showlegend": true,
           "textposition": "auto",
           "type": "bar",
           "x": [
            "Black-and-white"
           ],
           "xaxis": "x",
           "y": [
            35.98
           ],
           "yaxis": "y"
          },
          {
           "alignmentgroup": "True",
           "hovertemplate": "<b>%{hovertext}</b><br><br>Genre=%{x}<br>Decade=1940<br>Proportion of movies in percentage=%{y}<extra></extra>",
           "hovertext": [
            "Nbr movies: 355"
           ],
           "ids": [
            "Action"
           ],
           "legendgroup": "Action",
           "marker": {
            "color": "#FFA15A",
            "pattern": {
             "shape": ""
            }
           },
           "name": "Action",
           "offsetgroup": "Action",
           "orientation": "v",
           "showlegend": true,
           "textposition": "auto",
           "type": "bar",
           "x": [
            "Action"
           ],
           "xaxis": "x",
           "y": [
            7.95
           ],
           "yaxis": "y"
          },
          {
           "alignmentgroup": "True",
           "hovertemplate": "<b>%{hovertext}</b><br><br>Genre=%{x}<br>Decade=1940<br>Proportion of movies in percentage=%{y}<extra></extra>",
           "hovertext": [
            "Nbr movies: 292"
           ],
           "ids": [
            "Thriller"
           ],
           "legendgroup": "Thriller",
           "marker": {
            "color": "#19d3f3",
            "pattern": {
             "shape": ""
            }
           },
           "name": "Thriller",
           "offsetgroup": "Thriller",
           "orientation": "v",
           "showlegend": true,
           "textposition": "auto",
           "type": "bar",
           "x": [
            "Thriller"
           ],
           "xaxis": "x",
           "y": [
            6.54
           ],
           "yaxis": "y"
          },
          {
           "alignmentgroup": "True",
           "hovertemplate": "<b>%{hovertext}</b><br><br>Genre=%{x}<br>Decade=1940<br>Proportion of movies in percentage=%{y}<extra></extra>",
           "hovertext": [
            "Nbr movies: 288"
           ],
           "ids": [
            "Short Film"
           ],
           "legendgroup": "Short Film",
           "marker": {
            "color": "#FF6692",
            "pattern": {
             "shape": ""
            }
           },
           "name": "Short Film",
           "offsetgroup": "Short Film",
           "orientation": "v",
           "showlegend": true,
           "textposition": "auto",
           "type": "bar",
           "x": [
            "Short Film"
           ],
           "xaxis": "x",
           "y": [
            6.45
           ],
           "yaxis": "y"
          },
          {
           "alignmentgroup": "True",
           "hovertemplate": "<b>%{hovertext}</b><br><br>Genre=%{x}<br>Decade=1940<br>Proportion of movies in percentage=%{y}<extra></extra>",
           "hovertext": [
            "Nbr movies: 59"
           ],
           "ids": [
            "World cinema"
           ],
           "legendgroup": "World cinema",
           "marker": {
            "color": "#B6E880",
            "pattern": {
             "shape": ""
            }
           },
           "name": "World cinema",
           "offsetgroup": "World cinema",
           "orientation": "v",
           "showlegend": true,
           "textposition": "auto",
           "type": "bar",
           "x": [
            "World cinema"
           ],
           "xaxis": "x",
           "y": [
            1.32
           ],
           "yaxis": "y"
          },
          {
           "alignmentgroup": "True",
           "hovertemplate": "<b>%{hovertext}</b><br><br>Genre=%{x}<br>Decade=1940<br>Proportion of movies in percentage=%{y}<extra></extra>",
           "hovertext": [
            "Nbr movies: 368"
           ],
           "ids": [
            "Crime Fiction"
           ],
           "legendgroup": "Crime Fiction",
           "marker": {
            "color": "#FF97FF",
            "pattern": {
             "shape": ""
            }
           },
           "name": "Crime Fiction",
           "offsetgroup": "Crime Fiction",
           "orientation": "v",
           "showlegend": true,
           "textposition": "auto",
           "type": "bar",
           "x": [
            "Crime Fiction"
           ],
           "xaxis": "x",
           "y": [
            8.24
           ],
           "yaxis": "y"
          },
          {
           "alignmentgroup": "True",
           "hovertemplate": "<b>%{hovertext}</b><br><br>Genre=%{x}<br>Decade=1940<br>Proportion of movies in percentage=%{y}<extra></extra>",
           "hovertext": [
            "Nbr movies: 8"
           ],
           "ids": [
            "Indie"
           ],
           "legendgroup": "Indie",
           "marker": {
            "color": "#FECB52",
            "pattern": {
             "shape": ""
            }
           },
           "name": "Indie",
           "offsetgroup": "Indie",
           "orientation": "v",
           "showlegend": true,
           "textposition": "auto",
           "type": "bar",
           "x": [
            "Indie"
           ],
           "xaxis": "x",
           "y": [
            0.18
           ],
           "yaxis": "y"
          },
          {
           "alignmentgroup": "True",
           "hovertemplate": "<b>%{hovertext}</b><br><br>Genre=%{x}<br>Decade=1940<br>Proportion of movies in percentage=%{y}<extra></extra>",
           "hovertext": [
            "Nbr movies: 55"
           ],
           "ids": [
            "Documentary"
           ],
           "legendgroup": "Documentary",
           "marker": {
            "color": "#636efa",
            "pattern": {
             "shape": ""
            }
           },
           "name": "Documentary",
           "offsetgroup": "Documentary",
           "orientation": "v",
           "showlegend": true,
           "textposition": "auto",
           "type": "bar",
           "x": [
            "Documentary"
           ],
           "xaxis": "x",
           "y": [
            1.23
           ],
           "yaxis": "y"
          },
          {
           "alignmentgroup": "True",
           "hovertemplate": "<b>%{hovertext}</b><br><br>Genre=%{x}<br>Decade=1940<br>Proportion of movies in percentage=%{y}<extra></extra>",
           "hovertext": [
            "Nbr movies: 73"
           ],
           "ids": [
            "Horror"
           ],
           "legendgroup": "Horror",
           "marker": {
            "color": "#EF553B",
            "pattern": {
             "shape": ""
            }
           },
           "name": "Horror",
           "offsetgroup": "Horror",
           "orientation": "v",
           "showlegend": true,
           "textposition": "auto",
           "type": "bar",
           "x": [
            "Horror"
           ],
           "xaxis": "x",
           "y": [
            1.63
           ],
           "yaxis": "y"
          },
          {
           "alignmentgroup": "True",
           "hovertemplate": "<b>%{hovertext}</b><br><br>Genre=%{x}<br>Decade=1940<br>Proportion of movies in percentage=%{y}<extra></extra>",
           "hovertext": [
            "Nbr movies: 3"
           ],
           "ids": [
            "Silent film"
           ],
           "legendgroup": "Silent film",
           "marker": {
            "color": "#00cc96",
            "pattern": {
             "shape": ""
            }
           },
           "name": "Silent film",
           "offsetgroup": "Silent film",
           "orientation": "v",
           "showlegend": true,
           "textposition": "auto",
           "type": "bar",
           "x": [
            "Silent film"
           ],
           "xaxis": "x",
           "y": [
            0.07
           ],
           "yaxis": "y"
          },
          {
           "alignmentgroup": "True",
           "hovertemplate": "<b>%{hovertext}</b><br><br>Genre=%{x}<br>Decade=1940<br>Proportion of movies in percentage=%{y}<extra></extra>",
           "hovertext": [
            "Nbr movies: 281"
           ],
           "ids": [
            "Adventure"
           ],
           "legendgroup": "Adventure",
           "marker": {
            "color": "#ab63fa",
            "pattern": {
             "shape": ""
            }
           },
           "name": "Adventure",
           "offsetgroup": "Adventure",
           "orientation": "v",
           "showlegend": true,
           "textposition": "auto",
           "type": "bar",
           "x": [
            "Adventure"
           ],
           "xaxis": "x",
           "y": [
            6.29
           ],
           "yaxis": "y"
          },
          {
           "alignmentgroup": "True",
           "hovertemplate": "<b>%{hovertext}</b><br><br>Genre=%{x}<br>Decade=1940<br>Proportion of movies in percentage=%{y}<extra></extra>",
           "hovertext": [
            "Nbr movies: 215"
           ],
           "ids": [
            "Family Film"
           ],
           "legendgroup": "Family Film",
           "marker": {
            "color": "#FFA15A",
            "pattern": {
             "shape": ""
            }
           },
           "name": "Family Film",
           "offsetgroup": "Family Film",
           "orientation": "v",
           "showlegend": true,
           "textposition": "auto",
           "type": "bar",
           "x": [
            "Family Film"
           ],
           "xaxis": "x",
           "y": [
            4.81
           ],
           "yaxis": "y"
          },
          {
           "alignmentgroup": "True",
           "hovertemplate": "<b>%{hovertext}</b><br><br>Genre=%{x}<br>Decade=1940<br>Proportion of movies in percentage=%{y}<extra></extra>",
           "hovertext": [
            "Nbr movies: 173"
           ],
           "ids": [
            "Action/Adventure"
           ],
           "legendgroup": "Action/Adventure",
           "marker": {
            "color": "#19d3f3",
            "pattern": {
             "shape": ""
            }
           },
           "name": "Action/Adventure",
           "offsetgroup": "Action/Adventure",
           "orientation": "v",
           "showlegend": true,
           "textposition": "auto",
           "type": "bar",
           "x": [
            "Action/Adventure"
           ],
           "xaxis": "x",
           "y": [
            3.87
           ],
           "yaxis": "y"
          },
          {
           "alignmentgroup": "True",
           "hovertemplate": "<b>%{hovertext}</b><br><br>Genre=%{x}<br>Decade=1940<br>Proportion of movies in percentage=%{y}<extra></extra>",
           "hovertext": [
            "Nbr movies: 96"
           ],
           "ids": [
            "Comedy film"
           ],
           "legendgroup": "Comedy film",
           "marker": {
            "color": "#FF6692",
            "pattern": {
             "shape": ""
            }
           },
           "name": "Comedy film",
           "offsetgroup": "Comedy film",
           "orientation": "v",
           "showlegend": true,
           "textposition": "auto",
           "type": "bar",
           "x": [
            "Comedy film"
           ],
           "xaxis": "x",
           "y": [
            2.15
           ],
           "yaxis": "y"
          },
          {
           "alignmentgroup": "True",
           "hovertemplate": "<b>%{hovertext}</b><br><br>Genre=%{x}<br>Decade=1940<br>Proportion of movies in percentage=%{y}<extra></extra>",
           "hovertext": [
            "Nbr movies: 293"
           ],
           "ids": [
            "Musical"
           ],
           "legendgroup": "Musical",
           "marker": {
            "color": "#B6E880",
            "pattern": {
             "shape": ""
            }
           },
           "name": "Musical",
           "offsetgroup": "Musical",
           "orientation": "v",
           "showlegend": true,
           "textposition": "auto",
           "type": "bar",
           "x": [
            "Musical"
           ],
           "xaxis": "x",
           "y": [
            6.56
           ],
           "yaxis": "y"
          },
          {
           "alignmentgroup": "True",
           "hovertemplate": "<b>%{hovertext}</b><br><br>Genre=%{x}<br>Decade=1940<br>Proportion of movies in percentage=%{y}<extra></extra>",
           "hovertext": [
            "Nbr movies: 105"
           ],
           "ids": [
            "Animation"
           ],
           "legendgroup": "Animation",
           "marker": {
            "color": "#FF97FF",
            "pattern": {
             "shape": ""
            }
           },
           "name": "Animation",
           "offsetgroup": "Animation",
           "orientation": "v",
           "showlegend": true,
           "textposition": "auto",
           "type": "bar",
           "x": [
            "Animation"
           ],
           "xaxis": "x",
           "y": [
            2.35
           ],
           "yaxis": "y"
          },
          {
           "alignmentgroup": "True",
           "hovertemplate": "<b>%{hovertext}</b><br><br>Genre=%{x}<br>Decade=1940<br>Proportion of movies in percentage=%{y}<extra></extra>",
           "hovertext": [
            "Nbr movies: 112"
           ],
           "ids": [
            "Romantic drama"
           ],
           "legendgroup": "Romantic drama",
           "marker": {
            "color": "#FECB52",
            "pattern": {
             "shape": ""
            }
           },
           "name": "Romantic drama",
           "offsetgroup": "Romantic drama",
           "orientation": "v",
           "showlegend": true,
           "textposition": "auto",
           "type": "bar",
           "x": [
            "Romantic drama"
           ],
           "xaxis": "x",
           "y": [
            2.51
           ],
           "yaxis": "y"
          }
         ],
         "name": "1940"
        },
        {
         "data": [
          {
           "alignmentgroup": "True",
           "hovertemplate": "<b>%{hovertext}</b><br><br>Genre=%{x}<br>Decade=1950<br>Proportion of movies in percentage=%{y}<extra></extra>",
           "hovertext": [
            "Nbr movies: 2410"
           ],
           "ids": [
            "Drama"
           ],
           "legendgroup": "Drama",
           "marker": {
            "color": "#636efa",
            "pattern": {
             "shape": ""
            }
           },
           "name": "Drama",
           "offsetgroup": "Drama",
           "orientation": "v",
           "showlegend": true,
           "textposition": "auto",
           "type": "bar",
           "x": [
            "Drama"
           ],
           "xaxis": "x",
           "y": [
            42.11
           ],
           "yaxis": "y"
          },
          {
           "alignmentgroup": "True",
           "hovertemplate": "<b>%{hovertext}</b><br><br>Genre=%{x}<br>Decade=1950<br>Proportion of movies in percentage=%{y}<extra></extra>",
           "hovertext": [
            "Nbr movies: 1026"
           ],
           "ids": [
            "Comedy"
           ],
           "legendgroup": "Comedy",
           "marker": {
            "color": "#EF553B",
            "pattern": {
             "shape": ""
            }
           },
           "name": "Comedy",
           "offsetgroup": "Comedy",
           "orientation": "v",
           "showlegend": true,
           "textposition": "auto",
           "type": "bar",
           "x": [
            "Comedy"
           ],
           "xaxis": "x",
           "y": [
            17.93
           ],
           "yaxis": "y"
          },
          {
           "alignmentgroup": "True",
           "hovertemplate": "<b>%{hovertext}</b><br><br>Genre=%{x}<br>Decade=1950<br>Proportion of movies in percentage=%{y}<extra></extra>",
           "hovertext": [
            "Nbr movies: 668"
           ],
           "ids": [
            "Romance Film"
           ],
           "legendgroup": "Romance Film",
           "marker": {
            "color": "#00cc96",
            "pattern": {
             "shape": ""
            }
           },
           "name": "Romance Film",
           "offsetgroup": "Romance Film",
           "orientation": "v",
           "showlegend": true,
           "textposition": "auto",
           "type": "bar",
           "x": [
            "Romance Film"
           ],
           "xaxis": "x",
           "y": [
            11.67
           ],
           "yaxis": "y"
          },
          {
           "alignmentgroup": "True",
           "hovertemplate": "<b>%{hovertext}</b><br><br>Genre=%{x}<br>Decade=1950<br>Proportion of movies in percentage=%{y}<extra></extra>",
           "hovertext": [
            "Nbr movies: 1232"
           ],
           "ids": [
            "Black-and-white"
           ],
           "legendgroup": "Black-and-white",
           "marker": {
            "color": "#ab63fa",
            "pattern": {
             "shape": ""
            }
           },
           "name": "Black-and-white",
           "offsetgroup": "Black-and-white",
           "orientation": "v",
           "showlegend": true,
           "textposition": "auto",
           "type": "bar",
           "x": [
            "Black-and-white"
           ],
           "xaxis": "x",
           "y": [
            21.53
           ],
           "yaxis": "y"
          },
          {
           "alignmentgroup": "True",
           "hovertemplate": "<b>%{hovertext}</b><br><br>Genre=%{x}<br>Decade=1950<br>Proportion of movies in percentage=%{y}<extra></extra>",
           "hovertext": [
            "Nbr movies: 408"
           ],
           "ids": [
            "Action"
           ],
           "legendgroup": "Action",
           "marker": {
            "color": "#FFA15A",
            "pattern": {
             "shape": ""
            }
           },
           "name": "Action",
           "offsetgroup": "Action",
           "orientation": "v",
           "showlegend": true,
           "textposition": "auto",
           "type": "bar",
           "x": [
            "Action"
           ],
           "xaxis": "x",
           "y": [
            7.13
           ],
           "yaxis": "y"
          },
          {
           "alignmentgroup": "True",
           "hovertemplate": "<b>%{hovertext}</b><br><br>Genre=%{x}<br>Decade=1950<br>Proportion of movies in percentage=%{y}<extra></extra>",
           "hovertext": [
            "Nbr movies: 290"
           ],
           "ids": [
            "Thriller"
           ],
           "legendgroup": "Thriller",
           "marker": {
            "color": "#19d3f3",
            "pattern": {
             "shape": ""
            }
           },
           "name": "Thriller",
           "offsetgroup": "Thriller",
           "orientation": "v",
           "showlegend": true,
           "textposition": "auto",
           "type": "bar",
           "x": [
            "Thriller"
           ],
           "xaxis": "x",
           "y": [
            5.07
           ],
           "yaxis": "y"
          },
          {
           "alignmentgroup": "True",
           "hovertemplate": "<b>%{hovertext}</b><br><br>Genre=%{x}<br>Decade=1950<br>Proportion of movies in percentage=%{y}<extra></extra>",
           "hovertext": [
            "Nbr movies: 203"
           ],
           "ids": [
            "Short Film"
           ],
           "legendgroup": "Short Film",
           "marker": {
            "color": "#FF6692",
            "pattern": {
             "shape": ""
            }
           },
           "name": "Short Film",
           "offsetgroup": "Short Film",
           "orientation": "v",
           "showlegend": true,
           "textposition": "auto",
           "type": "bar",
           "x": [
            "Short Film"
           ],
           "xaxis": "x",
           "y": [
            3.55
           ],
           "yaxis": "y"
          },
          {
           "alignmentgroup": "True",
           "hovertemplate": "<b>%{hovertext}</b><br><br>Genre=%{x}<br>Decade=1950<br>Proportion of movies in percentage=%{y}<extra></extra>",
           "hovertext": [
            "Nbr movies: 226"
           ],
           "ids": [
            "World cinema"
           ],
           "legendgroup": "World cinema",
           "marker": {
            "color": "#B6E880",
            "pattern": {
             "shape": ""
            }
           },
           "name": "World cinema",
           "offsetgroup": "World cinema",
           "orientation": "v",
           "showlegend": true,
           "textposition": "auto",
           "type": "bar",
           "x": [
            "World cinema"
           ],
           "xaxis": "x",
           "y": [
            3.95
           ],
           "yaxis": "y"
          },
          {
           "alignmentgroup": "True",
           "hovertemplate": "<b>%{hovertext}</b><br><br>Genre=%{x}<br>Decade=1950<br>Proportion of movies in percentage=%{y}<extra></extra>",
           "hovertext": [
            "Nbr movies: 461"
           ],
           "ids": [
            "Crime Fiction"
           ],
           "legendgroup": "Crime Fiction",
           "marker": {
            "color": "#FF97FF",
            "pattern": {
             "shape": ""
            }
           },
           "name": "Crime Fiction",
           "offsetgroup": "Crime Fiction",
           "orientation": "v",
           "showlegend": true,
           "textposition": "auto",
           "type": "bar",
           "x": [
            "Crime Fiction"
           ],
           "xaxis": "x",
           "y": [
            8.06
           ],
           "yaxis": "y"
          },
          {
           "alignmentgroup": "True",
           "hovertemplate": "<b>%{hovertext}</b><br><br>Genre=%{x}<br>Decade=1950<br>Proportion of movies in percentage=%{y}<extra></extra>",
           "hovertext": [
            "Nbr movies: 18"
           ],
           "ids": [
            "Indie"
           ],
           "legendgroup": "Indie",
           "marker": {
            "color": "#FECB52",
            "pattern": {
             "shape": ""
            }
           },
           "name": "Indie",
           "offsetgroup": "Indie",
           "orientation": "v",
           "showlegend": true,
           "textposition": "auto",
           "type": "bar",
           "x": [
            "Indie"
           ],
           "xaxis": "x",
           "y": [
            0.31
           ],
           "yaxis": "y"
          },
          {
           "alignmentgroup": "True",
           "hovertemplate": "<b>%{hovertext}</b><br><br>Genre=%{x}<br>Decade=1950<br>Proportion of movies in percentage=%{y}<extra></extra>",
           "hovertext": [
            "Nbr movies: 30"
           ],
           "ids": [
            "Documentary"
           ],
           "legendgroup": "Documentary",
           "marker": {
            "color": "#636efa",
            "pattern": {
             "shape": ""
            }
           },
           "name": "Documentary",
           "offsetgroup": "Documentary",
           "orientation": "v",
           "showlegend": true,
           "textposition": "auto",
           "type": "bar",
           "x": [
            "Documentary"
           ],
           "xaxis": "x",
           "y": [
            0.52
           ],
           "yaxis": "y"
          },
          {
           "alignmentgroup": "True",
           "hovertemplate": "<b>%{hovertext}</b><br><br>Genre=%{x}<br>Decade=1950<br>Proportion of movies in percentage=%{y}<extra></extra>",
           "hovertext": [
            "Nbr movies: 81"
           ],
           "ids": [
            "Horror"
           ],
           "legendgroup": "Horror",
           "marker": {
            "color": "#EF553B",
            "pattern": {
             "shape": ""
            }
           },
           "name": "Horror",
           "offsetgroup": "Horror",
           "orientation": "v",
           "showlegend": true,
           "textposition": "auto",
           "type": "bar",
           "x": [
            "Horror"
           ],
           "xaxis": "x",
           "y": [
            1.42
           ],
           "yaxis": "y"
          },
          {
           "alignmentgroup": "True",
           "hovertemplate": "<b>%{hovertext}</b><br><br>Genre=%{x}<br>Decade=1950<br>Proportion of movies in percentage=%{y}<extra></extra>",
           "hovertext": [
            "Nbr movies: 1"
           ],
           "ids": [
            "Silent film"
           ],
           "legendgroup": "Silent film",
           "marker": {
            "color": "#00cc96",
            "pattern": {
             "shape": ""
            }
           },
           "name": "Silent film",
           "offsetgroup": "Silent film",
           "orientation": "v",
           "showlegend": true,
           "textposition": "auto",
           "type": "bar",
           "x": [
            "Silent film"
           ],
           "xaxis": "x",
           "y": [
            0.02
           ],
           "yaxis": "y"
          },
          {
           "alignmentgroup": "True",
           "hovertemplate": "<b>%{hovertext}</b><br><br>Genre=%{x}<br>Decade=1950<br>Proportion of movies in percentage=%{y}<extra></extra>",
           "hovertext": [
            "Nbr movies: 338"
           ],
           "ids": [
            "Adventure"
           ],
           "legendgroup": "Adventure",
           "marker": {
            "color": "#ab63fa",
            "pattern": {
             "shape": ""
            }
           },
           "name": "Adventure",
           "offsetgroup": "Adventure",
           "orientation": "v",
           "showlegend": true,
           "textposition": "auto",
           "type": "bar",
           "x": [
            "Adventure"
           ],
           "xaxis": "x",
           "y": [
            5.91
           ],
           "yaxis": "y"
          },
          {
           "alignmentgroup": "True",
           "hovertemplate": "<b>%{hovertext}</b><br><br>Genre=%{x}<br>Decade=1950<br>Proportion of movies in percentage=%{y}<extra></extra>",
           "hovertext": [
            "Nbr movies: 198"
           ],
           "ids": [
            "Family Film"
           ],
           "legendgroup": "Family Film",
           "marker": {
            "color": "#FFA15A",
            "pattern": {
             "shape": ""
            }
           },
           "name": "Family Film",
           "offsetgroup": "Family Film",
           "orientation": "v",
           "showlegend": true,
           "textposition": "auto",
           "type": "bar",
           "x": [
            "Family Film"
           ],
           "xaxis": "x",
           "y": [
            3.46
           ],
           "yaxis": "y"
          },
          {
           "alignmentgroup": "True",
           "hovertemplate": "<b>%{hovertext}</b><br><br>Genre=%{x}<br>Decade=1950<br>Proportion of movies in percentage=%{y}<extra></extra>",
           "hovertext": [
            "Nbr movies: 215"
           ],
           "ids": [
            "Action/Adventure"
           ],
           "legendgroup": "Action/Adventure",
           "marker": {
            "color": "#19d3f3",
            "pattern": {
             "shape": ""
            }
           },
           "name": "Action/Adventure",
           "offsetgroup": "Action/Adventure",
           "orientation": "v",
           "showlegend": true,
           "textposition": "auto",
           "type": "bar",
           "x": [
            "Action/Adventure"
           ],
           "xaxis": "x",
           "y": [
            3.76
           ],
           "yaxis": "y"
          },
          {
           "alignmentgroup": "True",
           "hovertemplate": "<b>%{hovertext}</b><br><br>Genre=%{x}<br>Decade=1950<br>Proportion of movies in percentage=%{y}<extra></extra>",
           "hovertext": [
            "Nbr movies: 106"
           ],
           "ids": [
            "Comedy film"
           ],
           "legendgroup": "Comedy film",
           "marker": {
            "color": "#FF6692",
            "pattern": {
             "shape": ""
            }
           },
           "name": "Comedy film",
           "offsetgroup": "Comedy film",
           "orientation": "v",
           "showlegend": true,
           "textposition": "auto",
           "type": "bar",
           "x": [
            "Comedy film"
           ],
           "xaxis": "x",
           "y": [
            1.85
           ],
           "yaxis": "y"
          },
          {
           "alignmentgroup": "True",
           "hovertemplate": "<b>%{hovertext}</b><br><br>Genre=%{x}<br>Decade=1950<br>Proportion of movies in percentage=%{y}<extra></extra>",
           "hovertext": [
            "Nbr movies: 316"
           ],
           "ids": [
            "Musical"
           ],
           "legendgroup": "Musical",
           "marker": {
            "color": "#B6E880",
            "pattern": {
             "shape": ""
            }
           },
           "name": "Musical",
           "offsetgroup": "Musical",
           "orientation": "v",
           "showlegend": true,
           "textposition": "auto",
           "type": "bar",
           "x": [
            "Musical"
           ],
           "xaxis": "x",
           "y": [
            5.52
           ],
           "yaxis": "y"
          },
          {
           "alignmentgroup": "True",
           "hovertemplate": "<b>%{hovertext}</b><br><br>Genre=%{x}<br>Decade=1950<br>Proportion of movies in percentage=%{y}<extra></extra>",
           "hovertext": [
            "Nbr movies: 101"
           ],
           "ids": [
            "Animation"
           ],
           "legendgroup": "Animation",
           "marker": {
            "color": "#FF97FF",
            "pattern": {
             "shape": ""
            }
           },
           "name": "Animation",
           "offsetgroup": "Animation",
           "orientation": "v",
           "showlegend": true,
           "textposition": "auto",
           "type": "bar",
           "x": [
            "Animation"
           ],
           "xaxis": "x",
           "y": [
            1.76
           ],
           "yaxis": "y"
          },
          {
           "alignmentgroup": "True",
           "hovertemplate": "<b>%{hovertext}</b><br><br>Genre=%{x}<br>Decade=1950<br>Proportion of movies in percentage=%{y}<extra></extra>",
           "hovertext": [
            "Nbr movies: 188"
           ],
           "ids": [
            "Romantic drama"
           ],
           "legendgroup": "Romantic drama",
           "marker": {
            "color": "#FECB52",
            "pattern": {
             "shape": ""
            }
           },
           "name": "Romantic drama",
           "offsetgroup": "Romantic drama",
           "orientation": "v",
           "showlegend": true,
           "textposition": "auto",
           "type": "bar",
           "x": [
            "Romantic drama"
           ],
           "xaxis": "x",
           "y": [
            3.28
           ],
           "yaxis": "y"
          }
         ],
         "name": "1950"
        },
        {
         "data": [
          {
           "alignmentgroup": "True",
           "hovertemplate": "<b>%{hovertext}</b><br><br>Genre=%{x}<br>Decade=1960<br>Proportion of movies in percentage=%{y}<extra></extra>",
           "hovertext": [
            "Nbr movies: 2479"
           ],
           "ids": [
            "Drama"
           ],
           "legendgroup": "Drama",
           "marker": {
            "color": "#636efa",
            "pattern": {
             "shape": ""
            }
           },
           "name": "Drama",
           "offsetgroup": "Drama",
           "orientation": "v",
           "showlegend": true,
           "textposition": "auto",
           "type": "bar",
           "x": [
            "Drama"
           ],
           "xaxis": "x",
           "y": [
            42.2
           ],
           "yaxis": "y"
          },
          {
           "alignmentgroup": "True",
           "hovertemplate": "<b>%{hovertext}</b><br><br>Genre=%{x}<br>Decade=1960<br>Proportion of movies in percentage=%{y}<extra></extra>",
           "hovertext": [
            "Nbr movies: 1193"
           ],
           "ids": [
            "Comedy"
           ],
           "legendgroup": "Comedy",
           "marker": {
            "color": "#EF553B",
            "pattern": {
             "shape": ""
            }
           },
           "name": "Comedy",
           "offsetgroup": "Comedy",
           "orientation": "v",
           "showlegend": true,
           "textposition": "auto",
           "type": "bar",
           "x": [
            "Comedy"
           ],
           "xaxis": "x",
           "y": [
            20.31
           ],
           "yaxis": "y"
          },
          {
           "alignmentgroup": "True",
           "hovertemplate": "<b>%{hovertext}</b><br><br>Genre=%{x}<br>Decade=1960<br>Proportion of movies in percentage=%{y}<extra></extra>",
           "hovertext": [
            "Nbr movies: 617"
           ],
           "ids": [
            "Romance Film"
           ],
           "legendgroup": "Romance Film",
           "marker": {
            "color": "#00cc96",
            "pattern": {
             "shape": ""
            }
           },
           "name": "Romance Film",
           "offsetgroup": "Romance Film",
           "orientation": "v",
           "showlegend": true,
           "textposition": "auto",
           "type": "bar",
           "x": [
            "Romance Film"
           ],
           "xaxis": "x",
           "y": [
            10.5
           ],
           "yaxis": "y"
          },
          {
           "alignmentgroup": "True",
           "hovertemplate": "<b>%{hovertext}</b><br><br>Genre=%{x}<br>Decade=1960<br>Proportion of movies in percentage=%{y}<extra></extra>",
           "hovertext": [
            "Nbr movies: 608"
           ],
           "ids": [
            "Black-and-white"
           ],
           "legendgroup": "Black-and-white",
           "marker": {
            "color": "#ab63fa",
            "pattern": {
             "shape": ""
            }
           },
           "name": "Black-and-white",
           "offsetgroup": "Black-and-white",
           "orientation": "v",
           "showlegend": true,
           "textposition": "auto",
           "type": "bar",
           "x": [
            "Black-and-white"
           ],
           "xaxis": "x",
           "y": [
            10.35
           ],
           "yaxis": "y"
          },
          {
           "alignmentgroup": "True",
           "hovertemplate": "<b>%{hovertext}</b><br><br>Genre=%{x}<br>Decade=1960<br>Proportion of movies in percentage=%{y}<extra></extra>",
           "hovertext": [
            "Nbr movies: 479"
           ],
           "ids": [
            "Action"
           ],
           "legendgroup": "Action",
           "marker": {
            "color": "#FFA15A",
            "pattern": {
             "shape": ""
            }
           },
           "name": "Action",
           "offsetgroup": "Action",
           "orientation": "v",
           "showlegend": true,
           "textposition": "auto",
           "type": "bar",
           "x": [
            "Action"
           ],
           "xaxis": "x",
           "y": [
            8.15
           ],
           "yaxis": "y"
          },
          {
           "alignmentgroup": "True",
           "hovertemplate": "<b>%{hovertext}</b><br><br>Genre=%{x}<br>Decade=1960<br>Proportion of movies in percentage=%{y}<extra></extra>",
           "hovertext": [
            "Nbr movies: 281"
           ],
           "ids": [
            "Thriller"
           ],
           "legendgroup": "Thriller",
           "marker": {
            "color": "#19d3f3",
            "pattern": {
             "shape": ""
            }
           },
           "name": "Thriller",
           "offsetgroup": "Thriller",
           "orientation": "v",
           "showlegend": true,
           "textposition": "auto",
           "type": "bar",
           "x": [
            "Thriller"
           ],
           "xaxis": "x",
           "y": [
            4.78
           ],
           "yaxis": "y"
          },
          {
           "alignmentgroup": "True",
           "hovertemplate": "<b>%{hovertext}</b><br><br>Genre=%{x}<br>Decade=1960<br>Proportion of movies in percentage=%{y}<extra></extra>",
           "hovertext": [
            "Nbr movies: 131"
           ],
           "ids": [
            "Short Film"
           ],
           "legendgroup": "Short Film",
           "marker": {
            "color": "#FF6692",
            "pattern": {
             "shape": ""
            }
           },
           "name": "Short Film",
           "offsetgroup": "Short Film",
           "orientation": "v",
           "showlegend": true,
           "textposition": "auto",
           "type": "bar",
           "x": [
            "Short Film"
           ],
           "xaxis": "x",
           "y": [
            2.23
           ],
           "yaxis": "y"
          },
          {
           "alignmentgroup": "True",
           "hovertemplate": "<b>%{hovertext}</b><br><br>Genre=%{x}<br>Decade=1960<br>Proportion of movies in percentage=%{y}<extra></extra>",
           "hovertext": [
            "Nbr movies: 466"
           ],
           "ids": [
            "World cinema"
           ],
           "legendgroup": "World cinema",
           "marker": {
            "color": "#B6E880",
            "pattern": {
             "shape": ""
            }
           },
           "name": "World cinema",
           "offsetgroup": "World cinema",
           "orientation": "v",
           "showlegend": true,
           "textposition": "auto",
           "type": "bar",
           "x": [
            "World cinema"
           ],
           "xaxis": "x",
           "y": [
            7.93
           ],
           "yaxis": "y"
          },
          {
           "alignmentgroup": "True",
           "hovertemplate": "<b>%{hovertext}</b><br><br>Genre=%{x}<br>Decade=1960<br>Proportion of movies in percentage=%{y}<extra></extra>",
           "hovertext": [
            "Nbr movies: 374"
           ],
           "ids": [
            "Crime Fiction"
           ],
           "legendgroup": "Crime Fiction",
           "marker": {
            "color": "#FF97FF",
            "pattern": {
             "shape": ""
            }
           },
           "name": "Crime Fiction",
           "offsetgroup": "Crime Fiction",
           "orientation": "v",
           "showlegend": true,
           "textposition": "auto",
           "type": "bar",
           "x": [
            "Crime Fiction"
           ],
           "xaxis": "x",
           "y": [
            6.37
           ],
           "yaxis": "y"
          },
          {
           "alignmentgroup": "True",
           "hovertemplate": "<b>%{hovertext}</b><br><br>Genre=%{x}<br>Decade=1960<br>Proportion of movies in percentage=%{y}<extra></extra>",
           "hovertext": [
            "Nbr movies: 89"
           ],
           "ids": [
            "Indie"
           ],
           "legendgroup": "Indie",
           "marker": {
            "color": "#FECB52",
            "pattern": {
             "shape": ""
            }
           },
           "name": "Indie",
           "offsetgroup": "Indie",
           "orientation": "v",
           "showlegend": true,
           "textposition": "auto",
           "type": "bar",
           "x": [
            "Indie"
           ],
           "xaxis": "x",
           "y": [
            1.51
           ],
           "yaxis": "y"
          },
          {
           "alignmentgroup": "True",
           "hovertemplate": "<b>%{hovertext}</b><br><br>Genre=%{x}<br>Decade=1960<br>Proportion of movies in percentage=%{y}<extra></extra>",
           "hovertext": [
            "Nbr movies: 29"
           ],
           "ids": [
            "Documentary"
           ],
           "legendgroup": "Documentary",
           "marker": {
            "color": "#636efa",
            "pattern": {
             "shape": ""
            }
           },
           "name": "Documentary",
           "offsetgroup": "Documentary",
           "orientation": "v",
           "showlegend": true,
           "textposition": "auto",
           "type": "bar",
           "x": [
            "Documentary"
           ],
           "xaxis": "x",
           "y": [
            0.49
           ],
           "yaxis": "y"
          },
          {
           "alignmentgroup": "True",
           "hovertemplate": "<b>%{hovertext}</b><br><br>Genre=%{x}<br>Decade=1960<br>Proportion of movies in percentage=%{y}<extra></extra>",
           "hovertext": [
            "Nbr movies: 103"
           ],
           "ids": [
            "Horror"
           ],
           "legendgroup": "Horror",
           "marker": {
            "color": "#EF553B",
            "pattern": {
             "shape": ""
            }
           },
           "name": "Horror",
           "offsetgroup": "Horror",
           "orientation": "v",
           "showlegend": true,
           "textposition": "auto",
           "type": "bar",
           "x": [
            "Horror"
           ],
           "xaxis": "x",
           "y": [
            1.75
           ],
           "yaxis": "y"
          },
          {
           "alignmentgroup": "True",
           "hovertemplate": "<b>%{hovertext}</b><br><br>Genre=%{x}<br>Decade=1960<br>Proportion of movies in percentage=%{y}<extra></extra>",
           "hovertext": [
            "Nbr movies: 5"
           ],
           "ids": [
            "Silent film"
           ],
           "legendgroup": "Silent film",
           "marker": {
            "color": "#00cc96",
            "pattern": {
             "shape": ""
            }
           },
           "name": "Silent film",
           "offsetgroup": "Silent film",
           "orientation": "v",
           "showlegend": true,
           "textposition": "auto",
           "type": "bar",
           "x": [
            "Silent film"
           ],
           "xaxis": "x",
           "y": [
            0.09
           ],
           "yaxis": "y"
          },
          {
           "alignmentgroup": "True",
           "hovertemplate": "<b>%{hovertext}</b><br><br>Genre=%{x}<br>Decade=1960<br>Proportion of movies in percentage=%{y}<extra></extra>",
           "hovertext": [
            "Nbr movies: 316"
           ],
           "ids": [
            "Adventure"
           ],
           "legendgroup": "Adventure",
           "marker": {
            "color": "#ab63fa",
            "pattern": {
             "shape": ""
            }
           },
           "name": "Adventure",
           "offsetgroup": "Adventure",
           "orientation": "v",
           "showlegend": true,
           "textposition": "auto",
           "type": "bar",
           "x": [
            "Adventure"
           ],
           "xaxis": "x",
           "y": [
            5.38
           ],
           "yaxis": "y"
          },
          {
           "alignmentgroup": "True",
           "hovertemplate": "<b>%{hovertext}</b><br><br>Genre=%{x}<br>Decade=1960<br>Proportion of movies in percentage=%{y}<extra></extra>",
           "hovertext": [
            "Nbr movies: 220"
           ],
           "ids": [
            "Family Film"
           ],
           "legendgroup": "Family Film",
           "marker": {
            "color": "#FFA15A",
            "pattern": {
             "shape": ""
            }
           },
           "name": "Family Film",
           "offsetgroup": "Family Film",
           "orientation": "v",
           "showlegend": true,
           "textposition": "auto",
           "type": "bar",
           "x": [
            "Family Film"
           ],
           "xaxis": "x",
           "y": [
            3.74
           ],
           "yaxis": "y"
          },
          {
           "alignmentgroup": "True",
           "hovertemplate": "<b>%{hovertext}</b><br><br>Genre=%{x}<br>Decade=1960<br>Proportion of movies in percentage=%{y}<extra></extra>",
           "hovertext": [
            "Nbr movies: 271"
           ],
           "ids": [
            "Action/Adventure"
           ],
           "legendgroup": "Action/Adventure",
           "marker": {
            "color": "#19d3f3",
            "pattern": {
             "shape": ""
            }
           },
           "name": "Action/Adventure",
           "offsetgroup": "Action/Adventure",
           "orientation": "v",
           "showlegend": true,
           "textposition": "auto",
           "type": "bar",
           "x": [
            "Action/Adventure"
           ],
           "xaxis": "x",
           "y": [
            4.61
           ],
           "yaxis": "y"
          },
          {
           "alignmentgroup": "True",
           "hovertemplate": "<b>%{hovertext}</b><br><br>Genre=%{x}<br>Decade=1960<br>Proportion of movies in percentage=%{y}<extra></extra>",
           "hovertext": [
            "Nbr movies: 71"
           ],
           "ids": [
            "Comedy film"
           ],
           "legendgroup": "Comedy film",
           "marker": {
            "color": "#FF6692",
            "pattern": {
             "shape": ""
            }
           },
           "name": "Comedy film",
           "offsetgroup": "Comedy film",
           "orientation": "v",
           "showlegend": true,
           "textposition": "auto",
           "type": "bar",
           "x": [
            "Comedy film"
           ],
           "xaxis": "x",
           "y": [
            1.21
           ],
           "yaxis": "y"
          },
          {
           "alignmentgroup": "True",
           "hovertemplate": "<b>%{hovertext}</b><br><br>Genre=%{x}<br>Decade=1960<br>Proportion of movies in percentage=%{y}<extra></extra>",
           "hovertext": [
            "Nbr movies: 298"
           ],
           "ids": [
            "Musical"
           ],
           "legendgroup": "Musical",
           "marker": {
            "color": "#B6E880",
            "pattern": {
             "shape": ""
            }
           },
           "name": "Musical",
           "offsetgroup": "Musical",
           "orientation": "v",
           "showlegend": true,
           "textposition": "auto",
           "type": "bar",
           "x": [
            "Musical"
           ],
           "xaxis": "x",
           "y": [
            5.07
           ],
           "yaxis": "y"
          },
          {
           "alignmentgroup": "True",
           "hovertemplate": "<b>%{hovertext}</b><br><br>Genre=%{x}<br>Decade=1960<br>Proportion of movies in percentage=%{y}<extra></extra>",
           "hovertext": [
            "Nbr movies: 99"
           ],
           "ids": [
            "Animation"
           ],
           "legendgroup": "Animation",
           "marker": {
            "color": "#FF97FF",
            "pattern": {
             "shape": ""
            }
           },
           "name": "Animation",
           "offsetgroup": "Animation",
           "orientation": "v",
           "showlegend": true,
           "textposition": "auto",
           "type": "bar",
           "x": [
            "Animation"
           ],
           "xaxis": "x",
           "y": [
            1.69
           ],
           "yaxis": "y"
          },
          {
           "alignmentgroup": "True",
           "hovertemplate": "<b>%{hovertext}</b><br><br>Genre=%{x}<br>Decade=1960<br>Proportion of movies in percentage=%{y}<extra></extra>",
           "hovertext": [
            "Nbr movies: 184"
           ],
           "ids": [
            "Romantic drama"
           ],
           "legendgroup": "Romantic drama",
           "marker": {
            "color": "#FECB52",
            "pattern": {
             "shape": ""
            }
           },
           "name": "Romantic drama",
           "offsetgroup": "Romantic drama",
           "orientation": "v",
           "showlegend": true,
           "textposition": "auto",
           "type": "bar",
           "x": [
            "Romantic drama"
           ],
           "xaxis": "x",
           "y": [
            3.13
           ],
           "yaxis": "y"
          }
         ],
         "name": "1960"
        },
        {
         "data": [
          {
           "alignmentgroup": "True",
           "hovertemplate": "<b>%{hovertext}</b><br><br>Genre=%{x}<br>Decade=1970<br>Proportion of movies in percentage=%{y}<extra></extra>",
           "hovertext": [
            "Nbr movies: 3029"
           ],
           "ids": [
            "Drama"
           ],
           "legendgroup": "Drama",
           "marker": {
            "color": "#636efa",
            "pattern": {
             "shape": ""
            }
           },
           "name": "Drama",
           "offsetgroup": "Drama",
           "orientation": "v",
           "showlegend": true,
           "textposition": "auto",
           "type": "bar",
           "x": [
            "Drama"
           ],
           "xaxis": "x",
           "y": [
            45.1
           ],
           "yaxis": "y"
          },
          {
           "alignmentgroup": "True",
           "hovertemplate": "<b>%{hovertext}</b><br><br>Genre=%{x}<br>Decade=1970<br>Proportion of movies in percentage=%{y}<extra></extra>",
           "hovertext": [
            "Nbr movies: 1170"
           ],
           "ids": [
            "Comedy"
           ],
           "legendgroup": "Comedy",
           "marker": {
            "color": "#EF553B",
            "pattern": {
             "shape": ""
            }
           },
           "name": "Comedy",
           "offsetgroup": "Comedy",
           "orientation": "v",
           "showlegend": true,
           "textposition": "auto",
           "type": "bar",
           "x": [
            "Comedy"
           ],
           "xaxis": "x",
           "y": [
            17.42
           ],
           "yaxis": "y"
          },
          {
           "alignmentgroup": "True",
           "hovertemplate": "<b>%{hovertext}</b><br><br>Genre=%{x}<br>Decade=1970<br>Proportion of movies in percentage=%{y}<extra></extra>",
           "hovertext": [
            "Nbr movies: 642"
           ],
           "ids": [
            "Romance Film"
           ],
           "legendgroup": "Romance Film",
           "marker": {
            "color": "#00cc96",
            "pattern": {
             "shape": ""
            }
           },
           "name": "Romance Film",
           "offsetgroup": "Romance Film",
           "orientation": "v",
           "showlegend": true,
           "textposition": "auto",
           "type": "bar",
           "x": [
            "Romance Film"
           ],
           "xaxis": "x",
           "y": [
            9.56
           ],
           "yaxis": "y"
          },
          {
           "alignmentgroup": "True",
           "hovertemplate": "<b>%{hovertext}</b><br><br>Genre=%{x}<br>Decade=1970<br>Proportion of movies in percentage=%{y}<extra></extra>",
           "hovertext": [
            "Nbr movies: 51"
           ],
           "ids": [
            "Black-and-white"
           ],
           "legendgroup": "Black-and-white",
           "marker": {
            "color": "#ab63fa",
            "pattern": {
             "shape": ""
            }
           },
           "name": "Black-and-white",
           "offsetgroup": "Black-and-white",
           "orientation": "v",
           "showlegend": true,
           "textposition": "auto",
           "type": "bar",
           "x": [
            "Black-and-white"
           ],
           "xaxis": "x",
           "y": [
            0.76
           ],
           "yaxis": "y"
          },
          {
           "alignmentgroup": "True",
           "hovertemplate": "<b>%{hovertext}</b><br><br>Genre=%{x}<br>Decade=1970<br>Proportion of movies in percentage=%{y}<extra></extra>",
           "hovertext": [
            "Nbr movies: 871"
           ],
           "ids": [
            "Action"
           ],
           "legendgroup": "Action",
           "marker": {
            "color": "#FFA15A",
            "pattern": {
             "shape": ""
            }
           },
           "name": "Action",
           "offsetgroup": "Action",
           "orientation": "v",
           "showlegend": true,
           "textposition": "auto",
           "type": "bar",
           "x": [
            "Action"
           ],
           "xaxis": "x",
           "y": [
            12.97
           ],
           "yaxis": "y"
          },
          {
           "alignmentgroup": "True",
           "hovertemplate": "<b>%{hovertext}</b><br><br>Genre=%{x}<br>Decade=1970<br>Proportion of movies in percentage=%{y}<extra></extra>",
           "hovertext": [
            "Nbr movies: 489"
           ],
           "ids": [
            "Thriller"
           ],
           "legendgroup": "Thriller",
           "marker": {
            "color": "#19d3f3",
            "pattern": {
             "shape": ""
            }
           },
           "name": "Thriller",
           "offsetgroup": "Thriller",
           "orientation": "v",
           "showlegend": true,
           "textposition": "auto",
           "type": "bar",
           "x": [
            "Thriller"
           ],
           "xaxis": "x",
           "y": [
            7.28
           ],
           "yaxis": "y"
          },
          {
           "alignmentgroup": "True",
           "hovertemplate": "<b>%{hovertext}</b><br><br>Genre=%{x}<br>Decade=1970<br>Proportion of movies in percentage=%{y}<extra></extra>",
           "hovertext": [
            "Nbr movies: 60"
           ],
           "ids": [
            "Short Film"
           ],
           "legendgroup": "Short Film",
           "marker": {
            "color": "#FF6692",
            "pattern": {
             "shape": ""
            }
           },
           "name": "Short Film",
           "offsetgroup": "Short Film",
           "orientation": "v",
           "showlegend": true,
           "textposition": "auto",
           "type": "bar",
           "x": [
            "Short Film"
           ],
           "xaxis": "x",
           "y": [
            0.89
           ],
           "yaxis": "y"
          },
          {
           "alignmentgroup": "True",
           "hovertemplate": "<b>%{hovertext}</b><br><br>Genre=%{x}<br>Decade=1970<br>Proportion of movies in percentage=%{y}<extra></extra>",
           "hovertext": [
            "Nbr movies: 592"
           ],
           "ids": [
            "World cinema"
           ],
           "legendgroup": "World cinema",
           "marker": {
            "color": "#B6E880",
            "pattern": {
             "shape": ""
            }
           },
           "name": "World cinema",
           "offsetgroup": "World cinema",
           "orientation": "v",
           "showlegend": true,
           "textposition": "auto",
           "type": "bar",
           "x": [
            "World cinema"
           ],
           "xaxis": "x",
           "y": [
            8.81
           ],
           "yaxis": "y"
          },
          {
           "alignmentgroup": "True",
           "hovertemplate": "<b>%{hovertext}</b><br><br>Genre=%{x}<br>Decade=1970<br>Proportion of movies in percentage=%{y}<extra></extra>",
           "hovertext": [
            "Nbr movies: 533"
           ],
           "ids": [
            "Crime Fiction"
           ],
           "legendgroup": "Crime Fiction",
           "marker": {
            "color": "#FF97FF",
            "pattern": {
             "shape": ""
            }
           },
           "name": "Crime Fiction",
           "offsetgroup": "Crime Fiction",
           "orientation": "v",
           "showlegend": true,
           "textposition": "auto",
           "type": "bar",
           "x": [
            "Crime Fiction"
           ],
           "xaxis": "x",
           "y": [
            7.94
           ],
           "yaxis": "y"
          },
          {
           "alignmentgroup": "True",
           "hovertemplate": "<b>%{hovertext}</b><br><br>Genre=%{x}<br>Decade=1970<br>Proportion of movies in percentage=%{y}<extra></extra>",
           "hovertext": [
            "Nbr movies: 189"
           ],
           "ids": [
            "Indie"
           ],
           "legendgroup": "Indie",
           "marker": {
            "color": "#FECB52",
            "pattern": {
             "shape": ""
            }
           },
           "name": "Indie",
           "offsetgroup": "Indie",
           "orientation": "v",
           "showlegend": true,
           "textposition": "auto",
           "type": "bar",
           "x": [
            "Indie"
           ],
           "xaxis": "x",
           "y": [
            2.81
           ],
           "yaxis": "y"
          },
          {
           "alignmentgroup": "True",
           "hovertemplate": "<b>%{hovertext}</b><br><br>Genre=%{x}<br>Decade=1970<br>Proportion of movies in percentage=%{y}<extra></extra>",
           "hovertext": [
            "Nbr movies: 35"
           ],
           "ids": [
            "Documentary"
           ],
           "legendgroup": "Documentary",
           "marker": {
            "color": "#636efa",
            "pattern": {
             "shape": ""
            }
           },
           "name": "Documentary",
           "offsetgroup": "Documentary",
           "orientation": "v",
           "showlegend": true,
           "textposition": "auto",
           "type": "bar",
           "x": [
            "Documentary"
           ],
           "xaxis": "x",
           "y": [
            0.52
           ],
           "yaxis": "y"
          },
          {
           "alignmentgroup": "True",
           "hovertemplate": "<b>%{hovertext}</b><br><br>Genre=%{x}<br>Decade=1970<br>Proportion of movies in percentage=%{y}<extra></extra>",
           "hovertext": [
            "Nbr movies: 134"
           ],
           "ids": [
            "Horror"
           ],
           "legendgroup": "Horror",
           "marker": {
            "color": "#EF553B",
            "pattern": {
             "shape": ""
            }
           },
           "name": "Horror",
           "offsetgroup": "Horror",
           "orientation": "v",
           "showlegend": true,
           "textposition": "auto",
           "type": "bar",
           "x": [
            "Horror"
           ],
           "xaxis": "x",
           "y": [
            2
           ],
           "yaxis": "y"
          },
          {
           "alignmentgroup": "True",
           "hovertemplate": "<b>%{hovertext}</b><br><br>Genre=%{x}<br>Decade=1970<br>Proportion of movies in percentage=%{y}<extra></extra>",
           "hovertext": [
            "Nbr movies: 1"
           ],
           "ids": [
            "Silent film"
           ],
           "legendgroup": "Silent film",
           "marker": {
            "color": "#00cc96",
            "pattern": {
             "shape": ""
            }
           },
           "name": "Silent film",
           "offsetgroup": "Silent film",
           "orientation": "v",
           "showlegend": true,
           "textposition": "auto",
           "type": "bar",
           "x": [
            "Silent film"
           ],
           "xaxis": "x",
           "y": [
            0.01
           ],
           "yaxis": "y"
          },
          {
           "alignmentgroup": "True",
           "hovertemplate": "<b>%{hovertext}</b><br><br>Genre=%{x}<br>Decade=1970<br>Proportion of movies in percentage=%{y}<extra></extra>",
           "hovertext": [
            "Nbr movies: 294"
           ],
           "ids": [
            "Adventure"
           ],
           "legendgroup": "Adventure",
           "marker": {
            "color": "#ab63fa",
            "pattern": {
             "shape": ""
            }
           },
           "name": "Adventure",
           "offsetgroup": "Adventure",
           "orientation": "v",
           "showlegend": true,
           "textposition": "auto",
           "type": "bar",
           "x": [
            "Adventure"
           ],
           "xaxis": "x",
           "y": [
            4.38
           ],
           "yaxis": "y"
          },
          {
           "alignmentgroup": "True",
           "hovertemplate": "<b>%{hovertext}</b><br><br>Genre=%{x}<br>Decade=1970<br>Proportion of movies in percentage=%{y}<extra></extra>",
           "hovertext": [
            "Nbr movies: 221"
           ],
           "ids": [
            "Family Film"
           ],
           "legendgroup": "Family Film",
           "marker": {
            "color": "#FFA15A",
            "pattern": {
             "shape": ""
            }
           },
           "name": "Family Film",
           "offsetgroup": "Family Film",
           "orientation": "v",
           "showlegend": true,
           "textposition": "auto",
           "type": "bar",
           "x": [
            "Family Film"
           ],
           "xaxis": "x",
           "y": [
            3.29
           ],
           "yaxis": "y"
          },
          {
           "alignmentgroup": "True",
           "hovertemplate": "<b>%{hovertext}</b><br><br>Genre=%{x}<br>Decade=1970<br>Proportion of movies in percentage=%{y}<extra></extra>",
           "hovertext": [
            "Nbr movies: 459"
           ],
           "ids": [
            "Action/Adventure"
           ],
           "legendgroup": "Action/Adventure",
           "marker": {
            "color": "#19d3f3",
            "pattern": {
             "shape": ""
            }
           },
           "name": "Action/Adventure",
           "offsetgroup": "Action/Adventure",
           "orientation": "v",
           "showlegend": true,
           "textposition": "auto",
           "type": "bar",
           "x": [
            "Action/Adventure"
           ],
           "xaxis": "x",
           "y": [
            6.83
           ],
           "yaxis": "y"
          },
          {
           "alignmentgroup": "True",
           "hovertemplate": "<b>%{hovertext}</b><br><br>Genre=%{x}<br>Decade=1970<br>Proportion of movies in percentage=%{y}<extra></extra>",
           "hovertext": [
            "Nbr movies: 103"
           ],
           "ids": [
            "Comedy film"
           ],
           "legendgroup": "Comedy film",
           "marker": {
            "color": "#FF6692",
            "pattern": {
             "shape": ""
            }
           },
           "name": "Comedy film",
           "offsetgroup": "Comedy film",
           "orientation": "v",
           "showlegend": true,
           "textposition": "auto",
           "type": "bar",
           "x": [
            "Comedy film"
           ],
           "xaxis": "x",
           "y": [
            1.53
           ],
           "yaxis": "y"
          },
          {
           "alignmentgroup": "True",
           "hovertemplate": "<b>%{hovertext}</b><br><br>Genre=%{x}<br>Decade=1970<br>Proportion of movies in percentage=%{y}<extra></extra>",
           "hovertext": [
            "Nbr movies: 275"
           ],
           "ids": [
            "Musical"
           ],
           "legendgroup": "Musical",
           "marker": {
            "color": "#B6E880",
            "pattern": {
             "shape": ""
            }
           },
           "name": "Musical",
           "offsetgroup": "Musical",
           "orientation": "v",
           "showlegend": true,
           "textposition": "auto",
           "type": "bar",
           "x": [
            "Musical"
           ],
           "xaxis": "x",
           "y": [
            4.09
           ],
           "yaxis": "y"
          },
          {
           "alignmentgroup": "True",
           "hovertemplate": "<b>%{hovertext}</b><br><br>Genre=%{x}<br>Decade=1970<br>Proportion of movies in percentage=%{y}<extra></extra>",
           "hovertext": [
            "Nbr movies: 62"
           ],
           "ids": [
            "Animation"
           ],
           "legendgroup": "Animation",
           "marker": {
            "color": "#FF97FF",
            "pattern": {
             "shape": ""
            }
           },
           "name": "Animation",
           "offsetgroup": "Animation",
           "orientation": "v",
           "showlegend": true,
           "textposition": "auto",
           "type": "bar",
           "x": [
            "Animation"
           ],
           "xaxis": "x",
           "y": [
            0.92
           ],
           "yaxis": "y"
          },
          {
           "alignmentgroup": "True",
           "hovertemplate": "<b>%{hovertext}</b><br><br>Genre=%{x}<br>Decade=1970<br>Proportion of movies in percentage=%{y}<extra></extra>",
           "hovertext": [
            "Nbr movies: 231"
           ],
           "ids": [
            "Romantic drama"
           ],
           "legendgroup": "Romantic drama",
           "marker": {
            "color": "#FECB52",
            "pattern": {
             "shape": ""
            }
           },
           "name": "Romantic drama",
           "offsetgroup": "Romantic drama",
           "orientation": "v",
           "showlegend": true,
           "textposition": "auto",
           "type": "bar",
           "x": [
            "Romantic drama"
           ],
           "xaxis": "x",
           "y": [
            3.44
           ],
           "yaxis": "y"
          }
         ],
         "name": "1970"
        },
        {
         "data": [
          {
           "alignmentgroup": "True",
           "hovertemplate": "<b>%{hovertext}</b><br><br>Genre=%{x}<br>Decade=1980<br>Proportion of movies in percentage=%{y}<extra></extra>",
           "hovertext": [
            "Nbr movies: 3391"
           ],
           "ids": [
            "Drama"
           ],
           "legendgroup": "Drama",
           "marker": {
            "color": "#636efa",
            "pattern": {
             "shape": ""
            }
           },
           "name": "Drama",
           "offsetgroup": "Drama",
           "orientation": "v",
           "showlegend": true,
           "textposition": "auto",
           "type": "bar",
           "x": [
            "Drama"
           ],
           "xaxis": "x",
           "y": [
            45.84
           ],
           "yaxis": "y"
          },
          {
           "alignmentgroup": "True",
           "hovertemplate": "<b>%{hovertext}</b><br><br>Genre=%{x}<br>Decade=1980<br>Proportion of movies in percentage=%{y}<extra></extra>",
           "hovertext": [
            "Nbr movies: 1536"
           ],
           "ids": [
            "Comedy"
           ],
           "legendgroup": "Comedy",
           "marker": {
            "color": "#EF553B",
            "pattern": {
             "shape": ""
            }
           },
           "name": "Comedy",
           "offsetgroup": "Comedy",
           "orientation": "v",
           "showlegend": true,
           "textposition": "auto",
           "type": "bar",
           "x": [
            "Comedy"
           ],
           "xaxis": "x",
           "y": [
            20.77
           ],
           "yaxis": "y"
          },
          {
           "alignmentgroup": "True",
           "hovertemplate": "<b>%{hovertext}</b><br><br>Genre=%{x}<br>Decade=1980<br>Proportion of movies in percentage=%{y}<extra></extra>",
           "hovertext": [
            "Nbr movies: 903"
           ],
           "ids": [
            "Romance Film"
           ],
           "legendgroup": "Romance Film",
           "marker": {
            "color": "#00cc96",
            "pattern": {
             "shape": ""
            }
           },
           "name": "Romance Film",
           "offsetgroup": "Romance Film",
           "orientation": "v",
           "showlegend": true,
           "textposition": "auto",
           "type": "bar",
           "x": [
            "Romance Film"
           ],
           "xaxis": "x",
           "y": [
            12.21
           ],
           "yaxis": "y"
          },
          {
           "alignmentgroup": "True",
           "hovertemplate": "<b>%{hovertext}</b><br><br>Genre=%{x}<br>Decade=1980<br>Proportion of movies in percentage=%{y}<extra></extra>",
           "hovertext": [
            "Nbr movies: 36"
           ],
           "ids": [
            "Black-and-white"
           ],
           "legendgroup": "Black-and-white",
           "marker": {
            "color": "#ab63fa",
            "pattern": {
             "shape": ""
            }
           },
           "name": "Black-and-white",
           "offsetgroup": "Black-and-white",
           "orientation": "v",
           "showlegend": true,
           "textposition": "auto",
           "type": "bar",
           "x": [
            "Black-and-white"
           ],
           "xaxis": "x",
           "y": [
            0.49
           ],
           "yaxis": "y"
          },
          {
           "alignmentgroup": "True",
           "hovertemplate": "<b>%{hovertext}</b><br><br>Genre=%{x}<br>Decade=1980<br>Proportion of movies in percentage=%{y}<extra></extra>",
           "hovertext": [
            "Nbr movies: 1136"
           ],
           "ids": [
            "Action"
           ],
           "legendgroup": "Action",
           "marker": {
            "color": "#FFA15A",
            "pattern": {
             "shape": ""
            }
           },
           "name": "Action",
           "offsetgroup": "Action",
           "orientation": "v",
           "showlegend": true,
           "textposition": "auto",
           "type": "bar",
           "x": [
            "Action"
           ],
           "xaxis": "x",
           "y": [
            15.36
           ],
           "yaxis": "y"
          },
          {
           "alignmentgroup": "True",
           "hovertemplate": "<b>%{hovertext}</b><br><br>Genre=%{x}<br>Decade=1980<br>Proportion of movies in percentage=%{y}<extra></extra>",
           "hovertext": [
            "Nbr movies: 646"
           ],
           "ids": [
            "Thriller"
           ],
           "legendgroup": "Thriller",
           "marker": {
            "color": "#19d3f3",
            "pattern": {
             "shape": ""
            }
           },
           "name": "Thriller",
           "offsetgroup": "Thriller",
           "orientation": "v",
           "showlegend": true,
           "textposition": "auto",
           "type": "bar",
           "x": [
            "Thriller"
           ],
           "xaxis": "x",
           "y": [
            8.73
           ],
           "yaxis": "y"
          },
          {
           "alignmentgroup": "True",
           "hovertemplate": "<b>%{hovertext}</b><br><br>Genre=%{x}<br>Decade=1980<br>Proportion of movies in percentage=%{y}<extra></extra>",
           "hovertext": [
            "Nbr movies: 82"
           ],
           "ids": [
            "Short Film"
           ],
           "legendgroup": "Short Film",
           "marker": {
            "color": "#FF6692",
            "pattern": {
             "shape": ""
            }
           },
           "name": "Short Film",
           "offsetgroup": "Short Film",
           "orientation": "v",
           "showlegend": true,
           "textposition": "auto",
           "type": "bar",
           "x": [
            "Short Film"
           ],
           "xaxis": "x",
           "y": [
            1.11
           ],
           "yaxis": "y"
          },
          {
           "alignmentgroup": "True",
           "hovertemplate": "<b>%{hovertext}</b><br><br>Genre=%{x}<br>Decade=1980<br>Proportion of movies in percentage=%{y}<extra></extra>",
           "hovertext": [
            "Nbr movies: 537"
           ],
           "ids": [
            "World cinema"
           ],
           "legendgroup": "World cinema",
           "marker": {
            "color": "#B6E880",
            "pattern": {
             "shape": ""
            }
           },
           "name": "World cinema",
           "offsetgroup": "World cinema",
           "orientation": "v",
           "showlegend": true,
           "textposition": "auto",
           "type": "bar",
           "x": [
            "World cinema"
           ],
           "xaxis": "x",
           "y": [
            7.26
           ],
           "yaxis": "y"
          },
          {
           "alignmentgroup": "True",
           "hovertemplate": "<b>%{hovertext}</b><br><br>Genre=%{x}<br>Decade=1980<br>Proportion of movies in percentage=%{y}<extra></extra>",
           "hovertext": [
            "Nbr movies: 557"
           ],
           "ids": [
            "Crime Fiction"
           ],
           "legendgroup": "Crime Fiction",
           "marker": {
            "color": "#FF97FF",
            "pattern": {
             "shape": ""
            }
           },
           "name": "Crime Fiction",
           "offsetgroup": "Crime Fiction",
           "orientation": "v",
           "showlegend": true,
           "textposition": "auto",
           "type": "bar",
           "x": [
            "Crime Fiction"
           ],
           "xaxis": "x",
           "y": [
            7.53
           ],
           "yaxis": "y"
          },
          {
           "alignmentgroup": "True",
           "hovertemplate": "<b>%{hovertext}</b><br><br>Genre=%{x}<br>Decade=1980<br>Proportion of movies in percentage=%{y}<extra></extra>",
           "hovertext": [
            "Nbr movies: 419"
           ],
           "ids": [
            "Indie"
           ],
           "legendgroup": "Indie",
           "marker": {
            "color": "#FECB52",
            "pattern": {
             "shape": ""
            }
           },
           "name": "Indie",
           "offsetgroup": "Indie",
           "orientation": "v",
           "showlegend": true,
           "textposition": "auto",
           "type": "bar",
           "x": [
            "Indie"
           ],
           "xaxis": "x",
           "y": [
            5.66
           ],
           "yaxis": "y"
          },
          {
           "alignmentgroup": "True",
           "hovertemplate": "<b>%{hovertext}</b><br><br>Genre=%{x}<br>Decade=1980<br>Proportion of movies in percentage=%{y}<extra></extra>",
           "hovertext": [
            "Nbr movies: 33"
           ],
           "ids": [
            "Documentary"
           ],
           "legendgroup": "Documentary",
           "marker": {
            "color": "#636efa",
            "pattern": {
             "shape": ""
            }
           },
           "name": "Documentary",
           "offsetgroup": "Documentary",
           "orientation": "v",
           "showlegend": true,
           "textposition": "auto",
           "type": "bar",
           "x": [
            "Documentary"
           ],
           "xaxis": "x",
           "y": [
            0.45
           ],
           "yaxis": "y"
          },
          {
           "alignmentgroup": "True",
           "hovertemplate": "<b>%{hovertext}</b><br><br>Genre=%{x}<br>Decade=1980<br>Proportion of movies in percentage=%{y}<extra></extra>",
           "hovertext": [
            "Nbr movies: 212"
           ],
           "ids": [
            "Horror"
           ],
           "legendgroup": "Horror",
           "marker": {
            "color": "#EF553B",
            "pattern": {
             "shape": ""
            }
           },
           "name": "Horror",
           "offsetgroup": "Horror",
           "orientation": "v",
           "showlegend": true,
           "textposition": "auto",
           "type": "bar",
           "x": [
            "Horror"
           ],
           "xaxis": "x",
           "y": [
            2.87
           ],
           "yaxis": "y"
          },
          {
           "alignmentgroup": "True",
           "hovertemplate": "<b>%{hovertext}</b><br><br>Genre=%{x}<br>Decade=1980<br>Proportion of movies in percentage=%{y}<extra></extra>",
           "hovertext": [
            "Nbr movies: 1"
           ],
           "ids": [
            "Silent film"
           ],
           "legendgroup": "Silent film",
           "marker": {
            "color": "#00cc96",
            "pattern": {
             "shape": ""
            }
           },
           "name": "Silent film",
           "offsetgroup": "Silent film",
           "orientation": "v",
           "showlegend": true,
           "textposition": "auto",
           "type": "bar",
           "x": [
            "Silent film"
           ],
           "xaxis": "x",
           "y": [
            0.01
           ],
           "yaxis": "y"
          },
          {
           "alignmentgroup": "True",
           "hovertemplate": "<b>%{hovertext}</b><br><br>Genre=%{x}<br>Decade=1980<br>Proportion of movies in percentage=%{y}<extra></extra>",
           "hovertext": [
            "Nbr movies: 398"
           ],
           "ids": [
            "Adventure"
           ],
           "legendgroup": "Adventure",
           "marker": {
            "color": "#ab63fa",
            "pattern": {
             "shape": ""
            }
           },
           "name": "Adventure",
           "offsetgroup": "Adventure",
           "orientation": "v",
           "showlegend": true,
           "textposition": "auto",
           "type": "bar",
           "x": [
            "Adventure"
           ],
           "xaxis": "x",
           "y": [
            5.38
           ],
           "yaxis": "y"
          },
          {
           "alignmentgroup": "True",
           "hovertemplate": "<b>%{hovertext}</b><br><br>Genre=%{x}<br>Decade=1980<br>Proportion of movies in percentage=%{y}<extra></extra>",
           "hovertext": [
            "Nbr movies: 321"
           ],
           "ids": [
            "Family Film"
           ],
           "legendgroup": "Family Film",
           "marker": {
            "color": "#FFA15A",
            "pattern": {
             "shape": ""
            }
           },
           "name": "Family Film",
           "offsetgroup": "Family Film",
           "orientation": "v",
           "showlegend": true,
           "textposition": "auto",
           "type": "bar",
           "x": [
            "Family Film"
           ],
           "xaxis": "x",
           "y": [
            4.34
           ],
           "yaxis": "y"
          },
          {
           "alignmentgroup": "True",
           "hovertemplate": "<b>%{hovertext}</b><br><br>Genre=%{x}<br>Decade=1980<br>Proportion of movies in percentage=%{y}<extra></extra>",
           "hovertext": [
            "Nbr movies: 508"
           ],
           "ids": [
            "Action/Adventure"
           ],
           "legendgroup": "Action/Adventure",
           "marker": {
            "color": "#19d3f3",
            "pattern": {
             "shape": ""
            }
           },
           "name": "Action/Adventure",
           "offsetgroup": "Action/Adventure",
           "orientation": "v",
           "showlegend": true,
           "textposition": "auto",
           "type": "bar",
           "x": [
            "Action/Adventure"
           ],
           "xaxis": "x",
           "y": [
            6.87
           ],
           "yaxis": "y"
          },
          {
           "alignmentgroup": "True",
           "hovertemplate": "<b>%{hovertext}</b><br><br>Genre=%{x}<br>Decade=1980<br>Proportion of movies in percentage=%{y}<extra></extra>",
           "hovertext": [
            "Nbr movies: 130"
           ],
           "ids": [
            "Comedy film"
           ],
           "legendgroup": "Comedy film",
           "marker": {
            "color": "#FF6692",
            "pattern": {
             "shape": ""
            }
           },
           "name": "Comedy film",
           "offsetgroup": "Comedy film",
           "orientation": "v",
           "showlegend": true,
           "textposition": "auto",
           "type": "bar",
           "x": [
            "Comedy film"
           ],
           "xaxis": "x",
           "y": [
            1.76
           ],
           "yaxis": "y"
          },
          {
           "alignmentgroup": "True",
           "hovertemplate": "<b>%{hovertext}</b><br><br>Genre=%{x}<br>Decade=1980<br>Proportion of movies in percentage=%{y}<extra></extra>",
           "hovertext": [
            "Nbr movies: 261"
           ],
           "ids": [
            "Musical"
           ],
           "legendgroup": "Musical",
           "marker": {
            "color": "#B6E880",
            "pattern": {
             "shape": ""
            }
           },
           "name": "Musical",
           "offsetgroup": "Musical",
           "orientation": "v",
           "showlegend": true,
           "textposition": "auto",
           "type": "bar",
           "x": [
            "Musical"
           ],
           "xaxis": "x",
           "y": [
            3.53
           ],
           "yaxis": "y"
          },
          {
           "alignmentgroup": "True",
           "hovertemplate": "<b>%{hovertext}</b><br><br>Genre=%{x}<br>Decade=1980<br>Proportion of movies in percentage=%{y}<extra></extra>",
           "hovertext": [
            "Nbr movies: 111"
           ],
           "ids": [
            "Animation"
           ],
           "legendgroup": "Animation",
           "marker": {
            "color": "#FF97FF",
            "pattern": {
             "shape": ""
            }
           },
           "name": "Animation",
           "offsetgroup": "Animation",
           "orientation": "v",
           "showlegend": true,
           "textposition": "auto",
           "type": "bar",
           "x": [
            "Animation"
           ],
           "xaxis": "x",
           "y": [
            1.5
           ],
           "yaxis": "y"
          },
          {
           "alignmentgroup": "True",
           "hovertemplate": "<b>%{hovertext}</b><br><br>Genre=%{x}<br>Decade=1980<br>Proportion of movies in percentage=%{y}<extra></extra>",
           "hovertext": [
            "Nbr movies: 323"
           ],
           "ids": [
            "Romantic drama"
           ],
           "legendgroup": "Romantic drama",
           "marker": {
            "color": "#FECB52",
            "pattern": {
             "shape": ""
            }
           },
           "name": "Romantic drama",
           "offsetgroup": "Romantic drama",
           "orientation": "v",
           "showlegend": true,
           "textposition": "auto",
           "type": "bar",
           "x": [
            "Romantic drama"
           ],
           "xaxis": "x",
           "y": [
            4.37
           ],
           "yaxis": "y"
          }
         ],
         "name": "1980"
        },
        {
         "data": [
          {
           "alignmentgroup": "True",
           "hovertemplate": "<b>%{hovertext}</b><br><br>Genre=%{x}<br>Decade=1990<br>Proportion of movies in percentage=%{y}<extra></extra>",
           "hovertext": [
            "Nbr movies: 4416"
           ],
           "ids": [
            "Drama"
           ],
           "legendgroup": "Drama",
           "marker": {
            "color": "#636efa",
            "pattern": {
             "shape": ""
            }
           },
           "name": "Drama",
           "offsetgroup": "Drama",
           "orientation": "v",
           "showlegend": true,
           "textposition": "auto",
           "type": "bar",
           "x": [
            "Drama"
           ],
           "xaxis": "x",
           "y": [
            46.64
           ],
           "yaxis": "y"
          },
          {
           "alignmentgroup": "True",
           "hovertemplate": "<b>%{hovertext}</b><br><br>Genre=%{x}<br>Decade=1990<br>Proportion of movies in percentage=%{y}<extra></extra>",
           "hovertext": [
            "Nbr movies: 2192"
           ],
           "ids": [
            "Comedy"
           ],
           "legendgroup": "Comedy",
           "marker": {
            "color": "#EF553B",
            "pattern": {
             "shape": ""
            }
           },
           "name": "Comedy",
           "offsetgroup": "Comedy",
           "orientation": "v",
           "showlegend": true,
           "textposition": "auto",
           "type": "bar",
           "x": [
            "Comedy"
           ],
           "xaxis": "x",
           "y": [
            23.15
           ],
           "yaxis": "y"
          },
          {
           "alignmentgroup": "True",
           "hovertemplate": "<b>%{hovertext}</b><br><br>Genre=%{x}<br>Decade=1990<br>Proportion of movies in percentage=%{y}<extra></extra>",
           "hovertext": [
            "Nbr movies: 1455"
           ],
           "ids": [
            "Romance Film"
           ],
           "legendgroup": "Romance Film",
           "marker": {
            "color": "#00cc96",
            "pattern": {
             "shape": ""
            }
           },
           "name": "Romance Film",
           "offsetgroup": "Romance Film",
           "orientation": "v",
           "showlegend": true,
           "textposition": "auto",
           "type": "bar",
           "x": [
            "Romance Film"
           ],
           "xaxis": "x",
           "y": [
            15.37
           ],
           "yaxis": "y"
          },
          {
           "alignmentgroup": "True",
           "hovertemplate": "<b>%{hovertext}</b><br><br>Genre=%{x}<br>Decade=1990<br>Proportion of movies in percentage=%{y}<extra></extra>",
           "hovertext": [
            "Nbr movies: 68"
           ],
           "ids": [
            "Black-and-white"
           ],
           "legendgroup": "Black-and-white",
           "marker": {
            "color": "#ab63fa",
            "pattern": {
             "shape": ""
            }
           },
           "name": "Black-and-white",
           "offsetgroup": "Black-and-white",
           "orientation": "v",
           "showlegend": true,
           "textposition": "auto",
           "type": "bar",
           "x": [
            "Black-and-white"
           ],
           "xaxis": "x",
           "y": [
            0.72
           ],
           "yaxis": "y"
          },
          {
           "alignmentgroup": "True",
           "hovertemplate": "<b>%{hovertext}</b><br><br>Genre=%{x}<br>Decade=1990<br>Proportion of movies in percentage=%{y}<extra></extra>",
           "hovertext": [
            "Nbr movies: 1407"
           ],
           "ids": [
            "Action"
           ],
           "legendgroup": "Action",
           "marker": {
            "color": "#FFA15A",
            "pattern": {
             "shape": ""
            }
           },
           "name": "Action",
           "offsetgroup": "Action",
           "orientation": "v",
           "showlegend": true,
           "textposition": "auto",
           "type": "bar",
           "x": [
            "Action"
           ],
           "xaxis": "x",
           "y": [
            14.86
           ],
           "yaxis": "y"
          },
          {
           "alignmentgroup": "True",
           "hovertemplate": "<b>%{hovertext}</b><br><br>Genre=%{x}<br>Decade=1990<br>Proportion of movies in percentage=%{y}<extra></extra>",
           "hovertext": [
            "Nbr movies: 1136"
           ],
           "ids": [
            "Thriller"
           ],
           "legendgroup": "Thriller",
           "marker": {
            "color": "#19d3f3",
            "pattern": {
             "shape": ""
            }
           },
           "name": "Thriller",
           "offsetgroup": "Thriller",
           "orientation": "v",
           "showlegend": true,
           "textposition": "auto",
           "type": "bar",
           "x": [
            "Thriller"
           ],
           "xaxis": "x",
           "y": [
            12
           ],
           "yaxis": "y"
          },
          {
           "alignmentgroup": "True",
           "hovertemplate": "<b>%{hovertext}</b><br><br>Genre=%{x}<br>Decade=1990<br>Proportion of movies in percentage=%{y}<extra></extra>",
           "hovertext": [
            "Nbr movies: 118"
           ],
           "ids": [
            "Short Film"
           ],
           "legendgroup": "Short Film",
           "marker": {
            "color": "#FF6692",
            "pattern": {
             "shape": ""
            }
           },
           "name": "Short Film",
           "offsetgroup": "Short Film",
           "orientation": "v",
           "showlegend": true,
           "textposition": "auto",
           "type": "bar",
           "x": [
            "Short Film"
           ],
           "xaxis": "x",
           "y": [
            1.25
           ],
           "yaxis": "y"
          },
          {
           "alignmentgroup": "True",
           "hovertemplate": "<b>%{hovertext}</b><br><br>Genre=%{x}<br>Decade=1990<br>Proportion of movies in percentage=%{y}<extra></extra>",
           "hovertext": [
            "Nbr movies: 879"
           ],
           "ids": [
            "World cinema"
           ],
           "legendgroup": "World cinema",
           "marker": {
            "color": "#B6E880",
            "pattern": {
             "shape": ""
            }
           },
           "name": "World cinema",
           "offsetgroup": "World cinema",
           "orientation": "v",
           "showlegend": true,
           "textposition": "auto",
           "type": "bar",
           "x": [
            "World cinema"
           ],
           "xaxis": "x",
           "y": [
            9.28
           ],
           "yaxis": "y"
          },
          {
           "alignmentgroup": "True",
           "hovertemplate": "<b>%{hovertext}</b><br><br>Genre=%{x}<br>Decade=1990<br>Proportion of movies in percentage=%{y}<extra></extra>",
           "hovertext": [
            "Nbr movies: 920"
           ],
           "ids": [
            "Crime Fiction"
           ],
           "legendgroup": "Crime Fiction",
           "marker": {
            "color": "#FF97FF",
            "pattern": {
             "shape": ""
            }
           },
           "name": "Crime Fiction",
           "offsetgroup": "Crime Fiction",
           "orientation": "v",
           "showlegend": true,
           "textposition": "auto",
           "type": "bar",
           "x": [
            "Crime Fiction"
           ],
           "xaxis": "x",
           "y": [
            9.72
           ],
           "yaxis": "y"
          },
          {
           "alignmentgroup": "True",
           "hovertemplate": "<b>%{hovertext}</b><br><br>Genre=%{x}<br>Decade=1990<br>Proportion of movies in percentage=%{y}<extra></extra>",
           "hovertext": [
            "Nbr movies: 793"
           ],
           "ids": [
            "Indie"
           ],
           "legendgroup": "Indie",
           "marker": {
            "color": "#FECB52",
            "pattern": {
             "shape": ""
            }
           },
           "name": "Indie",
           "offsetgroup": "Indie",
           "orientation": "v",
           "showlegend": true,
           "textposition": "auto",
           "type": "bar",
           "x": [
            "Indie"
           ],
           "xaxis": "x",
           "y": [
            8.37
           ],
           "yaxis": "y"
          },
          {
           "alignmentgroup": "True",
           "hovertemplate": "<b>%{hovertext}</b><br><br>Genre=%{x}<br>Decade=1990<br>Proportion of movies in percentage=%{y}<extra></extra>",
           "hovertext": [
            "Nbr movies: 55"
           ],
           "ids": [
            "Documentary"
           ],
           "legendgroup": "Documentary",
           "marker": {
            "color": "#636efa",
            "pattern": {
             "shape": ""
            }
           },
           "name": "Documentary",
           "offsetgroup": "Documentary",
           "orientation": "v",
           "showlegend": true,
           "textposition": "auto",
           "type": "bar",
           "x": [
            "Documentary"
           ],
           "xaxis": "x",
           "y": [
            0.58
           ],
           "yaxis": "y"
          },
          {
           "alignmentgroup": "True",
           "hovertemplate": "<b>%{hovertext}</b><br><br>Genre=%{x}<br>Decade=1990<br>Proportion of movies in percentage=%{y}<extra></extra>",
           "hovertext": [
            "Nbr movies: 234"
           ],
           "ids": [
            "Horror"
           ],
           "legendgroup": "Horror",
           "marker": {
            "color": "#EF553B",
            "pattern": {
             "shape": ""
            }
           },
           "name": "Horror",
           "offsetgroup": "Horror",
           "orientation": "v",
           "showlegend": true,
           "textposition": "auto",
           "type": "bar",
           "x": [
            "Horror"
           ],
           "xaxis": "x",
           "y": [
            2.47
           ],
           "yaxis": "y"
          },
          {
           "alignmentgroup": "True",
           "hovertemplate": "<b>%{hovertext}</b><br><br>Genre=%{x}<br>Decade=1990<br>Proportion of movies in percentage=%{y}<extra></extra>",
           "hovertext": [
            "Nbr movies: 0"
           ],
           "ids": [
            "Silent film"
           ],
           "legendgroup": "Silent film",
           "marker": {
            "color": "#00cc96",
            "pattern": {
             "shape": ""
            }
           },
           "name": "Silent film",
           "offsetgroup": "Silent film",
           "orientation": "v",
           "showlegend": true,
           "textposition": "auto",
           "type": "bar",
           "x": [
            "Silent film"
           ],
           "xaxis": "x",
           "y": [
            0
           ],
           "yaxis": "y"
          },
          {
           "alignmentgroup": "True",
           "hovertemplate": "<b>%{hovertext}</b><br><br>Genre=%{x}<br>Decade=1990<br>Proportion of movies in percentage=%{y}<extra></extra>",
           "hovertext": [
            "Nbr movies: 435"
           ],
           "ids": [
            "Adventure"
           ],
           "legendgroup": "Adventure",
           "marker": {
            "color": "#ab63fa",
            "pattern": {
             "shape": ""
            }
           },
           "name": "Adventure",
           "offsetgroup": "Adventure",
           "orientation": "v",
           "showlegend": true,
           "textposition": "auto",
           "type": "bar",
           "x": [
            "Adventure"
           ],
           "xaxis": "x",
           "y": [
            4.59
           ],
           "yaxis": "y"
          },
          {
           "alignmentgroup": "True",
           "hovertemplate": "<b>%{hovertext}</b><br><br>Genre=%{x}<br>Decade=1990<br>Proportion of movies in percentage=%{y}<extra></extra>",
           "hovertext": [
            "Nbr movies: 482"
           ],
           "ids": [
            "Family Film"
           ],
           "legendgroup": "Family Film",
           "marker": {
            "color": "#FFA15A",
            "pattern": {
             "shape": ""
            }
           },
           "name": "Family Film",
           "offsetgroup": "Family Film",
           "orientation": "v",
           "showlegend": true,
           "textposition": "auto",
           "type": "bar",
           "x": [
            "Family Film"
           ],
           "xaxis": "x",
           "y": [
            5.09
           ],
           "yaxis": "y"
          },
          {
           "alignmentgroup": "True",
           "hovertemplate": "<b>%{hovertext}</b><br><br>Genre=%{x}<br>Decade=1990<br>Proportion of movies in percentage=%{y}<extra></extra>",
           "hovertext": [
            "Nbr movies: 681"
           ],
           "ids": [
            "Action/Adventure"
           ],
           "legendgroup": "Action/Adventure",
           "marker": {
            "color": "#19d3f3",
            "pattern": {
             "shape": ""
            }
           },
           "name": "Action/Adventure",
           "offsetgroup": "Action/Adventure",
           "orientation": "v",
           "showlegend": true,
           "textposition": "auto",
           "type": "bar",
           "x": [
            "Action/Adventure"
           ],
           "xaxis": "x",
           "y": [
            7.19
           ],
           "yaxis": "y"
          },
          {
           "alignmentgroup": "True",
           "hovertemplate": "<b>%{hovertext}</b><br><br>Genre=%{x}<br>Decade=1990<br>Proportion of movies in percentage=%{y}<extra></extra>",
           "hovertext": [
            "Nbr movies: 152"
           ],
           "ids": [
            "Comedy film"
           ],
           "legendgroup": "Comedy film",
           "marker": {
            "color": "#FF6692",
            "pattern": {
             "shape": ""
            }
           },
           "name": "Comedy film",
           "offsetgroup": "Comedy film",
           "orientation": "v",
           "showlegend": true,
           "textposition": "auto",
           "type": "bar",
           "x": [
            "Comedy film"
           ],
           "xaxis": "x",
           "y": [
            1.61
           ],
           "yaxis": "y"
          },
          {
           "alignmentgroup": "True",
           "hovertemplate": "<b>%{hovertext}</b><br><br>Genre=%{x}<br>Decade=1990<br>Proportion of movies in percentage=%{y}<extra></extra>",
           "hovertext": [
            "Nbr movies: 243"
           ],
           "ids": [
            "Musical"
           ],
           "legendgroup": "Musical",
           "marker": {
            "color": "#B6E880",
            "pattern": {
             "shape": ""
            }
           },
           "name": "Musical",
           "offsetgroup": "Musical",
           "orientation": "v",
           "showlegend": true,
           "textposition": "auto",
           "type": "bar",
           "x": [
            "Musical"
           ],
           "xaxis": "x",
           "y": [
            2.57
           ],
           "yaxis": "y"
          },
          {
           "alignmentgroup": "True",
           "hovertemplate": "<b>%{hovertext}</b><br><br>Genre=%{x}<br>Decade=1990<br>Proportion of movies in percentage=%{y}<extra></extra>",
           "hovertext": [
            "Nbr movies: 147"
           ],
           "ids": [
            "Animation"
           ],
           "legendgroup": "Animation",
           "marker": {
            "color": "#FF97FF",
            "pattern": {
             "shape": ""
            }
           },
           "name": "Animation",
           "offsetgroup": "Animation",
           "orientation": "v",
           "showlegend": true,
           "textposition": "auto",
           "type": "bar",
           "x": [
            "Animation"
           ],
           "xaxis": "x",
           "y": [
            1.55
           ],
           "yaxis": "y"
          },
          {
           "alignmentgroup": "True",
           "hovertemplate": "<b>%{hovertext}</b><br><br>Genre=%{x}<br>Decade=1990<br>Proportion of movies in percentage=%{y}<extra></extra>",
           "hovertext": [
            "Nbr movies: 627"
           ],
           "ids": [
            "Romantic drama"
           ],
           "legendgroup": "Romantic drama",
           "marker": {
            "color": "#FECB52",
            "pattern": {
             "shape": ""
            }
           },
           "name": "Romantic drama",
           "offsetgroup": "Romantic drama",
           "orientation": "v",
           "showlegend": true,
           "textposition": "auto",
           "type": "bar",
           "x": [
            "Romantic drama"
           ],
           "xaxis": "x",
           "y": [
            6.62
           ],
           "yaxis": "y"
          }
         ],
         "name": "1990"
        },
        {
         "data": [
          {
           "alignmentgroup": "True",
           "hovertemplate": "<b>%{hovertext}</b><br><br>Genre=%{x}<br>Decade=2000<br>Proportion of movies in percentage=%{y}<extra></extra>",
           "hovertext": [
            "Nbr movies: 8415"
           ],
           "ids": [
            "Drama"
           ],
           "legendgroup": "Drama",
           "marker": {
            "color": "#636efa",
            "pattern": {
             "shape": ""
            }
           },
           "name": "Drama",
           "offsetgroup": "Drama",
           "orientation": "v",
           "showlegend": true,
           "textposition": "auto",
           "type": "bar",
           "x": [
            "Drama"
           ],
           "xaxis": "x",
           "y": [
            43.67
           ],
           "yaxis": "y"
          },
          {
           "alignmentgroup": "True",
           "hovertemplate": "<b>%{hovertext}</b><br><br>Genre=%{x}<br>Decade=2000<br>Proportion of movies in percentage=%{y}<extra></extra>",
           "hovertext": [
            "Nbr movies: 4450"
           ],
           "ids": [
            "Comedy"
           ],
           "legendgroup": "Comedy",
           "marker": {
            "color": "#EF553B",
            "pattern": {
             "shape": ""
            }
           },
           "name": "Comedy",
           "offsetgroup": "Comedy",
           "orientation": "v",
           "showlegend": true,
           "textposition": "auto",
           "type": "bar",
           "x": [
            "Comedy"
           ],
           "xaxis": "x",
           "y": [
            23.1
           ],
           "yaxis": "y"
          },
          {
           "alignmentgroup": "True",
           "hovertemplate": "<b>%{hovertext}</b><br><br>Genre=%{x}<br>Decade=2000<br>Proportion of movies in percentage=%{y}<extra></extra>",
           "hovertext": [
            "Nbr movies: 2999"
           ],
           "ids": [
            "Romance Film"
           ],
           "legendgroup": "Romance Film",
           "marker": {
            "color": "#00cc96",
            "pattern": {
             "shape": ""
            }
           },
           "name": "Romance Film",
           "offsetgroup": "Romance Film",
           "orientation": "v",
           "showlegend": true,
           "textposition": "auto",
           "type": "bar",
           "x": [
            "Romance Film"
           ],
           "xaxis": "x",
           "y": [
            15.56
           ],
           "yaxis": "y"
          },
          {
           "alignmentgroup": "True",
           "hovertemplate": "<b>%{hovertext}</b><br><br>Genre=%{x}<br>Decade=2000<br>Proportion of movies in percentage=%{y}<extra></extra>",
           "hovertext": [
            "Nbr movies: 56"
           ],
           "ids": [
            "Black-and-white"
           ],
           "legendgroup": "Black-and-white",
           "marker": {
            "color": "#ab63fa",
            "pattern": {
             "shape": ""
            }
           },
           "name": "Black-and-white",
           "offsetgroup": "Black-and-white",
           "orientation": "v",
           "showlegend": true,
           "textposition": "auto",
           "type": "bar",
           "x": [
            "Black-and-white"
           ],
           "xaxis": "x",
           "y": [
            0.29
           ],
           "yaxis": "y"
          },
          {
           "alignmentgroup": "True",
           "hovertemplate": "<b>%{hovertext}</b><br><br>Genre=%{x}<br>Decade=2000<br>Proportion of movies in percentage=%{y}<extra></extra>",
           "hovertext": [
            "Nbr movies: 2283"
           ],
           "ids": [
            "Action"
           ],
           "legendgroup": "Action",
           "marker": {
            "color": "#FFA15A",
            "pattern": {
             "shape": ""
            }
           },
           "name": "Action",
           "offsetgroup": "Action",
           "orientation": "v",
           "showlegend": true,
           "textposition": "auto",
           "type": "bar",
           "x": [
            "Action"
           ],
           "xaxis": "x",
           "y": [
            11.85
           ],
           "yaxis": "y"
          },
          {
           "alignmentgroup": "True",
           "hovertemplate": "<b>%{hovertext}</b><br><br>Genre=%{x}<br>Decade=2000<br>Proportion of movies in percentage=%{y}<extra></extra>",
           "hovertext": [
            "Nbr movies: 2082"
           ],
           "ids": [
            "Thriller"
           ],
           "legendgroup": "Thriller",
           "marker": {
            "color": "#19d3f3",
            "pattern": {
             "shape": ""
            }
           },
           "name": "Thriller",
           "offsetgroup": "Thriller",
           "orientation": "v",
           "showlegend": true,
           "textposition": "auto",
           "type": "bar",
           "x": [
            "Thriller"
           ],
           "xaxis": "x",
           "y": [
            10.81
           ],
           "yaxis": "y"
          },
          {
           "alignmentgroup": "True",
           "hovertemplate": "<b>%{hovertext}</b><br><br>Genre=%{x}<br>Decade=2000<br>Proportion of movies in percentage=%{y}<extra></extra>",
           "hovertext": [
            "Nbr movies: 461"
           ],
           "ids": [
            "Short Film"
           ],
           "legendgroup": "Short Film",
           "marker": {
            "color": "#FF6692",
            "pattern": {
             "shape": ""
            }
           },
           "name": "Short Film",
           "offsetgroup": "Short Film",
           "orientation": "v",
           "showlegend": true,
           "textposition": "auto",
           "type": "bar",
           "x": [
            "Short Film"
           ],
           "xaxis": "x",
           "y": [
            2.39
           ],
           "yaxis": "y"
          },
          {
           "alignmentgroup": "True",
           "hovertemplate": "<b>%{hovertext}</b><br><br>Genre=%{x}<br>Decade=2000<br>Proportion of movies in percentage=%{y}<extra></extra>",
           "hovertext": [
            "Nbr movies: 2843"
           ],
           "ids": [
            "World cinema"
           ],
           "legendgroup": "World cinema",
           "marker": {
            "color": "#B6E880",
            "pattern": {
             "shape": ""
            }
           },
           "name": "World cinema",
           "offsetgroup": "World cinema",
           "orientation": "v",
           "showlegend": true,
           "textposition": "auto",
           "type": "bar",
           "x": [
            "World cinema"
           ],
           "xaxis": "x",
           "y": [
            14.76
           ],
           "yaxis": "y"
          },
          {
           "alignmentgroup": "True",
           "hovertemplate": "<b>%{hovertext}</b><br><br>Genre=%{x}<br>Decade=2000<br>Proportion of movies in percentage=%{y}<extra></extra>",
           "hovertext": [
            "Nbr movies: 1422"
           ],
           "ids": [
            "Crime Fiction"
           ],
           "legendgroup": "Crime Fiction",
           "marker": {
            "color": "#FF97FF",
            "pattern": {
             "shape": ""
            }
           },
           "name": "Crime Fiction",
           "offsetgroup": "Crime Fiction",
           "orientation": "v",
           "showlegend": true,
           "textposition": "auto",
           "type": "bar",
           "x": [
            "Crime Fiction"
           ],
           "xaxis": "x",
           "y": [
            7.38
           ],
           "yaxis": "y"
          },
          {
           "alignmentgroup": "True",
           "hovertemplate": "<b>%{hovertext}</b><br><br>Genre=%{x}<br>Decade=2000<br>Proportion of movies in percentage=%{y}<extra></extra>",
           "hovertext": [
            "Nbr movies: 1850"
           ],
           "ids": [
            "Indie"
           ],
           "legendgroup": "Indie",
           "marker": {
            "color": "#FECB52",
            "pattern": {
             "shape": ""
            }
           },
           "name": "Indie",
           "offsetgroup": "Indie",
           "orientation": "v",
           "showlegend": true,
           "textposition": "auto",
           "type": "bar",
           "x": [
            "Indie"
           ],
           "xaxis": "x",
           "y": [
            9.6
           ],
           "yaxis": "y"
          },
          {
           "alignmentgroup": "True",
           "hovertemplate": "<b>%{hovertext}</b><br><br>Genre=%{x}<br>Decade=2000<br>Proportion of movies in percentage=%{y}<extra></extra>",
           "hovertext": [
            "Nbr movies: 166"
           ],
           "ids": [
            "Documentary"
           ],
           "legendgroup": "Documentary",
           "marker": {
            "color": "#636efa",
            "pattern": {
             "shape": ""
            }
           },
           "name": "Documentary",
           "offsetgroup": "Documentary",
           "orientation": "v",
           "showlegend": true,
           "textposition": "auto",
           "type": "bar",
           "x": [
            "Documentary"
           ],
           "xaxis": "x",
           "y": [
            0.86
           ],
           "yaxis": "y"
          },
          {
           "alignmentgroup": "True",
           "hovertemplate": "<b>%{hovertext}</b><br><br>Genre=%{x}<br>Decade=2000<br>Proportion of movies in percentage=%{y}<extra></extra>",
           "hovertext": [
            "Nbr movies: 617"
           ],
           "ids": [
            "Horror"
           ],
           "legendgroup": "Horror",
           "marker": {
            "color": "#EF553B",
            "pattern": {
             "shape": ""
            }
           },
           "name": "Horror",
           "offsetgroup": "Horror",
           "orientation": "v",
           "showlegend": true,
           "textposition": "auto",
           "type": "bar",
           "x": [
            "Horror"
           ],
           "xaxis": "x",
           "y": [
            3.2
           ],
           "yaxis": "y"
          },
          {
           "alignmentgroup": "True",
           "hovertemplate": "<b>%{hovertext}</b><br><br>Genre=%{x}<br>Decade=2000<br>Proportion of movies in percentage=%{y}<extra></extra>",
           "hovertext": [
            "Nbr movies: 12"
           ],
           "ids": [
            "Silent film"
           ],
           "legendgroup": "Silent film",
           "marker": {
            "color": "#00cc96",
            "pattern": {
             "shape": ""
            }
           },
           "name": "Silent film",
           "offsetgroup": "Silent film",
           "orientation": "v",
           "showlegend": true,
           "textposition": "auto",
           "type": "bar",
           "x": [
            "Silent film"
           ],
           "xaxis": "x",
           "y": [
            0.06
           ],
           "yaxis": "y"
          },
          {
           "alignmentgroup": "True",
           "hovertemplate": "<b>%{hovertext}</b><br><br>Genre=%{x}<br>Decade=2000<br>Proportion of movies in percentage=%{y}<extra></extra>",
           "hovertext": [
            "Nbr movies: 727"
           ],
           "ids": [
            "Adventure"
           ],
           "legendgroup": "Adventure",
           "marker": {
            "color": "#ab63fa",
            "pattern": {
             "shape": ""
            }
           },
           "name": "Adventure",
           "offsetgroup": "Adventure",
           "orientation": "v",
           "showlegend": true,
           "textposition": "auto",
           "type": "bar",
           "x": [
            "Adventure"
           ],
           "xaxis": "x",
           "y": [
            3.77
           ],
           "yaxis": "y"
          },
          {
           "alignmentgroup": "True",
           "hovertemplate": "<b>%{hovertext}</b><br><br>Genre=%{x}<br>Decade=2000<br>Proportion of movies in percentage=%{y}<extra></extra>",
           "hovertext": [
            "Nbr movies: 719"
           ],
           "ids": [
            "Family Film"
           ],
           "legendgroup": "Family Film",
           "marker": {
            "color": "#FFA15A",
            "pattern": {
             "shape": ""
            }
           },
           "name": "Family Film",
           "offsetgroup": "Family Film",
           "orientation": "v",
           "showlegend": true,
           "textposition": "auto",
           "type": "bar",
           "x": [
            "Family Film"
           ],
           "xaxis": "x",
           "y": [
            3.73
           ],
           "yaxis": "y"
          },
          {
           "alignmentgroup": "True",
           "hovertemplate": "<b>%{hovertext}</b><br><br>Genre=%{x}<br>Decade=2000<br>Proportion of movies in percentage=%{y}<extra></extra>",
           "hovertext": [
            "Nbr movies: 1258"
           ],
           "ids": [
            "Action/Adventure"
           ],
           "legendgroup": "Action/Adventure",
           "marker": {
            "color": "#19d3f3",
            "pattern": {
             "shape": ""
            }
           },
           "name": "Action/Adventure",
           "offsetgroup": "Action/Adventure",
           "orientation": "v",
           "showlegend": true,
           "textposition": "auto",
           "type": "bar",
           "x": [
            "Action/Adventure"
           ],
           "xaxis": "x",
           "y": [
            6.53
           ],
           "yaxis": "y"
          },
          {
           "alignmentgroup": "True",
           "hovertemplate": "<b>%{hovertext}</b><br><br>Genre=%{x}<br>Decade=2000<br>Proportion of movies in percentage=%{y}<extra></extra>",
           "hovertext": [
            "Nbr movies: 271"
           ],
           "ids": [
            "Comedy film"
           ],
           "legendgroup": "Comedy film",
           "marker": {
            "color": "#FF6692",
            "pattern": {
             "shape": ""
            }
           },
           "name": "Comedy film",
           "offsetgroup": "Comedy film",
           "orientation": "v",
           "showlegend": true,
           "textposition": "auto",
           "type": "bar",
           "x": [
            "Comedy film"
           ],
           "xaxis": "x",
           "y": [
            1.41
           ],
           "yaxis": "y"
          },
          {
           "alignmentgroup": "True",
           "hovertemplate": "<b>%{hovertext}</b><br><br>Genre=%{x}<br>Decade=2000<br>Proportion of movies in percentage=%{y}<extra></extra>",
           "hovertext": [
            "Nbr movies: 753"
           ],
           "ids": [
            "Musical"
           ],
           "legendgroup": "Musical",
           "marker": {
            "color": "#B6E880",
            "pattern": {
             "shape": ""
            }
           },
           "name": "Musical",
           "offsetgroup": "Musical",
           "orientation": "v",
           "showlegend": true,
           "textposition": "auto",
           "type": "bar",
           "x": [
            "Musical"
           ],
           "xaxis": "x",
           "y": [
            3.91
           ],
           "yaxis": "y"
          },
          {
           "alignmentgroup": "True",
           "hovertemplate": "<b>%{hovertext}</b><br><br>Genre=%{x}<br>Decade=2000<br>Proportion of movies in percentage=%{y}<extra></extra>",
           "hovertext": [
            "Nbr movies: 389"
           ],
           "ids": [
            "Animation"
           ],
           "legendgroup": "Animation",
           "marker": {
            "color": "#FF97FF",
            "pattern": {
             "shape": ""
            }
           },
           "name": "Animation",
           "offsetgroup": "Animation",
           "orientation": "v",
           "showlegend": true,
           "textposition": "auto",
           "type": "bar",
           "x": [
            "Animation"
           ],
           "xaxis": "x",
           "y": [
            2.02
           ],
           "yaxis": "y"
          },
          {
           "alignmentgroup": "True",
           "hovertemplate": "<b>%{hovertext}</b><br><br>Genre=%{x}<br>Decade=2000<br>Proportion of movies in percentage=%{y}<extra></extra>",
           "hovertext": [
            "Nbr movies: 1305"
           ],
           "ids": [
            "Romantic drama"
           ],
           "legendgroup": "Romantic drama",
           "marker": {
            "color": "#FECB52",
            "pattern": {
             "shape": ""
            }
           },
           "name": "Romantic drama",
           "offsetgroup": "Romantic drama",
           "orientation": "v",
           "showlegend": true,
           "textposition": "auto",
           "type": "bar",
           "x": [
            "Romantic drama"
           ],
           "xaxis": "x",
           "y": [
            6.77
           ],
           "yaxis": "y"
          }
         ],
         "name": "2000"
        },
        {
         "data": [
          {
           "alignmentgroup": "True",
           "hovertemplate": "<b>%{hovertext}</b><br><br>Genre=%{x}<br>Decade=2010<br>Proportion of movies in percentage=%{y}<extra></extra>",
           "hovertext": [
            "Nbr movies: 2219"
           ],
           "ids": [
            "Drama"
           ],
           "legendgroup": "Drama",
           "marker": {
            "color": "#636efa",
            "pattern": {
             "shape": ""
            }
           },
           "name": "Drama",
           "offsetgroup": "Drama",
           "orientation": "v",
           "showlegend": true,
           "textposition": "auto",
           "type": "bar",
           "x": [
            "Drama"
           ],
           "xaxis": "x",
           "y": [
            42.44
           ],
           "yaxis": "y"
          },
          {
           "alignmentgroup": "True",
           "hovertemplate": "<b>%{hovertext}</b><br><br>Genre=%{x}<br>Decade=2010<br>Proportion of movies in percentage=%{y}<extra></extra>",
           "hovertext": [
            "Nbr movies: 769"
           ],
           "ids": [
            "Comedy"
           ],
           "legendgroup": "Comedy",
           "marker": {
            "color": "#EF553B",
            "pattern": {
             "shape": ""
            }
           },
           "name": "Comedy",
           "offsetgroup": "Comedy",
           "orientation": "v",
           "showlegend": true,
           "textposition": "auto",
           "type": "bar",
           "x": [
            "Comedy"
           ],
           "xaxis": "x",
           "y": [
            14.71
           ],
           "yaxis": "y"
          },
          {
           "alignmentgroup": "True",
           "hovertemplate": "<b>%{hovertext}</b><br><br>Genre=%{x}<br>Decade=2010<br>Proportion of movies in percentage=%{y}<extra></extra>",
           "hovertext": [
            "Nbr movies: 733"
           ],
           "ids": [
            "Romance Film"
           ],
           "legendgroup": "Romance Film",
           "marker": {
            "color": "#00cc96",
            "pattern": {
             "shape": ""
            }
           },
           "name": "Romance Film",
           "offsetgroup": "Romance Film",
           "orientation": "v",
           "showlegend": true,
           "textposition": "auto",
           "type": "bar",
           "x": [
            "Romance Film"
           ],
           "xaxis": "x",
           "y": [
            14.02
           ],
           "yaxis": "y"
          },
          {
           "alignmentgroup": "True",
           "hovertemplate": "<b>%{hovertext}</b><br><br>Genre=%{x}<br>Decade=2010<br>Proportion of movies in percentage=%{y}<extra></extra>",
           "hovertext": [
            "Nbr movies: 2"
           ],
           "ids": [
            "Black-and-white"
           ],
           "legendgroup": "Black-and-white",
           "marker": {
            "color": "#ab63fa",
            "pattern": {
             "shape": ""
            }
           },
           "name": "Black-and-white",
           "offsetgroup": "Black-and-white",
           "orientation": "v",
           "showlegend": true,
           "textposition": "auto",
           "type": "bar",
           "x": [
            "Black-and-white"
           ],
           "xaxis": "x",
           "y": [
            0.04
           ],
           "yaxis": "y"
          },
          {
           "alignmentgroup": "True",
           "hovertemplate": "<b>%{hovertext}</b><br><br>Genre=%{x}<br>Decade=2010<br>Proportion of movies in percentage=%{y}<extra></extra>",
           "hovertext": [
            "Nbr movies: 816"
           ],
           "ids": [
            "Action"
           ],
           "legendgroup": "Action",
           "marker": {
            "color": "#FFA15A",
            "pattern": {
             "shape": ""
            }
           },
           "name": "Action",
           "offsetgroup": "Action",
           "orientation": "v",
           "showlegend": true,
           "textposition": "auto",
           "type": "bar",
           "x": [
            "Action"
           ],
           "xaxis": "x",
           "y": [
            15.61
           ],
           "yaxis": "y"
          },
          {
           "alignmentgroup": "True",
           "hovertemplate": "<b>%{hovertext}</b><br><br>Genre=%{x}<br>Decade=2010<br>Proportion of movies in percentage=%{y}<extra></extra>",
           "hovertext": [
            "Nbr movies: 546"
           ],
           "ids": [
            "Thriller"
           ],
           "legendgroup": "Thriller",
           "marker": {
            "color": "#19d3f3",
            "pattern": {
             "shape": ""
            }
           },
           "name": "Thriller",
           "offsetgroup": "Thriller",
           "orientation": "v",
           "showlegend": true,
           "textposition": "auto",
           "type": "bar",
           "x": [
            "Thriller"
           ],
           "xaxis": "x",
           "y": [
            10.44
           ],
           "yaxis": "y"
          },
          {
           "alignmentgroup": "True",
           "hovertemplate": "<b>%{hovertext}</b><br><br>Genre=%{x}<br>Decade=2010<br>Proportion of movies in percentage=%{y}<extra></extra>",
           "hovertext": [
            "Nbr movies: 73"
           ],
           "ids": [
            "Short Film"
           ],
           "legendgroup": "Short Film",
           "marker": {
            "color": "#FF6692",
            "pattern": {
             "shape": ""
            }
           },
           "name": "Short Film",
           "offsetgroup": "Short Film",
           "orientation": "v",
           "showlegend": true,
           "textposition": "auto",
           "type": "bar",
           "x": [
            "Short Film"
           ],
           "xaxis": "x",
           "y": [
            1.4
           ],
           "yaxis": "y"
          },
          {
           "alignmentgroup": "True",
           "hovertemplate": "<b>%{hovertext}</b><br><br>Genre=%{x}<br>Decade=2010<br>Proportion of movies in percentage=%{y}<extra></extra>",
           "hovertext": [
            "Nbr movies: 277"
           ],
           "ids": [
            "World cinema"
           ],
           "legendgroup": "World cinema",
           "marker": {
            "color": "#B6E880",
            "pattern": {
             "shape": ""
            }
           },
           "name": "World cinema",
           "offsetgroup": "World cinema",
           "orientation": "v",
           "showlegend": true,
           "textposition": "auto",
           "type": "bar",
           "x": [
            "World cinema"
           ],
           "xaxis": "x",
           "y": [
            5.3
           ],
           "yaxis": "y"
          },
          {
           "alignmentgroup": "True",
           "hovertemplate": "<b>%{hovertext}</b><br><br>Genre=%{x}<br>Decade=2010<br>Proportion of movies in percentage=%{y}<extra></extra>",
           "hovertext": [
            "Nbr movies: 315"
           ],
           "ids": [
            "Crime Fiction"
           ],
           "legendgroup": "Crime Fiction",
           "marker": {
            "color": "#FF97FF",
            "pattern": {
             "shape": ""
            }
           },
           "name": "Crime Fiction",
           "offsetgroup": "Crime Fiction",
           "orientation": "v",
           "showlegend": true,
           "textposition": "auto",
           "type": "bar",
           "x": [
            "Crime Fiction"
           ],
           "xaxis": "x",
           "y": [
            6.03
           ],
           "yaxis": "y"
          },
          {
           "alignmentgroup": "True",
           "hovertemplate": "<b>%{hovertext}</b><br><br>Genre=%{x}<br>Decade=2010<br>Proportion of movies in percentage=%{y}<extra></extra>",
           "hovertext": [
            "Nbr movies: 176"
           ],
           "ids": [
            "Indie"
           ],
           "legendgroup": "Indie",
           "marker": {
            "color": "#FECB52",
            "pattern": {
             "shape": ""
            }
           },
           "name": "Indie",
           "offsetgroup": "Indie",
           "orientation": "v",
           "showlegend": true,
           "textposition": "auto",
           "type": "bar",
           "x": [
            "Indie"
           ],
           "xaxis": "x",
           "y": [
            3.37
           ],
           "yaxis": "y"
          },
          {
           "alignmentgroup": "True",
           "hovertemplate": "<b>%{hovertext}</b><br><br>Genre=%{x}<br>Decade=2010<br>Proportion of movies in percentage=%{y}<extra></extra>",
           "hovertext": [
            "Nbr movies: 68"
           ],
           "ids": [
            "Documentary"
           ],
           "legendgroup": "Documentary",
           "marker": {
            "color": "#636efa",
            "pattern": {
             "shape": ""
            }
           },
           "name": "Documentary",
           "offsetgroup": "Documentary",
           "orientation": "v",
           "showlegend": true,
           "textposition": "auto",
           "type": "bar",
           "x": [
            "Documentary"
           ],
           "xaxis": "x",
           "y": [
            1.3
           ],
           "yaxis": "y"
          },
          {
           "alignmentgroup": "True",
           "hovertemplate": "<b>%{hovertext}</b><br><br>Genre=%{x}<br>Decade=2010<br>Proportion of movies in percentage=%{y}<extra></extra>",
           "hovertext": [
            "Nbr movies: 146"
           ],
           "ids": [
            "Horror"
           ],
           "legendgroup": "Horror",
           "marker": {
            "color": "#EF553B",
            "pattern": {
             "shape": ""
            }
           },
           "name": "Horror",
           "offsetgroup": "Horror",
           "orientation": "v",
           "showlegend": true,
           "textposition": "auto",
           "type": "bar",
           "x": [
            "Horror"
           ],
           "xaxis": "x",
           "y": [
            2.79
           ],
           "yaxis": "y"
          },
          {
           "alignmentgroup": "True",
           "hovertemplate": "<b>%{hovertext}</b><br><br>Genre=%{x}<br>Decade=2010<br>Proportion of movies in percentage=%{y}<extra></extra>",
           "hovertext": [
            "Nbr movies: 2"
           ],
           "ids": [
            "Silent film"
           ],
           "legendgroup": "Silent film",
           "marker": {
            "color": "#00cc96",
            "pattern": {
             "shape": ""
            }
           },
           "name": "Silent film",
           "offsetgroup": "Silent film",
           "orientation": "v",
           "showlegend": true,
           "textposition": "auto",
           "type": "bar",
           "x": [
            "Silent film"
           ],
           "xaxis": "x",
           "y": [
            0.04
           ],
           "yaxis": "y"
          },
          {
           "alignmentgroup": "True",
           "hovertemplate": "<b>%{hovertext}</b><br><br>Genre=%{x}<br>Decade=2010<br>Proportion of movies in percentage=%{y}<extra></extra>",
           "hovertext": [
            "Nbr movies: 233"
           ],
           "ids": [
            "Adventure"
           ],
           "legendgroup": "Adventure",
           "marker": {
            "color": "#ab63fa",
            "pattern": {
             "shape": ""
            }
           },
           "name": "Adventure",
           "offsetgroup": "Adventure",
           "orientation": "v",
           "showlegend": true,
           "textposition": "auto",
           "type": "bar",
           "x": [
            "Adventure"
           ],
           "xaxis": "x",
           "y": [
            4.46
           ],
           "yaxis": "y"
          },
          {
           "alignmentgroup": "True",
           "hovertemplate": "<b>%{hovertext}</b><br><br>Genre=%{x}<br>Decade=2010<br>Proportion of movies in percentage=%{y}<extra></extra>",
           "hovertext": [
            "Nbr movies: 185"
           ],
           "ids": [
            "Family Film"
           ],
           "legendgroup": "Family Film",
           "marker": {
            "color": "#FFA15A",
            "pattern": {
             "shape": ""
            }
           },
           "name": "Family Film",
           "offsetgroup": "Family Film",
           "orientation": "v",
           "showlegend": true,
           "textposition": "auto",
           "type": "bar",
           "x": [
            "Family Film"
           ],
           "xaxis": "x",
           "y": [
            3.54
           ],
           "yaxis": "y"
          },
          {
           "alignmentgroup": "True",
           "hovertemplate": "<b>%{hovertext}</b><br><br>Genre=%{x}<br>Decade=2010<br>Proportion of movies in percentage=%{y}<extra></extra>",
           "hovertext": [
            "Nbr movies: 199"
           ],
           "ids": [
            "Action/Adventure"
           ],
           "legendgroup": "Action/Adventure",
           "marker": {
            "color": "#19d3f3",
            "pattern": {
             "shape": ""
            }
           },
           "name": "Action/Adventure",
           "offsetgroup": "Action/Adventure",
           "orientation": "v",
           "showlegend": true,
           "textposition": "auto",
           "type": "bar",
           "x": [
            "Action/Adventure"
           ],
           "xaxis": "x",
           "y": [
            3.81
           ],
           "yaxis": "y"
          },
          {
           "alignmentgroup": "True",
           "hovertemplate": "<b>%{hovertext}</b><br><br>Genre=%{x}<br>Decade=2010<br>Proportion of movies in percentage=%{y}<extra></extra>",
           "hovertext": [
            "Nbr movies: 331"
           ],
           "ids": [
            "Comedy film"
           ],
           "legendgroup": "Comedy film",
           "marker": {
            "color": "#FF6692",
            "pattern": {
             "shape": ""
            }
           },
           "name": "Comedy film",
           "offsetgroup": "Comedy film",
           "orientation": "v",
           "showlegend": true,
           "textposition": "auto",
           "type": "bar",
           "x": [
            "Comedy film"
           ],
           "xaxis": "x",
           "y": [
            6.33
           ],
           "yaxis": "y"
          },
          {
           "alignmentgroup": "True",
           "hovertemplate": "<b>%{hovertext}</b><br><br>Genre=%{x}<br>Decade=2010<br>Proportion of movies in percentage=%{y}<extra></extra>",
           "hovertext": [
            "Nbr movies: 103"
           ],
           "ids": [
            "Musical"
           ],
           "legendgroup": "Musical",
           "marker": {
            "color": "#B6E880",
            "pattern": {
             "shape": ""
            }
           },
           "name": "Musical",
           "offsetgroup": "Musical",
           "orientation": "v",
           "showlegend": true,
           "textposition": "auto",
           "type": "bar",
           "x": [
            "Musical"
           ],
           "xaxis": "x",
           "y": [
            1.97
           ],
           "yaxis": "y"
          },
          {
           "alignmentgroup": "True",
           "hovertemplate": "<b>%{hovertext}</b><br><br>Genre=%{x}<br>Decade=2010<br>Proportion of movies in percentage=%{y}<extra></extra>",
           "hovertext": [
            "Nbr movies: 97"
           ],
           "ids": [
            "Animation"
           ],
           "legendgroup": "Animation",
           "marker": {
            "color": "#FF97FF",
            "pattern": {
             "shape": ""
            }
           },
           "name": "Animation",
           "offsetgroup": "Animation",
           "orientation": "v",
           "showlegend": true,
           "textposition": "auto",
           "type": "bar",
           "x": [
            "Animation"
           ],
           "xaxis": "x",
           "y": [
            1.86
           ],
           "yaxis": "y"
          },
          {
           "alignmentgroup": "True",
           "hovertemplate": "<b>%{hovertext}</b><br><br>Genre=%{x}<br>Decade=2010<br>Proportion of movies in percentage=%{y}<extra></extra>",
           "hovertext": [
            "Nbr movies: 125"
           ],
           "ids": [
            "Romantic drama"
           ],
           "legendgroup": "Romantic drama",
           "marker": {
            "color": "#FECB52",
            "pattern": {
             "shape": ""
            }
           },
           "name": "Romantic drama",
           "offsetgroup": "Romantic drama",
           "orientation": "v",
           "showlegend": true,
           "textposition": "auto",
           "type": "bar",
           "x": [
            "Romantic drama"
           ],
           "xaxis": "x",
           "y": [
            2.39
           ],
           "yaxis": "y"
          }
         ],
         "name": "2010"
        }
       ],
       "layout": {
        "barmode": "relative",
        "font": {
         "color": "white"
        },
        "legend": {
         "title": {
          "text": "Genre"
         },
         "tracegroupgap": 0
        },
        "margin": {
         "t": 60
        },
        "paper_bgcolor": "black",
        "plot_bgcolor": "black",
        "showlegend": false,
        "sliders": [
         {
          "active": 0,
          "currentvalue": {
           "prefix": "Decade="
          },
          "len": 0.9,
          "pad": {
           "b": 10,
           "t": 60
          },
          "steps": [
           {
            "args": [
             [
              "1880"
             ],
             {
              "frame": {
               "duration": 0,
               "redraw": true
              },
              "fromcurrent": true,
              "mode": "immediate",
              "transition": {
               "duration": 0,
               "easing": "linear"
              }
             }
            ],
            "label": "1880",
            "method": "animate"
           },
           {
            "args": [
             [
              "1890"
             ],
             {
              "frame": {
               "duration": 0,
               "redraw": true
              },
              "fromcurrent": true,
              "mode": "immediate",
              "transition": {
               "duration": 0,
               "easing": "linear"
              }
             }
            ],
            "label": "1890",
            "method": "animate"
           },
           {
            "args": [
             [
              "1900"
             ],
             {
              "frame": {
               "duration": 0,
               "redraw": true
              },
              "fromcurrent": true,
              "mode": "immediate",
              "transition": {
               "duration": 0,
               "easing": "linear"
              }
             }
            ],
            "label": "1900",
            "method": "animate"
           },
           {
            "args": [
             [
              "1910"
             ],
             {
              "frame": {
               "duration": 0,
               "redraw": true
              },
              "fromcurrent": true,
              "mode": "immediate",
              "transition": {
               "duration": 0,
               "easing": "linear"
              }
             }
            ],
            "label": "1910",
            "method": "animate"
           },
           {
            "args": [
             [
              "1920"
             ],
             {
              "frame": {
               "duration": 0,
               "redraw": true
              },
              "fromcurrent": true,
              "mode": "immediate",
              "transition": {
               "duration": 0,
               "easing": "linear"
              }
             }
            ],
            "label": "1920",
            "method": "animate"
           },
           {
            "args": [
             [
              "1930"
             ],
             {
              "frame": {
               "duration": 0,
               "redraw": true
              },
              "fromcurrent": true,
              "mode": "immediate",
              "transition": {
               "duration": 0,
               "easing": "linear"
              }
             }
            ],
            "label": "1930",
            "method": "animate"
           },
           {
            "args": [
             [
              "1940"
             ],
             {
              "frame": {
               "duration": 0,
               "redraw": true
              },
              "fromcurrent": true,
              "mode": "immediate",
              "transition": {
               "duration": 0,
               "easing": "linear"
              }
             }
            ],
            "label": "1940",
            "method": "animate"
           },
           {
            "args": [
             [
              "1950"
             ],
             {
              "frame": {
               "duration": 0,
               "redraw": true
              },
              "fromcurrent": true,
              "mode": "immediate",
              "transition": {
               "duration": 0,
               "easing": "linear"
              }
             }
            ],
            "label": "1950",
            "method": "animate"
           },
           {
            "args": [
             [
              "1960"
             ],
             {
              "frame": {
               "duration": 0,
               "redraw": true
              },
              "fromcurrent": true,
              "mode": "immediate",
              "transition": {
               "duration": 0,
               "easing": "linear"
              }
             }
            ],
            "label": "1960",
            "method": "animate"
           },
           {
            "args": [
             [
              "1970"
             ],
             {
              "frame": {
               "duration": 0,
               "redraw": true
              },
              "fromcurrent": true,
              "mode": "immediate",
              "transition": {
               "duration": 0,
               "easing": "linear"
              }
             }
            ],
            "label": "1970",
            "method": "animate"
           },
           {
            "args": [
             [
              "1980"
             ],
             {
              "frame": {
               "duration": 0,
               "redraw": true
              },
              "fromcurrent": true,
              "mode": "immediate",
              "transition": {
               "duration": 0,
               "easing": "linear"
              }
             }
            ],
            "label": "1980",
            "method": "animate"
           },
           {
            "args": [
             [
              "1990"
             ],
             {
              "frame": {
               "duration": 0,
               "redraw": true
              },
              "fromcurrent": true,
              "mode": "immediate",
              "transition": {
               "duration": 0,
               "easing": "linear"
              }
             }
            ],
            "label": "1990",
            "method": "animate"
           },
           {
            "args": [
             [
              "2000"
             ],
             {
              "frame": {
               "duration": 0,
               "redraw": true
              },
              "fromcurrent": true,
              "mode": "immediate",
              "transition": {
               "duration": 0,
               "easing": "linear"
              }
             }
            ],
            "label": "2000",
            "method": "animate"
           },
           {
            "args": [
             [
              "2010"
             ],
             {
              "frame": {
               "duration": 0,
               "redraw": true
              },
              "fromcurrent": true,
              "mode": "immediate",
              "transition": {
               "duration": 0,
               "easing": "linear"
              }
             }
            ],
            "label": "2010",
            "method": "animate"
           }
          ],
          "x": 0.1,
          "xanchor": "left",
          "y": 0,
          "yanchor": "top"
         }
        ],
        "template": {
         "data": {
          "bar": [
           {
            "error_x": {
             "color": "#2a3f5f"
            },
            "error_y": {
             "color": "#2a3f5f"
            },
            "marker": {
             "line": {
              "color": "#E5ECF6",
              "width": 0.5
             },
             "pattern": {
              "fillmode": "overlay",
              "size": 10,
              "solidity": 0.2
             }
            },
            "type": "bar"
           }
          ],
          "barpolar": [
           {
            "marker": {
             "line": {
              "color": "#E5ECF6",
              "width": 0.5
             },
             "pattern": {
              "fillmode": "overlay",
              "size": 10,
              "solidity": 0.2
             }
            },
            "type": "barpolar"
           }
          ],
          "carpet": [
           {
            "aaxis": {
             "endlinecolor": "#2a3f5f",
             "gridcolor": "white",
             "linecolor": "white",
             "minorgridcolor": "white",
             "startlinecolor": "#2a3f5f"
            },
            "baxis": {
             "endlinecolor": "#2a3f5f",
             "gridcolor": "white",
             "linecolor": "white",
             "minorgridcolor": "white",
             "startlinecolor": "#2a3f5f"
            },
            "type": "carpet"
           }
          ],
          "choropleth": [
           {
            "colorbar": {
             "outlinewidth": 0,
             "ticks": ""
            },
            "type": "choropleth"
           }
          ],
          "contour": [
           {
            "colorbar": {
             "outlinewidth": 0,
             "ticks": ""
            },
            "colorscale": [
             [
              0,
              "#0d0887"
             ],
             [
              0.1111111111111111,
              "#46039f"
             ],
             [
              0.2222222222222222,
              "#7201a8"
             ],
             [
              0.3333333333333333,
              "#9c179e"
             ],
             [
              0.4444444444444444,
              "#bd3786"
             ],
             [
              0.5555555555555556,
              "#d8576b"
             ],
             [
              0.6666666666666666,
              "#ed7953"
             ],
             [
              0.7777777777777778,
              "#fb9f3a"
             ],
             [
              0.8888888888888888,
              "#fdca26"
             ],
             [
              1,
              "#f0f921"
             ]
            ],
            "type": "contour"
           }
          ],
          "contourcarpet": [
           {
            "colorbar": {
             "outlinewidth": 0,
             "ticks": ""
            },
            "type": "contourcarpet"
           }
          ],
          "heatmap": [
           {
            "colorbar": {
             "outlinewidth": 0,
             "ticks": ""
            },
            "colorscale": [
             [
              0,
              "#0d0887"
             ],
             [
              0.1111111111111111,
              "#46039f"
             ],
             [
              0.2222222222222222,
              "#7201a8"
             ],
             [
              0.3333333333333333,
              "#9c179e"
             ],
             [
              0.4444444444444444,
              "#bd3786"
             ],
             [
              0.5555555555555556,
              "#d8576b"
             ],
             [
              0.6666666666666666,
              "#ed7953"
             ],
             [
              0.7777777777777778,
              "#fb9f3a"
             ],
             [
              0.8888888888888888,
              "#fdca26"
             ],
             [
              1,
              "#f0f921"
             ]
            ],
            "type": "heatmap"
           }
          ],
          "heatmapgl": [
           {
            "colorbar": {
             "outlinewidth": 0,
             "ticks": ""
            },
            "colorscale": [
             [
              0,
              "#0d0887"
             ],
             [
              0.1111111111111111,
              "#46039f"
             ],
             [
              0.2222222222222222,
              "#7201a8"
             ],
             [
              0.3333333333333333,
              "#9c179e"
             ],
             [
              0.4444444444444444,
              "#bd3786"
             ],
             [
              0.5555555555555556,
              "#d8576b"
             ],
             [
              0.6666666666666666,
              "#ed7953"
             ],
             [
              0.7777777777777778,
              "#fb9f3a"
             ],
             [
              0.8888888888888888,
              "#fdca26"
             ],
             [
              1,
              "#f0f921"
             ]
            ],
            "type": "heatmapgl"
           }
          ],
          "histogram": [
           {
            "marker": {
             "pattern": {
              "fillmode": "overlay",
              "size": 10,
              "solidity": 0.2
             }
            },
            "type": "histogram"
           }
          ],
          "histogram2d": [
           {
            "colorbar": {
             "outlinewidth": 0,
             "ticks": ""
            },
            "colorscale": [
             [
              0,
              "#0d0887"
             ],
             [
              0.1111111111111111,
              "#46039f"
             ],
             [
              0.2222222222222222,
              "#7201a8"
             ],
             [
              0.3333333333333333,
              "#9c179e"
             ],
             [
              0.4444444444444444,
              "#bd3786"
             ],
             [
              0.5555555555555556,
              "#d8576b"
             ],
             [
              0.6666666666666666,
              "#ed7953"
             ],
             [
              0.7777777777777778,
              "#fb9f3a"
             ],
             [
              0.8888888888888888,
              "#fdca26"
             ],
             [
              1,
              "#f0f921"
             ]
            ],
            "type": "histogram2d"
           }
          ],
          "histogram2dcontour": [
           {
            "colorbar": {
             "outlinewidth": 0,
             "ticks": ""
            },
            "colorscale": [
             [
              0,
              "#0d0887"
             ],
             [
              0.1111111111111111,
              "#46039f"
             ],
             [
              0.2222222222222222,
              "#7201a8"
             ],
             [
              0.3333333333333333,
              "#9c179e"
             ],
             [
              0.4444444444444444,
              "#bd3786"
             ],
             [
              0.5555555555555556,
              "#d8576b"
             ],
             [
              0.6666666666666666,
              "#ed7953"
             ],
             [
              0.7777777777777778,
              "#fb9f3a"
             ],
             [
              0.8888888888888888,
              "#fdca26"
             ],
             [
              1,
              "#f0f921"
             ]
            ],
            "type": "histogram2dcontour"
           }
          ],
          "mesh3d": [
           {
            "colorbar": {
             "outlinewidth": 0,
             "ticks": ""
            },
            "type": "mesh3d"
           }
          ],
          "parcoords": [
           {
            "line": {
             "colorbar": {
              "outlinewidth": 0,
              "ticks": ""
             }
            },
            "type": "parcoords"
           }
          ],
          "pie": [
           {
            "automargin": true,
            "type": "pie"
           }
          ],
          "scatter": [
           {
            "marker": {
             "colorbar": {
              "outlinewidth": 0,
              "ticks": ""
             }
            },
            "type": "scatter"
           }
          ],
          "scatter3d": [
           {
            "line": {
             "colorbar": {
              "outlinewidth": 0,
              "ticks": ""
             }
            },
            "marker": {
             "colorbar": {
              "outlinewidth": 0,
              "ticks": ""
             }
            },
            "type": "scatter3d"
           }
          ],
          "scattercarpet": [
           {
            "marker": {
             "colorbar": {
              "outlinewidth": 0,
              "ticks": ""
             }
            },
            "type": "scattercarpet"
           }
          ],
          "scattergeo": [
           {
            "marker": {
             "colorbar": {
              "outlinewidth": 0,
              "ticks": ""
             }
            },
            "type": "scattergeo"
           }
          ],
          "scattergl": [
           {
            "marker": {
             "colorbar": {
              "outlinewidth": 0,
              "ticks": ""
             }
            },
            "type": "scattergl"
           }
          ],
          "scattermapbox": [
           {
            "marker": {
             "colorbar": {
              "outlinewidth": 0,
              "ticks": ""
             }
            },
            "type": "scattermapbox"
           }
          ],
          "scatterpolar": [
           {
            "marker": {
             "colorbar": {
              "outlinewidth": 0,
              "ticks": ""
             }
            },
            "type": "scatterpolar"
           }
          ],
          "scatterpolargl": [
           {
            "marker": {
             "colorbar": {
              "outlinewidth": 0,
              "ticks": ""
             }
            },
            "type": "scatterpolargl"
           }
          ],
          "scatterternary": [
           {
            "marker": {
             "colorbar": {
              "outlinewidth": 0,
              "ticks": ""
             }
            },
            "type": "scatterternary"
           }
          ],
          "surface": [
           {
            "colorbar": {
             "outlinewidth": 0,
             "ticks": ""
            },
            "colorscale": [
             [
              0,
              "#0d0887"
             ],
             [
              0.1111111111111111,
              "#46039f"
             ],
             [
              0.2222222222222222,
              "#7201a8"
             ],
             [
              0.3333333333333333,
              "#9c179e"
             ],
             [
              0.4444444444444444,
              "#bd3786"
             ],
             [
              0.5555555555555556,
              "#d8576b"
             ],
             [
              0.6666666666666666,
              "#ed7953"
             ],
             [
              0.7777777777777778,
              "#fb9f3a"
             ],
             [
              0.8888888888888888,
              "#fdca26"
             ],
             [
              1,
              "#f0f921"
             ]
            ],
            "type": "surface"
           }
          ],
          "table": [
           {
            "cells": {
             "fill": {
              "color": "#EBF0F8"
             },
             "line": {
              "color": "white"
             }
            },
            "header": {
             "fill": {
              "color": "#C8D4E3"
             },
             "line": {
              "color": "white"
             }
            },
            "type": "table"
           }
          ]
         },
         "layout": {
          "annotationdefaults": {
           "arrowcolor": "#2a3f5f",
           "arrowhead": 0,
           "arrowwidth": 1
          },
          "autotypenumbers": "strict",
          "coloraxis": {
           "colorbar": {
            "outlinewidth": 0,
            "ticks": ""
           }
          },
          "colorscale": {
           "diverging": [
            [
             0,
             "#8e0152"
            ],
            [
             0.1,
             "#c51b7d"
            ],
            [
             0.2,
             "#de77ae"
            ],
            [
             0.3,
             "#f1b6da"
            ],
            [
             0.4,
             "#fde0ef"
            ],
            [
             0.5,
             "#f7f7f7"
            ],
            [
             0.6,
             "#e6f5d0"
            ],
            [
             0.7,
             "#b8e186"
            ],
            [
             0.8,
             "#7fbc41"
            ],
            [
             0.9,
             "#4d9221"
            ],
            [
             1,
             "#276419"
            ]
           ],
           "sequential": [
            [
             0,
             "#0d0887"
            ],
            [
             0.1111111111111111,
             "#46039f"
            ],
            [
             0.2222222222222222,
             "#7201a8"
            ],
            [
             0.3333333333333333,
             "#9c179e"
            ],
            [
             0.4444444444444444,
             "#bd3786"
            ],
            [
             0.5555555555555556,
             "#d8576b"
            ],
            [
             0.6666666666666666,
             "#ed7953"
            ],
            [
             0.7777777777777778,
             "#fb9f3a"
            ],
            [
             0.8888888888888888,
             "#fdca26"
            ],
            [
             1,
             "#f0f921"
            ]
           ],
           "sequentialminus": [
            [
             0,
             "#0d0887"
            ],
            [
             0.1111111111111111,
             "#46039f"
            ],
            [
             0.2222222222222222,
             "#7201a8"
            ],
            [
             0.3333333333333333,
             "#9c179e"
            ],
            [
             0.4444444444444444,
             "#bd3786"
            ],
            [
             0.5555555555555556,
             "#d8576b"
            ],
            [
             0.6666666666666666,
             "#ed7953"
            ],
            [
             0.7777777777777778,
             "#fb9f3a"
            ],
            [
             0.8888888888888888,
             "#fdca26"
            ],
            [
             1,
             "#f0f921"
            ]
           ]
          },
          "colorway": [
           "#636efa",
           "#EF553B",
           "#00cc96",
           "#ab63fa",
           "#FFA15A",
           "#19d3f3",
           "#FF6692",
           "#B6E880",
           "#FF97FF",
           "#FECB52"
          ],
          "font": {
           "color": "#2a3f5f"
          },
          "geo": {
           "bgcolor": "white",
           "lakecolor": "white",
           "landcolor": "#E5ECF6",
           "showlakes": true,
           "showland": true,
           "subunitcolor": "white"
          },
          "hoverlabel": {
           "align": "left"
          },
          "hovermode": "closest",
          "mapbox": {
           "style": "light"
          },
          "paper_bgcolor": "white",
          "plot_bgcolor": "#E5ECF6",
          "polar": {
           "angularaxis": {
            "gridcolor": "white",
            "linecolor": "white",
            "ticks": ""
           },
           "bgcolor": "#E5ECF6",
           "radialaxis": {
            "gridcolor": "white",
            "linecolor": "white",
            "ticks": ""
           }
          },
          "scene": {
           "xaxis": {
            "backgroundcolor": "#E5ECF6",
            "gridcolor": "white",
            "gridwidth": 2,
            "linecolor": "white",
            "showbackground": true,
            "ticks": "",
            "zerolinecolor": "white"
           },
           "yaxis": {
            "backgroundcolor": "#E5ECF6",
            "gridcolor": "white",
            "gridwidth": 2,
            "linecolor": "white",
            "showbackground": true,
            "ticks": "",
            "zerolinecolor": "white"
           },
           "zaxis": {
            "backgroundcolor": "#E5ECF6",
            "gridcolor": "white",
            "gridwidth": 2,
            "linecolor": "white",
            "showbackground": true,
            "ticks": "",
            "zerolinecolor": "white"
           }
          },
          "shapedefaults": {
           "line": {
            "color": "#2a3f5f"
           }
          },
          "ternary": {
           "aaxis": {
            "gridcolor": "white",
            "linecolor": "white",
            "ticks": ""
           },
           "baxis": {
            "gridcolor": "white",
            "linecolor": "white",
            "ticks": ""
           },
           "bgcolor": "#E5ECF6",
           "caxis": {
            "gridcolor": "white",
            "linecolor": "white",
            "ticks": ""
           }
          },
          "title": {
           "x": 0.05
          },
          "xaxis": {
           "automargin": true,
           "gridcolor": "white",
           "linecolor": "white",
           "ticks": "",
           "title": {
            "standoff": 15
           },
           "zerolinecolor": "white",
           "zerolinewidth": 2
          },
          "yaxis": {
           "automargin": true,
           "gridcolor": "white",
           "linecolor": "white",
           "ticks": "",
           "title": {
            "standoff": 15
           },
           "zerolinecolor": "white",
           "zerolinewidth": 2
          }
         }
        },
        "title": {
         "text": "Distribution of movies genres across time",
         "x": 0.5,
         "xanchor": "center",
         "y": 0.98,
         "yanchor": "top"
        },
        "updatemenus": [
         {
          "bgcolor": "grey",
          "buttons": [
           {
            "args": [
             null,
             {
              "frame": {
               "duration": 500,
               "redraw": false
              },
              "fromcurrent": true,
              "transition": {
               "duration": 400,
               "easing": "quadratic-in-out"
              }
             }
            ],
            "label": "Play",
            "method": "animate"
           },
           {
            "args": [
             [
              null
             ],
             {
              "frame": {
               "duration": 0,
               "redraw": false
              },
              "mode": "immediate",
              "transition": {
               "duration": 0
              }
             }
            ],
            "label": "Pause",
            "method": "animate"
           }
          ],
          "font": {
           "color": "black"
          },
          "type": "buttons",
          "x": -0.1,
          "xanchor": "left",
          "y": 1,
          "yanchor": "bottom"
         }
        ],
        "xaxis": {
         "anchor": "y",
         "categoryarray": [
          "Drama",
          "Comedy",
          "Romance Film",
          "Black-and-white",
          "Action",
          "Thriller",
          "Short Film",
          "World cinema",
          "Crime Fiction",
          "Indie",
          "Documentary",
          "Horror",
          "Silent film",
          "Adventure",
          "Family Film",
          "Action/Adventure",
          "Comedy film",
          "Musical",
          "Animation",
          "Romantic drama"
         ],
         "categoryorder": "array",
         "domain": [
          0,
          1
         ],
         "title": {
          "text": ""
         }
        },
        "yaxis": {
         "anchor": "x",
         "domain": [
          0,
          1
         ],
         "range": [
          0,
          80
         ],
         "title": {
          "text": "Proportion of movies"
         }
        }
       }
      }
     },
     "metadata": {},
     "output_type": "display_data"
    }
   ],
   "source": [
    "import plotly.express as px\n",
    "\n",
    "fig = px.bar(genre_counts_prop_df, x=\"Genre\", y=\"Proportion of movies in percentage\", animation_frame=\"Decade\",\n",
    "             animation_group=\"Genre\", color=\"Genre\", hover_name=\"Number of movies\", range_y=[0, 80])\n",
    "\n",
    "fig[\"layout\"].pop(\"updatemenus\")  # optional, drop animation buttons\n",
    "# move the animation button a bit up\n",
    "fig.update_layout(updatemenus=[dict(type=\"buttons\", x=-0.1, y=1, xanchor=\"left\", yanchor=\"bottom\")])\n",
    "fig.update_layout(showlegend=False)\n",
    "# center the title\n",
    "\n",
    "fig.update_layout(\n",
    "    title=\"Distribution of movies genres across time\",\n",
    "    yaxis_title=\"Proportion of movies\",\n",
    "    xaxis_title=\"\"\n",
    ")\n",
    "# control the speed of the animation\n",
    "fig.update_layout(\n",
    "    updatemenus=[\n",
    "        dict(\n",
    "            type=\"buttons\",\n",
    "            font=dict(color=\"black\"),\n",
    "            bgcolor=\"grey\",\n",
    "            buttons=[\n",
    "                dict(\n",
    "                    args=[None, {\"frame\": {\"duration\": 500, \"redraw\": False},\n",
    "                                 \"fromcurrent\": True, \"transition\": {\"duration\": 400, \"easing\": \"quadratic-in-out\"}}],\n",
    "                    label=\"Play\",\n",
    "                    method=\"animate\"\n",
    "                    # white \n",
    "                ),\n",
    "                dict(\n",
    "                    args=[[None], {\"frame\": {\"duration\": 0, \"redraw\": False},\n",
    "                                   \"mode\": \"immediate\",\n",
    "                                   \"transition\": {\"duration\": 0}}],\n",
    "                    label=\"Pause\",\n",
    "                    method=\"animate\"\n",
    "                )\n",
    "            ]\n",
    "        )\n",
    "    ]\n",
    ")\n",
    "fig.update_layout(\n",
    "    title={\n",
    "        'text': \"Distribution of movies genres across time\",\n",
    "        'y': 0.98,\n",
    "        'x': 0.5,\n",
    "        'xanchor': 'center',\n",
    "        'yanchor': 'top'})\n",
    "\n",
    "# Make it suitable for a site with a black background\n",
    "fig.update_layout(\n",
    "    plot_bgcolor='black',\n",
    "    paper_bgcolor='black',\n",
    "    font_color='white'\n",
    ")\n",
    "# remove x axis title\n",
    "fig.update_xaxes(title_text='')\n",
    "fig.write_html(\"Plots/genre_distrib.html\")\n",
    "fig.show()\n"
   ]
  }
 ],
 "metadata": {
  "kernelspec": {
   "display_name": "base",
   "language": "python",
   "name": "python3"
  },
  "language_info": {
   "codemirror_mode": {
    "name": "ipython",
    "version": 3
   },
   "file_extension": ".py",
   "mimetype": "text/x-python",
   "name": "python",
   "nbconvert_exporter": "python",
   "pygments_lexer": "ipython3",
   "version": "3.9.12"
  },
  "orig_nbformat": 4,
  "vscode": {
   "interpreter": {
    "hash": "cda0ac541ab6c535dcb4ffe1de6394d0d0ba460ea4bcec2c3250fd08f595b9ac"
   }
  }
 },
 "nbformat": 4,
 "nbformat_minor": 2
}
